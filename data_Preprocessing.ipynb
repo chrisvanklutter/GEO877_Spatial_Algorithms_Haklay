{
 "cells": [
  {
   "cell_type": "markdown",
   "metadata": {},
   "source": [
    "# GEO877: Spatial Algorithms - Haklay - Preprocessing\n",
    "\n"
   ]
  },
  {
   "cell_type": "markdown",
   "metadata": {},
   "source": [
    "## Introduction\n",
    "\n",
    "In Haklay paper, a comparison has been made between OSM dataset and official datasets from the UK. To reproduce it for Switzerland, we have decided to compare OSM with ASTRA."
   ]
  },
  {
   "cell_type": "code",
   "execution_count": 38,
   "metadata": {},
   "outputs": [],
   "source": [
    "# Basic geomtries from GEO877\n",
    "from geospatial import *\n",
    "\n",
    "# Plotting, Arrays and Filepath handling\n",
    "import numpy as np\n",
    "from pathlib import Path\n",
    "import matplotlib.pyplot as plt\n",
    "from itertools import chain\n",
    "\n",
    "# Transformation function based on pyproj Transformer\n",
    "from pyproj import Transformer\n",
    "\n",
    "# OSM Part\n",
    "import geopandas as gpd\n",
    "\n",
    "# ASTRA Part\n",
    "import fiona\n",
    "\n",
    "# Writing to Pickle\n",
    "import pickle\n",
    "\n",
    "#Stitching together code snippets\n",
    "import nbimporter\n",
    "from Buffer import buffer\n",
    "from Segment_Polygon_Intersection_AlgorithmsOnly_updated import *\n",
    "from Similarity_Measures import dtw\n",
    "\n",
    "plot_steps = False\n",
    "pickle_processe = True"
   ]
  },
  {
   "cell_type": "markdown",
   "metadata": {},
   "source": [
    "## Classes and functions"
   ]
  },
  {
   "cell_type": "code",
   "execution_count": 2,
   "metadata": {
    "tags": []
   },
   "outputs": [],
   "source": [
    "# Define class to store attributes with each motorway segment\n",
    "class MotorwaySegment(Segment):\n",
    "    def __init__(self, start, end, name=str(), origin_name=str(), source=str(), crs=str()):\n",
    "        super().__init__(start, end)\n",
    "        self.name = name\n",
    "        self.origin_name = origin_name\n",
    "        self.source = source\n",
    "        self.crs = crs\n",
    "    \n",
    "    # Overwrite representation\n",
    "    def __repr__(self):\n",
    "        return f'MotorwaySegment of \"{self.name}\" with start {self.start} and end {self.end}.' \n",
    "    \n",
    "    def plot_seg(self, ax = None, color = 'blue', linewidth = 1, label = 'segments'):\n",
    "        xs = [self.start.x, self.end.x]\n",
    "        ys = [self.start.y, self.end.y]\n",
    "        if ax:\n",
    "            ax.plot(xs, ys, color = color, linewidth = linewidth, label=label)\n",
    "        else:\n",
    "            plt.plot(xs, ys, color = color, linewidth = linewidth, label=label)\n",
    "\n"
   ]
  },
  {
   "cell_type": "code",
   "execution_count": 3,
   "metadata": {
    "tags": []
   },
   "outputs": [],
   "source": [
    "def name_mapping(in_name):\n",
    "    #special cases, checked on QGIS:\n",
    "    name_map = {\"32\": 1,\n",
    "            \"A1;A4\": 1,\n",
    "            \"A1;A2\": 1,\n",
    "            \"A1;A3\": 1,\n",
    "            \"A1;A6\": 1,\n",
    "            \"A1;A9\": 1,\n",
    "            \"A9;A 2\": 2,\n",
    "            \"A2;A3\": 2,\n",
    "            \"A3;A4\": 3,\n",
    "            \"53\": 15,\n",
    "            \"A20;20\": 20\n",
    "           }\n",
    "    if in_name in name_map.keys():\n",
    "        return name_map[in_name]\n",
    "\n",
    "    #correct cases:\n",
    "    if \";\" not in in_name:\n",
    "        return int(''.join(filter(str.isdigit, in_name)))\n",
    "    \n",
    "    #catch new roads names\n",
    "    else:\n",
    "        print(in_name)\n",
    "        print(\"Name not treated\")"
   ]
  },
  {
   "cell_type": "code",
   "execution_count": 4,
   "metadata": {
    "tags": []
   },
   "outputs": [],
   "source": [
    "def linestring_to_motorwaysegment_list(ls_seg):\n",
    "    name = ls_seg[\"name\"]\n",
    "    name_origin = ls_seg[\"ref\"]\n",
    "    source = ls_seg[\"source\"]\n",
    "    crs = ls_seg[\"crs\"]\n",
    "    point_list = tuple(Point(x,y) for x,y in zip(*ls_seg.geometry.coords.xy))\n",
    "    if len(point_list) <=1:\n",
    "        print(\"Cannot build MotorwaySegment from line with less than 2 points!\")\n",
    "        return\n",
    "    else:\n",
    "        segment_list = [MotorwaySegment(start, end, name, name_origin, source, crs) for start,end in zip(point_list[:-1],point_list[1:])]\n",
    "        return segment_list"
   ]
  },
  {
   "cell_type": "code",
   "execution_count": 5,
   "metadata": {
    "tags": []
   },
   "outputs": [],
   "source": [
    "def transform_segment(segment, transformer, to_crs):\n",
    "    start = segment.start\n",
    "    end = segment.end\n",
    "    name = segment.name\n",
    "    source = segment.source\n",
    "    crs = segment.crs\n",
    "    start_transformed = transformer.transform(start.y, start.x)\n",
    "    end_transformed = transformer.transform(end.y, end.x)\n",
    "    transformed_segment = MotorwaySegment(Point(*start_transformed), Point(*end_transformed), name, source, to_crs)\n",
    "    return transformed_segment"
   ]
  },
  {
   "cell_type": "code",
   "execution_count": 6,
   "metadata": {
    "tags": []
   },
   "outputs": [],
   "source": [
    "class MotorwayLine():\n",
    "    #initialise\n",
    "    def __init__(self, data=None, xcol=None, ycol=None): #data = list of segments from the same street\n",
    "        self.segments = []\n",
    "        self.name = data[0].name\n",
    "        self.points = []\n",
    "        self.points_x = [] #to test\n",
    "        self.points_y = [] #to test\n",
    "        \n",
    "        for d in data:\n",
    "            #add segment\n",
    "            self.segments.append(d)\n",
    "            #add points - there will be duplicates /!\\\n",
    "            self.points.append(d.start)\n",
    "            self.points.append(d.end)\n",
    "            self.points_x.append(d.start.x)\n",
    "            self.points_x.append(d.end.x)\n",
    "            self.points_y.append(d.start.y)\n",
    "            self.points_y.append(d.end.y)  \n",
    "    \n",
    "    def __len__(self):\n",
    "        return len(self.segments)\n",
    "    \n",
    "        # Test for equality between Segments - we treat segments going in opposite directions as equal here\n",
    "    def __eq__(self, other): \n",
    "        if (self.points_x == other.points_x or self.points_x[::-1] == other.points_x) and (self.points_y == other.points_y or self.points_y[::-1] == other.points_y) :\n",
    "            return True\n",
    "        else:\n",
    "            return False\n",
    "            # We need this method so that the class will behave sensibly in sets and dictionaries\n",
    "    \n",
    "    def __hash__(self):\n",
    "        return hash((self.segments, self.points_x, self.points_y)) \n",
    "    \n",
    "    def removeDuplicates(self):\n",
    "        oldn = len(self.points)\n",
    "        self.points = list(dict.fromkeys(self.points)) # Get rid of the duplicates\n",
    "        n = len(self.points)\n",
    "        print(f'The old line had {oldn} points, now we only have {n}.')\n",
    "        return self\n",
    "        \n",
    "    def bbox(self):\n",
    "        x = [i.x for i in self.points]   # extract all x coords as a list\n",
    "        y = [i.y for i in self.points]   # extract all y coords as a list\n",
    "\n",
    "        # determine corners, calculate centre and area\n",
    "        self.ll = Point(min(x), min(y))    # lower-left corner (min x, min y)\n",
    "        self.ur = Point(max(x), max(y))    # upper-right corner (max x, max y)\n",
    "        self.ctr = Point((max(x)-min(x))/2, (max(y)-min(y))/2)   # centre of box\n",
    "        self.area = (abs(max(x)-min(x)))*abs((max(y)-min(y)))    # area of box\n",
    "        print(f'Bounding box with lower-left {self.ll} and upper-right {self.ur}' )\n",
    "        return self.ll, self.ur\n",
    "    \n",
    "    def plot_bbox(self):\n",
    "        ll, ur = self.bbox()\n",
    "        plt.plot([ll.x, ll.x, ur.x, ur.x, ll.x], [ll.y, ur.y, ur.y, ll.y, ll.y], linestyle='dashed')\n",
    "\n",
    "    def plot_seg(self, ax = None, color = 'blue', linewidth = 1, label = 'segments'):\n",
    "        for seg in self.segments:\n",
    "            seg.plot_seg(ax = ax, color = color, linewidth = linewidth, label = label)\n",
    "    \n",
    "    def plot_seg2(self):\n",
    "        xs = []\n",
    "        ys = []\n",
    "        for seg in self.segments:\n",
    "            xs.append(seg.start.x)\n",
    "            xs.append(seg.end.x)\n",
    "            ys.append(seg.start.y)\n",
    "            ys.append(seg.end.y)\n",
    "\n",
    "        plt.plot(xs, ys)\n",
    "        \n",
    "        \n",
    "     # Overwrite representation\n",
    "    def __repr__(self):\n",
    "        return f'MotorwayLine \"{self.name}\" has \"{len(self.segments)}\" segments, and \"{len(self.points)}\" points.'    \n"
   ]
  },
  {
   "cell_type": "code",
   "execution_count": 39,
   "metadata": {},
   "outputs": [],
   "source": [
    "def write_to_pickle(variable, filename):\n",
    "    with open(filename, 'wb') as f:\n",
    "        pickle.dump(variable, f)\n",
    "\n",
    "def read_from_pickle(filename):\n",
    "    with open(filename, 'rb') as f:\n",
    "        variable = pickle.load(f)\n",
    "    return variable"
   ]
  },
  {
   "cell_type": "markdown",
   "metadata": {},
   "source": [
    "## OSM"
   ]
  },
  {
   "cell_type": "markdown",
   "metadata": {},
   "source": [
    "### Download data"
   ]
  },
  {
   "cell_type": "code",
   "execution_count": 7,
   "metadata": {},
   "outputs": [],
   "source": [
    "# Define Filepath and OSM tags\n",
    "tags = {\"highway\":\"motorway\"}\n",
    "motorway_file_path = Path(r\"./data/motorways_osm.geojson\")\n",
    "\n",
    "# Download OSM Data to GeoDataFrame() if GeoJSON does not exist\n",
    "if motorway_file_path.is_file():\n",
    "    motorways = gpd.read_file(motorway_file_path)\n",
    "else:\n",
    "    # Needs special requirements for shapely, geopandas and other packages /!\\\n",
    "    # Use ox package to download geometries from\n",
    "    import osmnx as ox\n",
    "    motorways = ox.geometries_from_place(\"Switzerland\",tags=tags)\n",
    "    # Convert lists to strings for GeoJSON\n",
    "    motorways = motorways.apply(lambda col: col.astype(str) if isinstance(col[0], list) else col)\n",
    "    motorways.to_file(motorway_file_path, \"GeoJSON\")\n",
    "\n",
    "if plot_steps:\n",
    "    motorways.plot()"
   ]
  },
  {
   "cell_type": "markdown",
   "metadata": {},
   "source": [
    "### Data filtering\n",
    "To have the same data as in ASTRA, some filter has to be applied.\n",
    "\n",
    "Some highways collected in OSM are not taken care by ASTRA, but by cantons. They are therefore not in ASTRA datasets and were discarded (\"A50\" and \"A51\").\n",
    "Subsections of the highway \"A1\" (\"A1a\", \"A1H\", \"A1R\", \"A1L\", \"A3W\"), are not represented in the ASTRA data, and were therefore discarded.  \n",
    "\"A24\" was also discarded as it is a road feeder and was normally not represented in OSM like the other road feeders.\n"
   ]
  },
  {
   "cell_type": "code",
   "execution_count": 8,
   "metadata": {},
   "outputs": [],
   "source": [
    "## TODO Maybe note how many segments are being removed?\n",
    "#Remove unwanted segments and remove NA\n",
    "discard_list = [\"A1a\", \"A1H\", \"A1R\",\"A1R;5\", \"A1L\", \"A3W\", \"A24\", \"A50\", \"7;A50\", \"A51\"]\n",
    "filter_osm = ~motorways.ref.isin(discard_list)\n",
    "motorways = motorways[filter_osm]\n",
    "motorways = motorways[motorways['ref'].notna()]\n"
   ]
  },
  {
   "cell_type": "markdown",
   "metadata": {},
   "source": [
    "### Convert LineString() to list of MotorwaySegment()"
   ]
  },
  {
   "cell_type": "code",
   "execution_count": 9,
   "metadata": {},
   "outputs": [],
   "source": [
    "mway = motorways.copy()\n",
    "mway[\"geometry\"] = mway.geometry.explode(index_parts=False)\n",
    "mway[\"source\"] = \"osm\"\n",
    "mway[\"crs\"] = 'epsg:4326'\n",
    "mway[\"name\"] = mway['ref'].apply(name_mapping)\n",
    "\n",
    "mway[\"segments\"] = mway.apply(linestring_to_motorwaysegment_list, axis=1)\n",
    "mway = mway.explode(\"segments\", index_parts=False)\n",
    "mway = mway.reset_index()"
   ]
  },
  {
   "cell_type": "markdown",
   "metadata": {},
   "source": [
    "### Transform from EPSG:4326 to EPSG:2056"
   ]
  },
  {
   "cell_type": "code",
   "execution_count": 10,
   "metadata": {},
   "outputs": [],
   "source": [
    "# Example 4326 to 2056\n",
    "from_crs = 'epsg:4326'\n",
    "to_crs = 'epsg:2056'\n",
    "\n",
    "transformer = Transformer.from_crs(from_crs, to_crs)\n",
    "motorway_segments_transformed = mway[\"segments\"].apply(transform_segment, transformer=transformer, to_crs=to_crs)\n",
    "if plot_steps:\n",
    "    print(f\"{mway['segments'][0]} {mway['segments'][0].crs}\",\n",
    "          f\"{motorway_segments_transformed[0]} \\t {motorway_segments_transformed[0].crs}\",\n",
    "          sep=\"\\n\")"
   ]
  },
  {
   "cell_type": "markdown",
   "metadata": {},
   "source": [
    "### Roads renaming\n",
    "As OSM data is not rigorious, some corrections had to be made on the name registered. Visual data inspection was required for some cryptic names (\"32\", \"52\", \"nan\", ...). Then, only the number of the road has been kept.  \n",
    "Example of corrections: \"A 12\" -> \"A12\", \"A10;7\" -> \"A10\", \"53\" -> \"A15\".\n"
   ]
  },
  {
   "cell_type": "code",
   "execution_count": 11,
   "metadata": {
    "tags": []
   },
   "outputs": [],
   "source": [
    "if plot_steps:\n",
    "    streetnames_osm_toclean = motorways.ref.unique()\n",
    "\n",
    "    print(streetnames_osm_toclean)\n",
    "    print(len(streetnames_osm_toclean))\n",
    "\n",
    "    # Test/showcase only (not needed in main script)\n",
    "    #build streetnames_osm list\n",
    "    streetnames_osm = list(set(name_mapping(street) for street in streetnames_osm_toclean))\n",
    "\n",
    "    print(sorted(streetnames_osm))\n",
    "    print(len(streetnames_osm))"
   ]
  },
  {
   "cell_type": "markdown",
   "metadata": {},
   "source": [
    "### Class MotorwayLine"
   ]
  },
  {
   "cell_type": "code",
   "execution_count": 12,
   "metadata": {},
   "outputs": [],
   "source": [
    "# Create Lookup dictionary with Segments by segment name (1:[MotorwaysSegment,...],2:[],...)\n",
    "segments_by_name = {}\n",
    "for segment in motorway_segments_transformed:\n",
    "    if segment.name not in segments_by_name:\n",
    "        segments_by_name[segment.name] = []\n",
    "    segments_by_name[segment.name].append(segment)\n",
    "\n",
    "streetnames_osm = motorway_segments_transformed.apply(lambda x: x.name).unique()\n",
    "motorway_osm_lines = []\n",
    "for streetname in streetnames_osm:\n",
    "    # Use streetname to retrieve list of segments\n",
    "    list_segments = segments_by_name.get(streetname, [])\n",
    "    if list_segments:\n",
    "        motorwayLine = MotorwayLine(list_segments)\n",
    "        motorway_osm_lines.append(motorwayLine)\n",
    "\n",
    "motorway_osm_lines = sorted(motorway_osm_lines, key=lambda x: x.name)\n",
    "\n",
    "if plot_steps:\n",
    "    print(motorway_osm_lines[0])\n",
    "    print(motorway_osm_lines[0].segments[0].origin_name)\n",
    "    len(motorway_osm_lines)"
   ]
  },
  {
   "cell_type": "markdown",
   "metadata": {},
   "source": [
    "### Data exploration"
   ]
  },
  {
   "cell_type": "code",
   "execution_count": 13,
   "metadata": {},
   "outputs": [],
   "source": [
    "if plot_steps:\n",
    "    motorway_osm_lines[0].segments[0:10]"
   ]
  },
  {
   "cell_type": "code",
   "execution_count": 14,
   "metadata": {},
   "outputs": [],
   "source": [
    "if plot_steps:\n",
    "    # PLOT FROM ORIGINAL GEOMETRY\n",
    "    print(len(motorways[motorways[\"ref\"]==\"A2\"]))\n",
    "    motorways[motorways[\"ref\"]==\"A2\"].plot()"
   ]
  },
  {
   "cell_type": "code",
   "execution_count": 15,
   "metadata": {},
   "outputs": [],
   "source": [
    "if plot_steps:\n",
    "    # PLOT A1\n",
    "    print(motorway_osm_lines[1])\n",
    "    motorway_osm_lines[1].removeDuplicates()\n",
    "    motorway_osm_lines[1].plot_bbox()\n",
    "    motorway_osm_lines[1].plot_seg()"
   ]
  },
  {
   "cell_type": "markdown",
   "metadata": {},
   "source": [
    "## Swissdataset: Astra national roads"
   ]
  },
  {
   "cell_type": "markdown",
   "metadata": {},
   "source": [
    "### Download data\n",
    "Download data from:  \n",
    "https://data.geo.admin.ch/browser/index.html#/collections/ch.astra.nationalstrassenachsen/items/nationalstrassenachsen?.language=en&.asset=asset-nationalstrassenachsen_2056.gdb.zip \n"
   ]
  },
  {
   "cell_type": "code",
   "execution_count": 16,
   "metadata": {},
   "outputs": [],
   "source": [
    "#import .gdb\n",
    "fiona.listlayers(Path(r\"data/national_roads/ch.astra.nationalstrassenachsen.gdb\"))\n",
    "motorways_ch = gpd.read_file(Path(r\"data/national_roads/ch.astra.nationalstrassenachsen.gdb\"), driver='FileGDB', layer='Stammachsen')\n",
    "if plot_steps:\n",
    "    motorways_ch.plot()"
   ]
  },
  {
   "cell_type": "code",
   "execution_count": 17,
   "metadata": {},
   "outputs": [],
   "source": [
    "if plot_steps:\n",
    "    #visualize first 3 rows\n",
    "    motorways_ch[0:3]"
   ]
  },
  {
   "cell_type": "markdown",
   "metadata": {},
   "source": [
    "### Data filtering\n",
    "The federal roads office ASTRA [[1]](https://www.astra.admin.ch/astra/fr/home/themes/routes-nationales/reseau.html) is responsible for the national roads, i.e. the most important roads for Switzerland. Therefore ASTRA datasets do not only include highways, but also main roads.   \n",
    "To sort national roads, a visual inspection of both datasets (OSM and ASTRA) was made on QGIS. This helped discovering that one of the attributes in ASTRA dataset could be used as a filter:\n",
    "- Positionscode \"=\".  \n",
    "\"=\" indicates that this is a one way road, which correlates with not being a highway, therefore not present in OSM dataset with the tag \"highway\".  \n",
    "8 national roads were removed entirely this way (N1BAR, N2BEL, N2P, N17, N24, N25, N28 and N29).\n",
    "Excepted for N24 (feeder road), which was removed even though it was also on OSM, this proved to be an efficient and quick filter.  \n",
    "Out of 28 national roads, 20 then remained.\n",
    "\n",
    "In addition, to crossvalidate the results, the following ressources have been used:  \n",
    "- [autobahnen.ch](https://www.autobahnen.ch/).\n",
    "- [Wiki page: List of the swiss national roads](https://de.wikipedia.org/wiki/Liste_der_Nationalstrassen_der_Schweiz)\n",
    "- [Wiki page: List of the swiss highways and motorroads](https://de.wikipedia.org/wiki/Liste_der_Autobahnen_und_Autostrassen_in_der_Schweiz)\n",
    "\n",
    "Astra dataset is unfortunately poorly documented online, therefore wikipedia was a useful source.\n",
    "\n",
    "[[1]]: https://www.astra.admin.ch/astra/fr/home/themes/routes-nationales/reseau.html"
   ]
  },
  {
   "cell_type": "markdown",
   "metadata": {},
   "source": [
    "### Renaming of the roads\n",
    "National roads numbers (N1 -> N...) correspond with highways numbers (A1 -> A...), therefore the renaming contained only the number."
   ]
  },
  {
   "cell_type": "code",
   "execution_count": 18,
   "metadata": {},
   "outputs": [],
   "source": [
    "# Remove positionscode\n",
    "filt_equal = motorways_ch[\"Positionscode\"] != \"=\"\n",
    "motorways_ch = motorways_ch.copy().loc[filt_equal]"
   ]
  },
  {
   "cell_type": "code",
   "execution_count": 19,
   "metadata": {},
   "outputs": [],
   "source": [
    "# Extract streetname and convert to int\n",
    "motorways_ch.loc[:, 'streetname'] = motorways_ch['Strassennummer'].str.extract(r'(\\d+)').astype(int)\n",
    "\n",
    "streetnames_ch = motorways_ch['streetname'].unique()\n",
    "if plot_steps:\n",
    "    print(sorted(streetnames_ch))\n",
    "    print(len(streetnames_ch))"
   ]
  },
  {
   "cell_type": "markdown",
   "metadata": {
    "tags": []
   },
   "source": [
    "### Class MotorwaySegment"
   ]
  },
  {
   "cell_type": "code",
   "execution_count": 20,
   "metadata": {},
   "outputs": [],
   "source": [
    "mway_ch = motorways_ch.copy()\n",
    "mway_ch[\"geometry\"] = mway_ch.geometry.explode(index_parts=False)\n",
    "mway_ch[\"source\"] = \"astra\"\n",
    "mway_ch[\"crs\"] = 'epsg:2056'\n",
    "mway_ch[\"name\"] = mway_ch['streetname']\n",
    "mway_ch[\"ref\"] = mway_ch[\"Strassennummer\"]\n",
    "\n",
    "mway_ch['segments'] = mway_ch.apply(linestring_to_motorwaysegment_list, axis=1)\n",
    "mway_ch = mway_ch.explode(\"segments\", index_parts=False)\n",
    "mway_ch = mway_ch.reset_index()"
   ]
  },
  {
   "cell_type": "markdown",
   "metadata": {},
   "source": [
    "### Class MotorwayLine"
   ]
  },
  {
   "cell_type": "code",
   "execution_count": 21,
   "metadata": {},
   "outputs": [],
   "source": [
    "segments_by_name = {}\n",
    "for segment in mway_ch['segments']:\n",
    "    if segment.name not in segments_by_name:\n",
    "        segments_by_name[segment.name] = []\n",
    "    segments_by_name[segment.name].append(segment)\n",
    "\n",
    "motorway_ch_lines = []\n",
    "for streetname in streetnames_ch:\n",
    "    list_segments = segments_by_name.get(streetname,[])\n",
    "    if list_segments:\n",
    "        motorwayLine = MotorwayLine(list_segments)\n",
    "        motorway_ch_lines.append(motorwayLine)\n",
    "\n",
    "motorway_ch_lines = sorted(motorway_ch_lines, key=lambda x: x.name)\n",
    "\n",
    "if plot_steps:\n",
    "    print(motorway_ch_lines[1])\n",
    "    print(motorway_ch_lines[1].segments[1].origin_name)\n",
    "    len(motorway_ch_lines)"
   ]
  },
  {
   "cell_type": "markdown",
   "metadata": {},
   "source": [
    "# Write MotorwayLine to Pickle"
   ]
  },
  {
   "cell_type": "code",
   "execution_count": 22,
   "metadata": {},
   "outputs": [],
   "source": [
    "# TODO\n",
    "# motorway_ch_lines to Pickle\n",
    "write_to_pickle(motorway_osm_lines, \"motorway_osm_lines.pkl\")\n",
    "write_to_pickle(motorway_ch_lines, \"motorway_ch_lines.pkl\")"
   ]
  },
  {
   "cell_type": "markdown",
   "metadata": {},
   "source": [
    "### Data exploration"
   ]
  },
  {
   "cell_type": "code",
   "execution_count": 23,
   "metadata": {
    "tags": []
   },
   "outputs": [],
   "source": [
    "for motorway in motorway_ch_lines:\n",
    "    if motorway.name == 2:\n",
    "        N2 = motorway\n",
    "\n",
    "if plot_steps:\n",
    "    N2.segments[0:10]"
   ]
  },
  {
   "cell_type": "code",
   "execution_count": 24,
   "metadata": {
    "tags": []
   },
   "outputs": [],
   "source": [
    "if plot_steps:\n",
    "    # PLOT A2 FROM ORIGINAL GEOMETRY\n",
    "    print(len(motorways_ch[motorways_ch[\"Strassennummer\"] == \"N2\"]))\n",
    "    motorways_ch[motorways_ch[\"Strassennummer\"] == \"N2\"].plot()"
   ]
  },
  {
   "cell_type": "code",
   "execution_count": 25,
   "metadata": {
    "tags": []
   },
   "outputs": [],
   "source": [
    "if plot_steps:\n",
    "    # PLOT A2 FROM MOTORWAY LINES\n",
    "    print(N2)\n",
    "    N2.removeDuplicates()\n",
    "    N2.plot_bbox()\n",
    "    N2.plot_seg()"
   ]
  },
  {
   "cell_type": "markdown",
   "metadata": {},
   "source": [
    "## Datasets comparison"
   ]
  },
  {
   "cell_type": "code",
   "execution_count": 26,
   "metadata": {
    "tags": []
   },
   "outputs": [],
   "source": [
    "if plot_steps:\n",
    "    print(sorted(streetnames_osm))\n",
    "    print(sorted(streetnames_ch))\n",
    "    print(len(streetnames_osm))"
   ]
  },
  {
   "cell_type": "markdown",
   "metadata": {},
   "source": [
    "### Comparison of the motorway lines"
   ]
  },
  {
   "cell_type": "code",
   "execution_count": 27,
   "metadata": {},
   "outputs": [],
   "source": [
    "if plot_steps:\n",
    "    fig, axs = plt.subplots(5, 4, figsize=(12, 12))\n",
    "    for i in range(5): #5\n",
    "        for j in range(4): #4\n",
    "            index = i * 4 + j\n",
    "            motorway_ch_lines[index].plot_seg(ax = axs[i, j], label=\"ASTRA\", color = \"blue\", linewidth = 5)\n",
    "            motorway_osm_lines[index].plot_seg(ax = axs[i, j], label=\"OSM\", color = \"red\")\n",
    "            axs[i, j].set_title(f'A{motorway_osm_lines[index].name}')\n",
    "            axs[i,j].set_aspect('equal', adjustable='datalim')\n",
    "\n",
    "    # Affichage de la figure\n",
    "    plt.tight_layout()\n",
    "    plt.show()\n",
    "    #fig.savefig(\"plots/osm_astra_comparison.png\")"
   ]
  },
  {
   "cell_type": "markdown",
   "metadata": {},
   "source": [
    "# Buffering MotorwayLines"
   ]
  },
  {
   "cell_type": "code",
   "execution_count": 28,
   "metadata": {},
   "outputs": [],
   "source": [
    "from Buffer import buffer"
   ]
  },
  {
   "cell_type": "code",
   "execution_count": 29,
   "metadata": {},
   "outputs": [
    {
     "name": "stdout",
     "output_type": "stream",
     "text": [
      "The old line had 45496 points, now we only have 22763.\n",
      "The old line had 34792 points, now we only have 17086.\n",
      "The old line had 18960 points, now we only have 9491.\n",
      "The old line had 11396 points, now we only have 5703.\n",
      "The old line had 15624 points, now we only have 7816.\n",
      "The old line had 9316 points, now we only have 4664.\n",
      "The old line had 3756 points, now we only have 1880.\n",
      "The old line had 2864 points, now we only have 1435.\n",
      "The old line had 19960 points, now we only have 9983.\n",
      "The old line had 902 points, now we only have 453.\n",
      "The old line had 9756 points, now we only have 4880.\n",
      "The old line had 14926 points, now we only have 7477.\n",
      "The old line had 3810 points, now we only have 1909.\n",
      "The old line had 2834 points, now we only have 1419.\n",
      "The old line had 11548 points, now we only have 5776.\n",
      "The old line had 1070 points, now we only have 537.\n",
      "The old line had 9978 points, now we only have 4993.\n",
      "The old line had 432 points, now we only have 217.\n",
      "The old line had 2414 points, now we only have 1211.\n",
      "The old line had 548 points, now we only have 276.\n"
     ]
    }
   ],
   "source": [
    "astra = read_from_pickle(\"motorway_ch_lines.pkl\")\n",
    "osm = read_from_pickle(\"motorway_osm_lines.pkl\")\n",
    "\n",
    "list_unique_points_astra = [mw_line.removeDuplicates().points for mw_line in astra]\n",
    "#buffered_astra = buffer(nodes=list_unique_points_astra[0], dist=10, nn=20, reduction=50)\n",
    "buffered_astra = list(map(lambda points: buffer(nodes=points, dist=10, nn=3, reduction=50), list_unique_points_astra[:2]))\n",
    "write_to_pickle(buffered_astra, \"buffered_astra.pkl\")"
   ]
  },
  {
   "cell_type": "code",
   "execution_count": 30,
   "metadata": {},
   "outputs": [
    {
     "name": "stdout",
     "output_type": "stream",
     "text": [
      "The old line had 34556 points, now we only have 17284.\n",
      "The old line had 18096 points, now we only have 9055.\n",
      "The old line had 8504 points, now we only have 4261.\n",
      "The old line had 3450 points, now we only have 1731.\n",
      "The old line had 4716 points, now we only have 2361.\n",
      "The old line had 7360 points, now we only have 3688.\n",
      "The old line had 1412 points, now we only have 706.\n",
      "The old line had 726 points, now we only have 367.\n",
      "The old line had 8984 points, now we only have 4500.\n",
      "The old line had 518 points, now we only have 261.\n",
      "The old line had 8126 points, now we only have 4065.\n",
      "The old line had 4956 points, now we only have 2486.\n",
      "The old line had 1410 points, now we only have 709.\n",
      "The old line had 1892 points, now we only have 951.\n",
      "The old line had 3382 points, now we only have 1698.\n",
      "The old line had 430 points, now we only have 217.\n",
      "The old line had 1010 points, now we only have 508.\n",
      "The old line had 128 points, now we only have 66.\n",
      "The old line had 792 points, now we only have 401.\n",
      "The old line had 368 points, now we only have 188.\n"
     ]
    }
   ],
   "source": [
    "list_unique_points_osm = [mw_line.removeDuplicates().points for mw_line in osm]\n",
    "buffered_osm = list(map(lambda points: buffer(nodes=points, dist=10, nn=3, reduction=50), list_unique_points_osm[:2]))\n",
    "write_to_pickle(buffered_osm, \"buffered_osm.pkl\")"
   ]
  },
  {
   "cell_type": "code",
   "execution_count": 41,
   "metadata": {},
   "outputs": [
    {
     "data": {
      "image/png": "[encoded data removed]",
      "text/plain": [
       "<Figure size 2000x2000 with 1 Axes>"
      ]
     },
     "metadata": {},
     "output_type": "display_data"
    }
   ],
   "source": [
    "fig, ax0 = plt.subplots(figsize = (20,20))\n",
    "\n",
    "buffered_astra_segments = [[p1,p2] for p1,p2 in zip(buffered_astra[0], buffered_astra[1])]\n",
    "buffered_osm_segments = [[p1,p2] for p1,p2 in zip(buffered_osm[0], buffered_osm[1])]\n",
    "\n",
    "\n",
    "for polygon in buffered_astra:\n",
    "    ax0.plot([p.x for p in polygon.points],\n",
    "             [p.y for p in polygon.points], color = 'red')\n",
    "    \n",
    "for mwayline in motorway_ch_lines[:1]:\n",
    "    \n",
    "    ax0.plot([p.x for p in sorting_PointGroup(mwayline.points)],\n",
    "             [p.y for p in sorting_PointGroup(mwayline.points)], color = 'blue')\n",
    "\n",
    "#for polygon in buffered_osm:\n",
    "#    ax0.plot([p.x for p in polygon.points],\n",
    "#             [p.y for p in polygon.points], color = 'blue')\n",
    "\n",
    "ax0.set_xlabel('X')\n",
    "ax0.set_ylabel('Y')\n",
    "ax0.set_title('Sample Buffer')\n",
    "ax0.set_aspect('equal')"
   ]
  },
  {
   "cell_type": "markdown",
   "metadata": {},
   "source": [
    "# Intersection Buffer Geometries"
   ]
  },
  {
   "cell_type": "code",
   "execution_count": 7,
   "metadata": {},
   "outputs": [],
   "source": [
    "# Load points in array([[]])\n",
    "lines_astra = read_from_pickle(\"motorway_ch_lines.pkl\")\n",
    "lines_osm = read_from_pickle(\"motorway_osm_lines.pkl\")\n",
    "buffered_astra = read_from_pickle(\"buffered_astra.pkl\")\n",
    "buffered_osm = read_from_pickle(\"buffered_osm.pkl\")\n"
   ]
  },
  {
   "cell_type": "code",
   "execution_count": 11,
   "metadata": {},
   "outputs": [],
   "source": [
    "osm_segs = [seg for seg in chain(*[mw_line.segments for mw_line in lines_osm[:2]])]"
   ]
  },
  {
   "cell_type": "code",
   "execution_count": null,
   "metadata": {},
   "outputs": [],
   "source": [
    "inter = inter_multi_seg_pol(seg_g=osm_segs, pol_g=buffered_astra)\n",
    "inter/sum([seg.length for seg in osm_segs])"
   ]
  },
  {
   "cell_type": "markdown",
   "metadata": {},
   "source": [
    "# Similarity Measure"
   ]
  },
  {
   "cell_type": "code",
   "execution_count": 45,
   "metadata": {},
   "outputs": [],
   "source": [
    "# Load points in array([[]])\n",
    "lines_astra = read_from_pickle(\"motorway_ch_lines.pkl\")\n",
    "lines_osm = read_from_pickle(\"motorway_osm_lines.pkl\")\n",
    "buffered_astra = read_from_pickle(\"buffered_astra.pkl\")\n",
    "buffered_osm = read_from_pickle(\"buffered_osm.pkl\")"
   ]
  },
  {
   "cell_type": "code",
   "execution_count": 63,
   "metadata": {},
   "outputs": [
    {
     "ename": "TypeError",
     "evalue": "object of type 'itertools.chain' has no len()",
     "output_type": "error",
     "traceback": [
      "\u001b[1;31m---------------------------------------------------------------------------\u001b[0m",
      "\u001b[1;31mTypeError\u001b[0m                                 Traceback (most recent call last)",
      "Cell \u001b[1;32mIn[63], line 6\u001b[0m\n\u001b[0;32m      3\u001b[0m osm_point_group\u001b[38;5;241m=\u001b[39m np\u001b[38;5;241m.\u001b[39marray([[seg\u001b[38;5;241m.\u001b[39mstart, seg\u001b[38;5;241m.\u001b[39mend] \u001b[38;5;28;01mfor\u001b[39;00m seg \u001b[38;5;129;01min\u001b[39;00m chain(lines_osm[i]\u001b[38;5;241m.\u001b[39msegments)])\n\u001b[0;32m      4\u001b[0m astra_point_group \u001b[38;5;241m=\u001b[39m np\u001b[38;5;241m.\u001b[39marray([[seg\u001b[38;5;241m.\u001b[39mstart, seg\u001b[38;5;241m.\u001b[39mend] \u001b[38;5;28;01mfor\u001b[39;00m seg \u001b[38;5;129;01min\u001b[39;00m chain(lines_astra[i]\u001b[38;5;241m.\u001b[39msegments)])\n\u001b[1;32m----> 6\u001b[0m osm_coord_lists \u001b[38;5;241m=\u001b[39m [[point\u001b[38;5;241m.\u001b[39mx, point\u001b[38;5;241m.\u001b[39my] \u001b[38;5;28;01mfor\u001b[39;00m point \u001b[38;5;129;01min\u001b[39;00m \u001b[43msorting_PointGroup\u001b[49m\u001b[43m(\u001b[49m\u001b[43mchain\u001b[49m\u001b[43m(\u001b[49m\u001b[38;5;241;43m*\u001b[39;49m\u001b[43mosm_point_group\u001b[49m\u001b[43m)\u001b[49m\u001b[43m)\u001b[49m][::\u001b[38;5;241m50\u001b[39m]\n\u001b[0;32m      7\u001b[0m astra_coord_lists \u001b[38;5;241m=\u001b[39m [[point\u001b[38;5;241m.\u001b[39mx, point\u001b[38;5;241m.\u001b[39my] \u001b[38;5;28;01mfor\u001b[39;00m point \u001b[38;5;129;01min\u001b[39;00m sorting_PointGroup(chain(\u001b[38;5;241m*\u001b[39mastra_point_group))][::\u001b[38;5;241m50\u001b[39m]\n\u001b[0;32m      8\u001b[0m similarities\u001b[38;5;241m.\u001b[39mappend(dtw(osm_coord_lists, astra_coord_lists))\n",
      "File \u001b[1;32m~\\polybox\\Studium\\23_FS\\GEO877_SpatAlg\\project\\haklay\\GEO877_Spatial_Algorithms_Haklay\\Segment_Polygon_Intersection_AlgorithmsOnly_updated.ipynb:54\u001b[0m, in \u001b[0;36msorting_PointGroup\u001b[1;34m(pointgroup)\u001b[0m\n\u001b[0;32m      1\u001b[0m {\n\u001b[0;32m      2\u001b[0m  \u001b[38;5;124m\"\u001b[39m\u001b[38;5;124mcells\u001b[39m\u001b[38;5;124m\"\u001b[39m: [\n\u001b[0;32m      3\u001b[0m   {\n\u001b[0;32m      4\u001b[0m    \u001b[38;5;124m\"\u001b[39m\u001b[38;5;124mcell_type\u001b[39m\u001b[38;5;124m\"\u001b[39m: \u001b[38;5;124m\"\u001b[39m\u001b[38;5;124mcode\u001b[39m\u001b[38;5;124m\"\u001b[39m,\n\u001b[0;32m      5\u001b[0m    \u001b[38;5;124m\"\u001b[39m\u001b[38;5;124mexecution_count\u001b[39m\u001b[38;5;124m\"\u001b[39m: \u001b[38;5;241m1\u001b[39m,\n\u001b[0;32m      6\u001b[0m    \u001b[38;5;124m\"\u001b[39m\u001b[38;5;124mid\u001b[39m\u001b[38;5;124m\"\u001b[39m: \u001b[38;5;124m\"\u001b[39m\u001b[38;5;124md051351f\u001b[39m\u001b[38;5;124m\"\u001b[39m,\n\u001b[0;32m      7\u001b[0m    \u001b[38;5;124m\"\u001b[39m\u001b[38;5;124mmetadata\u001b[39m\u001b[38;5;124m\"\u001b[39m: {},\n\u001b[0;32m      8\u001b[0m    \u001b[38;5;124m\"\u001b[39m\u001b[38;5;124moutputs\u001b[39m\u001b[38;5;124m\"\u001b[39m: [],\n\u001b[0;32m      9\u001b[0m    \u001b[38;5;124m\"\u001b[39m\u001b[38;5;124msource\u001b[39m\u001b[38;5;124m\"\u001b[39m: [\n\u001b[0;32m     10\u001b[0m     \u001b[38;5;124m\"\u001b[39m\u001b[38;5;124mimport matplotlib.pyplot as plt\u001b[39m\u001b[38;5;130;01m\\n\u001b[39;00m\u001b[38;5;124m\"\u001b[39m,\n\u001b[0;32m     11\u001b[0m     \u001b[38;5;124m\"\u001b[39m\u001b[38;5;124mimport pandas as pd\u001b[39m\u001b[38;5;130;01m\\n\u001b[39;00m\u001b[38;5;124m\"\u001b[39m,\n\u001b[0;32m     12\u001b[0m     \u001b[38;5;124m\"\u001b[39m\u001b[38;5;124mimport numpy as np\u001b[39m\u001b[38;5;130;01m\\n\u001b[39;00m\u001b[38;5;124m\"\u001b[39m,\n\u001b[0;32m     13\u001b[0m     \u001b[38;5;124m\"\u001b[39m\u001b[38;5;130;01m\\n\u001b[39;00m\u001b[38;5;124m\"\u001b[39m,\n\u001b[0;32m     14\u001b[0m     \u001b[38;5;124m\"\u001b[39m\u001b[38;5;124m# This part is not on Github :) \u001b[39m\u001b[38;5;130;01m\\n\u001b[39;00m\u001b[38;5;124m\"\u001b[39m,\n\u001b[0;32m     15\u001b[0m     \u001b[38;5;124m\"\u001b[39m\u001b[38;5;124m#from geospatial_4pointinpolygon_version import *\u001b[39m\u001b[38;5;130;01m\\n\u001b[39;00m\u001b[38;5;124m\"\u001b[39m,\n\u001b[0;32m     16\u001b[0m     \u001b[38;5;124m\"\u001b[39m\u001b[38;5;130;01m\\n\u001b[39;00m\u001b[38;5;124m\"\u001b[39m,\n\u001b[0;32m     17\u001b[0m     \u001b[38;5;124m\"\u001b[39m\u001b[38;5;124mfrom geospatial import *\u001b[39m\u001b[38;5;124m\"\u001b[39m\n\u001b[0;32m     18\u001b[0m    ]\n\u001b[0;32m     19\u001b[0m   },\n\u001b[0;32m     20\u001b[0m   {\n\u001b[0;32m     21\u001b[0m    \u001b[38;5;124m\"\u001b[39m\u001b[38;5;124mcell_type\u001b[39m\u001b[38;5;124m\"\u001b[39m: \u001b[38;5;124m\"\u001b[39m\u001b[38;5;124mcode\u001b[39m\u001b[38;5;124m\"\u001b[39m,\n\u001b[0;32m     22\u001b[0m    \u001b[38;5;124m\"\u001b[39m\u001b[38;5;124mexecution_count\u001b[39m\u001b[38;5;124m\"\u001b[39m: \u001b[38;5;241m10\u001b[39m,\n\u001b[0;32m     23\u001b[0m    \u001b[38;5;124m\"\u001b[39m\u001b[38;5;124mid\u001b[39m\u001b[38;5;124m\"\u001b[39m: \u001b[38;5;124m\"\u001b[39m\u001b[38;5;124m7d377773\u001b[39m\u001b[38;5;124m\"\u001b[39m,\n\u001b[0;32m     24\u001b[0m    \u001b[38;5;124m\"\u001b[39m\u001b[38;5;124mmetadata\u001b[39m\u001b[38;5;124m\"\u001b[39m: {},\n\u001b[0;32m     25\u001b[0m    \u001b[38;5;124m\"\u001b[39m\u001b[38;5;124moutputs\u001b[39m\u001b[38;5;124m\"\u001b[39m: [],\n\u001b[0;32m     26\u001b[0m    \u001b[38;5;124m\"\u001b[39m\u001b[38;5;124msource\u001b[39m\u001b[38;5;124m\"\u001b[39m: [\n\u001b[0;32m     27\u001b[0m     \u001b[38;5;124m\"\u001b[39m\u001b[38;5;124m# Segment & Polygon intersection\u001b[39m\u001b[38;5;130;01m\\n\u001b[39;00m\u001b[38;5;124m\"\u001b[39m,\n\u001b[0;32m     28\u001b[0m     \u001b[38;5;124m\"\u001b[39m\u001b[38;5;130;01m\\n\u001b[39;00m\u001b[38;5;124m\"\u001b[39m,\n\u001b[0;32m     29\u001b[0m     \u001b[38;5;124m\"\u001b[39m\u001b[38;5;124m# Function: create segments list (of points pair) based on points in polygon\u001b[39m\u001b[38;5;130;01m\\n\u001b[39;00m\u001b[38;5;124m\"\u001b[39m,\n\u001b[0;32m     30\u001b[0m     \u001b[38;5;124m\"\u001b[39m\u001b[38;5;124mdef get_seg_from_pol(pol):\u001b[39m\u001b[38;5;130;01m\\n\u001b[39;00m\u001b[38;5;124m\"\u001b[39m,\n\u001b[0;32m     31\u001b[0m     \u001b[38;5;124m\"\u001b[39m\u001b[38;5;124m    pol_seg = []\u001b[39m\u001b[38;5;130;01m\\n\u001b[39;00m\u001b[38;5;124m\"\u001b[39m,\n\u001b[0;32m     32\u001b[0m     \u001b[38;5;124m\"\u001b[39m\u001b[38;5;124m    for i in range(1, len(pol.points)):\u001b[39m\u001b[38;5;130;01m\\n\u001b[39;00m\u001b[38;5;124m\"\u001b[39m,\n\u001b[0;32m     33\u001b[0m     \u001b[38;5;124m\"\u001b[39m\u001b[38;5;124m        pol_seg.append(Segment(pol.points[i-1], pol.points[i]))\u001b[39m\u001b[38;5;130;01m\\n\u001b[39;00m\u001b[38;5;124m\"\u001b[39m,\n\u001b[0;32m     34\u001b[0m     \u001b[38;5;124m\"\u001b[39m\u001b[38;5;124m    return pol_seg\u001b[39m\u001b[38;5;130;01m\\n\u001b[39;00m\u001b[38;5;124m\"\u001b[39m,\n\u001b[0;32m     35\u001b[0m     \u001b[38;5;124m\"\u001b[39m\u001b[38;5;130;01m\\n\u001b[39;00m\u001b[38;5;124m\"\u001b[39m,\n\u001b[0;32m     36\u001b[0m     \u001b[38;5;124m\"\u001b[39m\u001b[38;5;124m# Function: calculate the intersection point of two segments which intersects\u001b[39m\u001b[38;5;130;01m\\n\u001b[39;00m\u001b[38;5;124m\"\u001b[39m,\n\u001b[0;32m     37\u001b[0m     \u001b[38;5;124m\"\u001b[39m\u001b[38;5;124mdef get_intersect_point(seg1, seg2):\u001b[39m\u001b[38;5;130;01m\\n\u001b[39;00m\u001b[38;5;124m\"\u001b[39m,\n\u001b[0;32m     38\u001b[0m     \u001b[38;5;124m\"\u001b[39m\u001b[38;5;124m    A1 = seg1.end.y - seg1.start.y\u001b[39m\u001b[38;5;130;01m\\n\u001b[39;00m\u001b[38;5;124m\"\u001b[39m,\n\u001b[0;32m     39\u001b[0m     \u001b[38;5;124m\"\u001b[39m\u001b[38;5;124m    B1 = seg1.start.x - seg1.end.x\u001b[39m\u001b[38;5;130;01m\\n\u001b[39;00m\u001b[38;5;124m\"\u001b[39m,\n\u001b[0;32m     40\u001b[0m     \u001b[38;5;124m\"\u001b[39m\u001b[38;5;124m    C1 = seg1.end.x * seg1.start.y - seg1.start.x * seg1.end.y\u001b[39m\u001b[38;5;130;01m\\n\u001b[39;00m\u001b[38;5;124m\"\u001b[39m,\n\u001b[0;32m     41\u001b[0m     \u001b[38;5;124m\"\u001b[39m\u001b[38;5;124m    A2 = seg2.end.y - seg2.start.y\u001b[39m\u001b[38;5;130;01m\\n\u001b[39;00m\u001b[38;5;124m\"\u001b[39m,\n\u001b[0;32m     42\u001b[0m     \u001b[38;5;124m\"\u001b[39m\u001b[38;5;124m    B2 = seg2.start.x - seg2.end.x\u001b[39m\u001b[38;5;130;01m\\n\u001b[39;00m\u001b[38;5;124m\"\u001b[39m,\n\u001b[0;32m     43\u001b[0m     \u001b[38;5;124m\"\u001b[39m\u001b[38;5;124m    C2 = seg2.end.x * seg2.start.y - seg2.start.x * seg2.end.y\u001b[39m\u001b[38;5;130;01m\\n\u001b[39;00m\u001b[38;5;124m\"\u001b[39m,\n\u001b[0;32m     44\u001b[0m     \u001b[38;5;124m\"\u001b[39m\u001b[38;5;124m    if (A1 * B2 != A2 * B1):\u001b[39m\u001b[38;5;130;01m\\n\u001b[39;00m\u001b[38;5;124m\"\u001b[39m,\n\u001b[0;32m     45\u001b[0m     \u001b[38;5;124m\"\u001b[39m\u001b[38;5;124m        x = (C2 * B1 - C1 * B2)/(A1 * B2 - A2 * B1)\u001b[39m\u001b[38;5;130;01m\\n\u001b[39;00m\u001b[38;5;124m\"\u001b[39m,\n\u001b[0;32m     46\u001b[0m     \u001b[38;5;124m\"\u001b[39m\u001b[38;5;124m        y = (C1 * A2 - C2 * A1)/(A1 * B2 - A2 * B1)\u001b[39m\u001b[38;5;130;01m\\n\u001b[39;00m\u001b[38;5;124m\"\u001b[39m,\n\u001b[0;32m     47\u001b[0m     \u001b[38;5;124m\"\u001b[39m\u001b[38;5;124m    else:\u001b[39m\u001b[38;5;130;01m\\n\u001b[39;00m\u001b[38;5;124m\"\u001b[39m,\n\u001b[0;32m     48\u001b[0m     \u001b[38;5;124m\"\u001b[39m\u001b[38;5;124m        print(\u001b[39m\u001b[38;5;130;01m\\\"\u001b[39;00m\u001b[38;5;124merror: might need remove duplicated points first\u001b[39m\u001b[38;5;130;01m\\\"\u001b[39;00m\u001b[38;5;124m)\u001b[39m\u001b[38;5;130;01m\\n\u001b[39;00m\u001b[38;5;124m\"\u001b[39m,\n\u001b[0;32m     49\u001b[0m     \u001b[38;5;124m\"\u001b[39m\u001b[38;5;124m    return Point(x, y)\u001b[39m\u001b[38;5;130;01m\\n\u001b[39;00m\u001b[38;5;124m\"\u001b[39m,\n\u001b[0;32m     50\u001b[0m     \u001b[38;5;124m\"\u001b[39m\u001b[38;5;130;01m\\n\u001b[39;00m\u001b[38;5;124m\"\u001b[39m,\n\u001b[0;32m     51\u001b[0m     \u001b[38;5;124m\"\u001b[39m\u001b[38;5;124m# Function: check if one segment touches the other if they already intersects, True is touch, False if intersection\u001b[39m\u001b[38;5;130;01m\\n\u001b[39;00m\u001b[38;5;124m\"\u001b[39m,\n\u001b[0;32m     52\u001b[0m     \u001b[38;5;124m\"\u001b[39m\u001b[38;5;124mdef check_touch(seg1, seg2):\u001b[39m\u001b[38;5;130;01m\\n\u001b[39;00m\u001b[38;5;124m\"\u001b[39m,\n\u001b[0;32m     53\u001b[0m     \u001b[38;5;124m\"\u001b[39m\u001b[38;5;124m    if (seg1.start == seg2.start) or (seg1.start == seg2.end) or (seg1.end == seg2.start) or (seg1.end == seg2.end):\u001b[39m\u001b[38;5;130;01m\\n\u001b[39;00m\u001b[38;5;124m\"\u001b[39m,\n\u001b[1;32m---> 54\u001b[0m     \u001b[38;5;124m\"\u001b[39m\u001b[38;5;124m        return True\u001b[39m\u001b[38;5;130;01m\\n\u001b[39;00m\u001b[38;5;124m\"\u001b[39m,\n\u001b[0;32m     55\u001b[0m     \u001b[38;5;124m\"\u001b[39m\u001b[38;5;124m    elif (seg1.start.x == seg1.end.x) and ((seg1.start.x == seg2.start.x) or (seg1.start.x == seg2.end.x)):\u001b[39m\u001b[38;5;130;01m\\n\u001b[39;00m\u001b[38;5;124m\"\u001b[39m,\n\u001b[0;32m     56\u001b[0m     \u001b[38;5;124m\"\u001b[39m\u001b[38;5;124m        return True\u001b[39m\u001b[38;5;130;01m\\n\u001b[39;00m\u001b[38;5;124m\"\u001b[39m,\n\u001b[0;32m     57\u001b[0m     \u001b[38;5;124m\"\u001b[39m\u001b[38;5;124m    elif (seg2.start.x == seg2.end.x) and ((seg2.start.x == seg1.start.x) or (seg2.start.x == seg1.end.x)):\u001b[39m\u001b[38;5;130;01m\\n\u001b[39;00m\u001b[38;5;124m\"\u001b[39m,\n\u001b[0;32m     58\u001b[0m     \u001b[38;5;124m\"\u001b[39m\u001b[38;5;124m        return True\u001b[39m\u001b[38;5;130;01m\\n\u001b[39;00m\u001b[38;5;124m\"\u001b[39m,\n\u001b[0;32m     59\u001b[0m     \u001b[38;5;124m\"\u001b[39m\u001b[38;5;124m    elif (seg1.start.x != seg1.end.x) and (seg2.start.x != seg2.end.x):\u001b[39m\u001b[38;5;130;01m\\n\u001b[39;00m\u001b[38;5;124m\"\u001b[39m,\n\u001b[0;32m     60\u001b[0m     \u001b[38;5;124m\"\u001b[39m\u001b[38;5;124m        f1 = (seg1.end.y - seg1.start.y)/(seg1.start.x - seg1.end.x)\u001b[39m\u001b[38;5;130;01m\\n\u001b[39;00m\u001b[38;5;124m\"\u001b[39m,\n\u001b[0;32m     61\u001b[0m     \u001b[38;5;124m\"\u001b[39m\u001b[38;5;124m        f2 = (seg2.end.y - seg2.start.y)/(seg2.start.x - seg2.end.x)\u001b[39m\u001b[38;5;130;01m\\n\u001b[39;00m\u001b[38;5;124m\"\u001b[39m,\n\u001b[0;32m     62\u001b[0m     \u001b[38;5;124m\"\u001b[39m\u001b[38;5;124m        if f1 == f2:\u001b[39m\u001b[38;5;130;01m\\n\u001b[39;00m\u001b[38;5;124m\"\u001b[39m,\n\u001b[0;32m     63\u001b[0m     \u001b[38;5;124m\"\u001b[39m\u001b[38;5;124m            return True\u001b[39m\u001b[38;5;130;01m\\n\u001b[39;00m\u001b[38;5;124m\"\u001b[39m,\n\u001b[0;32m     64\u001b[0m     \u001b[38;5;124m\"\u001b[39m\u001b[38;5;124m        else:\u001b[39m\u001b[38;5;130;01m\\n\u001b[39;00m\u001b[38;5;124m\"\u001b[39m,\n\u001b[0;32m     65\u001b[0m     \u001b[38;5;124m\"\u001b[39m\u001b[38;5;124m            A1 = seg1.end.y - seg1.start.y\u001b[39m\u001b[38;5;130;01m\\n\u001b[39;00m\u001b[38;5;124m\"\u001b[39m,\n\u001b[0;32m     66\u001b[0m     \u001b[38;5;124m\"\u001b[39m\u001b[38;5;124m            B1 = seg1.start.x - seg1.end.x\u001b[39m\u001b[38;5;130;01m\\n\u001b[39;00m\u001b[38;5;124m\"\u001b[39m,\n\u001b[0;32m     67\u001b[0m     \u001b[38;5;124m\"\u001b[39m\u001b[38;5;124m            C1 = seg1.end.x * seg1.start.y - seg1.start.x * seg1.end.y\u001b[39m\u001b[38;5;130;01m\\n\u001b[39;00m\u001b[38;5;124m\"\u001b[39m,\n\u001b[0;32m     68\u001b[0m     \u001b[38;5;124m\"\u001b[39m\u001b[38;5;124m            A2 = seg2.end.y - seg2.start.y\u001b[39m\u001b[38;5;130;01m\\n\u001b[39;00m\u001b[38;5;124m\"\u001b[39m,\n\u001b[0;32m     69\u001b[0m     \u001b[38;5;124m\"\u001b[39m\u001b[38;5;124m            B2 = seg2.start.x - seg2.end.x\u001b[39m\u001b[38;5;130;01m\\n\u001b[39;00m\u001b[38;5;124m\"\u001b[39m,\n\u001b[0;32m     70\u001b[0m     \u001b[38;5;124m\"\u001b[39m\u001b[38;5;124m            C2 = seg2.end.x * seg2.start.y - seg2.start.x * seg2.end.y\u001b[39m\u001b[38;5;130;01m\\n\u001b[39;00m\u001b[38;5;124m\"\u001b[39m,\n\u001b[0;32m     71\u001b[0m     \u001b[38;5;124m\"\u001b[39m\u001b[38;5;124m            if (seg2.start.x*A1 + seg2.start.y*B1 + C1 == 0) or (seg2.end.x*A1 + seg2.end.y*B1 + C1 == 0) or (seg1.start.x*A2 + seg1.start.y*B2 + C2 == 0) or (seg1.end.x*A2 + seg1.end.y*B2 + C2 == 0):\u001b[39m\u001b[38;5;130;01m\\n\u001b[39;00m\u001b[38;5;124m\"\u001b[39m,\n\u001b[0;32m     72\u001b[0m     \u001b[38;5;124m\"\u001b[39m\u001b[38;5;124m                return True\u001b[39m\u001b[38;5;130;01m\\n\u001b[39;00m\u001b[38;5;124m\"\u001b[39m,\n\u001b[0;32m     73\u001b[0m     \u001b[38;5;124m\"\u001b[39m\u001b[38;5;124m            else:\u001b[39m\u001b[38;5;130;01m\\n\u001b[39;00m\u001b[38;5;124m\"\u001b[39m,\n\u001b[0;32m     74\u001b[0m     \u001b[38;5;124m\"\u001b[39m\u001b[38;5;124m                return False\u001b[39m\u001b[38;5;130;01m\\n\u001b[39;00m\u001b[38;5;124m\"\u001b[39m,\n\u001b[0;32m     75\u001b[0m     \u001b[38;5;124m\"\u001b[39m\u001b[38;5;124m    else:\u001b[39m\u001b[38;5;130;01m\\n\u001b[39;00m\u001b[38;5;124m\"\u001b[39m,\n\u001b[0;32m     76\u001b[0m     \u001b[38;5;124m\"\u001b[39m\u001b[38;5;124m        return False\u001b[39m\u001b[38;5;130;01m\\n\u001b[39;00m\u001b[38;5;124m\"\u001b[39m,\n\u001b[0;32m     77\u001b[0m     \u001b[38;5;124m\"\u001b[39m\u001b[38;5;124m    \u001b[39m\u001b[38;5;130;01m\\n\u001b[39;00m\u001b[38;5;124m\"\u001b[39m,\n\u001b[0;32m     78\u001b[0m     \u001b[38;5;124m\"\u001b[39m\u001b[38;5;124m# Function: sorting points group\u001b[39m\u001b[38;5;130;01m\\n\u001b[39;00m\u001b[38;5;124m\"\u001b[39m,\n\u001b[0;32m     79\u001b[0m     \u001b[38;5;124m\"\u001b[39m\u001b[38;5;124mdef sorting_PointGroup(pointgroup):\u001b[39m\u001b[38;5;130;01m\\n\u001b[39;00m\u001b[38;5;124m\"\u001b[39m,\n\u001b[0;32m     80\u001b[0m     \u001b[38;5;124m\"\u001b[39m\u001b[38;5;124m    n = len(pointgroup)\u001b[39m\u001b[38;5;130;01m\\n\u001b[39;00m\u001b[38;5;124m\"\u001b[39m,\n\u001b[0;32m     81\u001b[0m     \u001b[38;5;124m\"\u001b[39m\u001b[38;5;124m    xlist = []\u001b[39m\u001b[38;5;130;01m\\n\u001b[39;00m\u001b[38;5;124m\"\u001b[39m,\n\u001b[0;32m     82\u001b[0m     \u001b[38;5;124m\"\u001b[39m\u001b[38;5;124m    ylist = []\u001b[39m\u001b[38;5;130;01m\\n\u001b[39;00m\u001b[38;5;124m\"\u001b[39m,\n\u001b[0;32m     83\u001b[0m     \u001b[38;5;124m\"\u001b[39m\u001b[38;5;124m    for i in range(0, n):\u001b[39m\u001b[38;5;130;01m\\n\u001b[39;00m\u001b[38;5;124m\"\u001b[39m,\n\u001b[0;32m     84\u001b[0m     \u001b[38;5;124m\"\u001b[39m\u001b[38;5;124m        xlist.append(pointgroup[i].x)\u001b[39m\u001b[38;5;130;01m\\n\u001b[39;00m\u001b[38;5;124m\"\u001b[39m,\n\u001b[0;32m     85\u001b[0m     \u001b[38;5;124m\"\u001b[39m\u001b[38;5;124m        ylist.append(pointgroup[i].y)\u001b[39m\u001b[38;5;130;01m\\n\u001b[39;00m\u001b[38;5;124m\"\u001b[39m,\n\u001b[0;32m     86\u001b[0m     \u001b[38;5;124m\"\u001b[39m\u001b[38;5;124m    xy = pd.DataFrame()\u001b[39m\u001b[38;5;130;01m\\n\u001b[39;00m\u001b[38;5;124m\"\u001b[39m,\n\u001b[0;32m     87\u001b[0m     \u001b[38;5;124m\"\u001b[39m\u001b[38;5;124m    xy[\u001b[39m\u001b[38;5;124m'\u001b[39m\u001b[38;5;124mx\u001b[39m\u001b[38;5;124m'\u001b[39m\u001b[38;5;124m] = xlist\u001b[39m\u001b[38;5;130;01m\\n\u001b[39;00m\u001b[38;5;124m\"\u001b[39m,\n\u001b[0;32m     88\u001b[0m     \u001b[38;5;124m\"\u001b[39m\u001b[38;5;124m    xy[\u001b[39m\u001b[38;5;124m'\u001b[39m\u001b[38;5;124my\u001b[39m\u001b[38;5;124m'\u001b[39m\u001b[38;5;124m] = ylist\u001b[39m\u001b[38;5;130;01m\\n\u001b[39;00m\u001b[38;5;124m\"\u001b[39m,\n\u001b[0;32m     89\u001b[0m     \u001b[38;5;124m\"\u001b[39m\u001b[38;5;124m    xy.sort_values(by=[\u001b[39m\u001b[38;5;124m'\u001b[39m\u001b[38;5;124mx\u001b[39m\u001b[38;5;124m'\u001b[39m\u001b[38;5;124m, \u001b[39m\u001b[38;5;124m'\u001b[39m\u001b[38;5;124my\u001b[39m\u001b[38;5;124m'\u001b[39m\u001b[38;5;124m], inplace = True)\u001b[39m\u001b[38;5;130;01m\\n\u001b[39;00m\u001b[38;5;124m\"\u001b[39m,\n\u001b[0;32m     90\u001b[0m     \u001b[38;5;124m\"\u001b[39m\u001b[38;5;124m    xy.reset_index(drop = True, inplace = True)\u001b[39m\u001b[38;5;130;01m\\n\u001b[39;00m\u001b[38;5;124m\"\u001b[39m,\n\u001b[0;32m     91\u001b[0m     \u001b[38;5;124m\"\u001b[39m\u001b[38;5;124m    pointgroup_sorted = []\u001b[39m\u001b[38;5;130;01m\\n\u001b[39;00m\u001b[38;5;124m\"\u001b[39m,\n\u001b[0;32m     92\u001b[0m     \u001b[38;5;124m\"\u001b[39m\u001b[38;5;124m    for j in range(0, n):\u001b[39m\u001b[38;5;130;01m\\n\u001b[39;00m\u001b[38;5;124m\"\u001b[39m,\n\u001b[0;32m     93\u001b[0m     \u001b[38;5;124m\"\u001b[39m\u001b[38;5;124m        pointgroup_sorted.append(Point(xy[\u001b[39m\u001b[38;5;124m'\u001b[39m\u001b[38;5;124mx\u001b[39m\u001b[38;5;124m'\u001b[39m\u001b[38;5;124m][j], xy[\u001b[39m\u001b[38;5;124m'\u001b[39m\u001b[38;5;124my\u001b[39m\u001b[38;5;124m'\u001b[39m\u001b[38;5;124m][j]))\u001b[39m\u001b[38;5;130;01m\\n\u001b[39;00m\u001b[38;5;124m\"\u001b[39m,\n\u001b[0;32m     94\u001b[0m     \u001b[38;5;124m\"\u001b[39m\u001b[38;5;124m    return pointgroup_sorted\u001b[39m\u001b[38;5;130;01m\\n\u001b[39;00m\u001b[38;5;124m\"\u001b[39m\n\u001b[0;32m     95\u001b[0m    ]\n\u001b[0;32m     96\u001b[0m   },\n\u001b[0;32m     97\u001b[0m   {\n\u001b[0;32m     98\u001b[0m    \u001b[38;5;124m\"\u001b[39m\u001b[38;5;124mcell_type\u001b[39m\u001b[38;5;124m\"\u001b[39m: \u001b[38;5;124m\"\u001b[39m\u001b[38;5;124mcode\u001b[39m\u001b[38;5;124m\"\u001b[39m,\n\u001b[0;32m     99\u001b[0m    \u001b[38;5;124m\"\u001b[39m\u001b[38;5;124mexecution_count\u001b[39m\u001b[38;5;124m\"\u001b[39m: \u001b[38;5;241m3\u001b[39m,\n\u001b[0;32m    100\u001b[0m    \u001b[38;5;124m\"\u001b[39m\u001b[38;5;124mid\u001b[39m\u001b[38;5;124m\"\u001b[39m: \u001b[38;5;124m\"\u001b[39m\u001b[38;5;124m9ad05107\u001b[39m\u001b[38;5;124m\"\u001b[39m,\n\u001b[0;32m    101\u001b[0m    \u001b[38;5;124m\"\u001b[39m\u001b[38;5;124mmetadata\u001b[39m\u001b[38;5;124m\"\u001b[39m: {},\n\u001b[0;32m    102\u001b[0m    \u001b[38;5;124m\"\u001b[39m\u001b[38;5;124moutputs\u001b[39m\u001b[38;5;124m\"\u001b[39m: [],\n\u001b[0;32m    103\u001b[0m    \u001b[38;5;124m\"\u001b[39m\u001b[38;5;124msource\u001b[39m\u001b[38;5;124m\"\u001b[39m: [\n\u001b[0;32m    104\u001b[0m     \u001b[38;5;124m\"\u001b[39m\u001b[38;5;124m# The algorithm that works for concave hull also works for convex hull, \u001b[39m\u001b[38;5;130;01m\\n\u001b[39;00m\u001b[38;5;124m\"\u001b[39m,\n\u001b[0;32m    105\u001b[0m     \u001b[38;5;124m\"\u001b[39m\u001b[38;5;124m# so it\u001b[39m\u001b[38;5;124m'\u001b[39m\u001b[38;5;124ms not necessary to differeniate between convex and concave hull at the beginning.\u001b[39m\u001b[38;5;130;01m\\n\u001b[39;00m\u001b[38;5;124m\"\u001b[39m,\n\u001b[0;32m    106\u001b[0m     \u001b[38;5;124m\"\u001b[39m\u001b[38;5;130;01m\\n\u001b[39;00m\u001b[38;5;124m\"\u001b[39m,\n\u001b[0;32m    107\u001b[0m     \u001b[38;5;124m\"\u001b[39m\u001b[38;5;124m# Function: Check if one segment intersects with one polygon or not and calculate the overlapping length\u001b[39m\u001b[38;5;130;01m\\n\u001b[39;00m\u001b[38;5;124m\"\u001b[39m,\n\u001b[0;32m    108\u001b[0m     \u001b[38;5;124m\"\u001b[39m\u001b[38;5;124m## Notice: Touching the edge of polygon is not considered as intersection in the following lines\u001b[39m\u001b[38;5;130;01m\\n\u001b[39;00m\u001b[38;5;124m\"\u001b[39m,\n\u001b[0;32m    109\u001b[0m     \u001b[38;5;124m\"\u001b[39m\u001b[38;5;130;01m\\n\u001b[39;00m\u001b[38;5;124m\"\u001b[39m,\n\u001b[0;32m    110\u001b[0m     \u001b[38;5;124m\"\u001b[39m\u001b[38;5;124mdef inter_seg_pol_(seg, pol):\u001b[39m\u001b[38;5;130;01m\\n\u001b[39;00m\u001b[38;5;124m\"\u001b[39m,\n\u001b[0;32m    111\u001b[0m     \u001b[38;5;124m\"\u001b[39m\u001b[38;5;124m    # Create ordered segments from polygon\u001b[39m\u001b[38;5;130;01m\\n\u001b[39;00m\u001b[38;5;124m\"\u001b[39m,\n\u001b[0;32m    112\u001b[0m     \u001b[38;5;124m\"\u001b[39m\u001b[38;5;124m    segments_list = get_seg_from_pol(pol)\u001b[39m\u001b[38;5;130;01m\\n\u001b[39;00m\u001b[38;5;124m\"\u001b[39m,\n\u001b[0;32m    113\u001b[0m     \u001b[38;5;124m\"\u001b[39m\u001b[38;5;124m    # Prepare intersection segments list\u001b[39m\u001b[38;5;130;01m\\n\u001b[39;00m\u001b[38;5;124m\"\u001b[39m,\n\u001b[0;32m    114\u001b[0m     \u001b[38;5;124m\"\u001b[39m\u001b[38;5;124m    int_seg = []\u001b[39m\u001b[38;5;130;01m\\n\u001b[39;00m\u001b[38;5;124m\"\u001b[39m,\n\u001b[0;32m    115\u001b[0m     \u001b[38;5;124m\"\u001b[39m\u001b[38;5;124m    for i in range(0, (pol.size-1)):\u001b[39m\u001b[38;5;130;01m\\n\u001b[39;00m\u001b[38;5;124m\"\u001b[39m,\n\u001b[0;32m    116\u001b[0m     \u001b[38;5;124m\"\u001b[39m\u001b[38;5;124m        int_seg.append(seg.intersects(segments_list[i]))\u001b[39m\u001b[38;5;130;01m\\n\u001b[39;00m\u001b[38;5;124m\"\u001b[39m,\n\u001b[0;32m    117\u001b[0m     \u001b[38;5;124m\"\u001b[39m\u001b[38;5;124m    ## The segment has no intersection with edges of the polygon\u001b[39m\u001b[38;5;130;01m\\n\u001b[39;00m\u001b[38;5;124m\"\u001b[39m,\n\u001b[0;32m    118\u001b[0m     \u001b[38;5;124m\"\u001b[39m\u001b[38;5;124m    if set(int_seg) == \u001b[39m\u001b[38;5;132;01m{False}\u001b[39;00m\u001b[38;5;124m:\u001b[39m\u001b[38;5;130;01m\\n\u001b[39;00m\u001b[38;5;124m\"\u001b[39m,\n\u001b[0;32m    119\u001b[0m     \u001b[38;5;124m\"\u001b[39m\u001b[38;5;124m        ### The two points of the segment are both outside the polygon - No Need for further calculation\u001b[39m\u001b[38;5;130;01m\\n\u001b[39;00m\u001b[38;5;124m\"\u001b[39m,\n\u001b[0;32m    120\u001b[0m     \u001b[38;5;124m\"\u001b[39m\u001b[38;5;124m        if (pol.containsPoint(seg.start) == False) and (pol.containsPoint(seg.end) == False):\u001b[39m\u001b[38;5;130;01m\\n\u001b[39;00m\u001b[38;5;124m\"\u001b[39m,\n\u001b[0;32m    121\u001b[0m     \u001b[38;5;124m\"\u001b[39m\u001b[38;5;124m            length = 0\u001b[39m\u001b[38;5;130;01m\\n\u001b[39;00m\u001b[38;5;124m\"\u001b[39m,\n\u001b[0;32m    122\u001b[0m     \u001b[38;5;124m\"\u001b[39m\u001b[38;5;124m        ### The two points of the segment are both inside the polygon\u001b[39m\u001b[38;5;130;01m\\n\u001b[39;00m\u001b[38;5;124m\"\u001b[39m,\n\u001b[0;32m    123\u001b[0m     \u001b[38;5;124m\"\u001b[39m\u001b[38;5;124m        elif (pol.containsPoint(seg.start) == True) and (pol.containsPoint(seg.end) == True):\u001b[39m\u001b[38;5;130;01m\\n\u001b[39;00m\u001b[38;5;124m\"\u001b[39m,\n\u001b[0;32m    124\u001b[0m     \u001b[38;5;124m\"\u001b[39m\u001b[38;5;124m        #### Calculate the length of the segment\u001b[39m\u001b[38;5;130;01m\\n\u001b[39;00m\u001b[38;5;124m\"\u001b[39m,\n\u001b[0;32m    125\u001b[0m     \u001b[38;5;124m\"\u001b[39m\u001b[38;5;124m            length = seg.length\u001b[39m\u001b[38;5;130;01m\\n\u001b[39;00m\u001b[38;5;124m\"\u001b[39m,\n\u001b[0;32m    126\u001b[0m     \u001b[38;5;124m\"\u001b[39m\u001b[38;5;124m        else:\u001b[39m\u001b[38;5;130;01m\\n\u001b[39;00m\u001b[38;5;124m\"\u001b[39m,\n\u001b[0;32m    127\u001b[0m     \u001b[38;5;124m\"\u001b[39m\u001b[38;5;124m            length = length\u001b[39m\u001b[38;5;130;01m\\n\u001b[39;00m\u001b[38;5;124m\"\u001b[39m,\n\u001b[0;32m    128\u001b[0m     \u001b[38;5;124m\"\u001b[39m\u001b[38;5;124m    ## The segment has intersection with edges of the polygon\u001b[39m\u001b[38;5;130;01m\\n\u001b[39;00m\u001b[38;5;124m\"\u001b[39m,\n\u001b[0;32m    129\u001b[0m     \u001b[38;5;124m\"\u001b[39m\u001b[38;5;124m    else:\u001b[39m\u001b[38;5;130;01m\\n\u001b[39;00m\u001b[38;5;124m\"\u001b[39m,\n\u001b[0;32m    130\u001b[0m     \u001b[38;5;124m\"\u001b[39m\u001b[38;5;124m        length = 0\u001b[39m\u001b[38;5;130;01m\\n\u001b[39;00m\u001b[38;5;124m\"\u001b[39m,\n\u001b[0;32m    131\u001b[0m     \u001b[38;5;124m\"\u001b[39m\u001b[38;5;124m        point_i = []\u001b[39m\u001b[38;5;130;01m\\n\u001b[39;00m\u001b[38;5;124m\"\u001b[39m,\n\u001b[0;32m    132\u001b[0m     \u001b[38;5;124m\"\u001b[39m\u001b[38;5;124m        length_i = []\u001b[39m\u001b[38;5;130;01m\\n\u001b[39;00m\u001b[38;5;124m\"\u001b[39m,\n\u001b[0;32m    133\u001b[0m     \u001b[38;5;124m\"\u001b[39m\u001b[38;5;124m        seg_i = []\u001b[39m\u001b[38;5;130;01m\\n\u001b[39;00m\u001b[38;5;124m\"\u001b[39m,\n\u001b[0;32m    134\u001b[0m     \u001b[38;5;124m\"\u001b[39m\u001b[38;5;124m        for i in range(0, len(int_seg)):\u001b[39m\u001b[38;5;130;01m\\n\u001b[39;00m\u001b[38;5;124m\"\u001b[39m,\n\u001b[0;32m    135\u001b[0m     \u001b[38;5;124m\"\u001b[39m\u001b[38;5;124m            # Find the edges which the segment intersects with\u001b[39m\u001b[38;5;130;01m\\n\u001b[39;00m\u001b[38;5;124m\"\u001b[39m,\n\u001b[0;32m    136\u001b[0m     \u001b[38;5;124m\"\u001b[39m\u001b[38;5;124m            # Generate a list of intersecting points\u001b[39m\u001b[38;5;130;01m\\n\u001b[39;00m\u001b[38;5;124m\"\u001b[39m,\n\u001b[0;32m    137\u001b[0m     \u001b[38;5;124m\"\u001b[39m\u001b[38;5;124m            if int_seg[i] == True:\u001b[39m\u001b[38;5;130;01m\\n\u001b[39;00m\u001b[38;5;124m\"\u001b[39m,\n\u001b[0;32m    138\u001b[0m     \u001b[38;5;124m\"\u001b[39m\u001b[38;5;124m                # Check whether it is a touch or not\u001b[39m\u001b[38;5;130;01m\\n\u001b[39;00m\u001b[38;5;124m\"\u001b[39m,\n\u001b[0;32m    139\u001b[0m     \u001b[38;5;124m\"\u001b[39m\u001b[38;5;124m                if check_touch(seg, segments_list[i]) == False:\u001b[39m\u001b[38;5;130;01m\\n\u001b[39;00m\u001b[38;5;124m\"\u001b[39m,\n\u001b[0;32m    140\u001b[0m     \u001b[38;5;124m\"\u001b[39m\u001b[38;5;124m                    # Find the intersecting point and store it in a list\u001b[39m\u001b[38;5;130;01m\\n\u001b[39;00m\u001b[38;5;124m\"\u001b[39m,\n\u001b[0;32m    141\u001b[0m     \u001b[38;5;124m\"\u001b[39m\u001b[38;5;124m                    point_i.append(get_intersect_point(seg, segments_list[i]))\u001b[39m\u001b[38;5;130;01m\\n\u001b[39;00m\u001b[38;5;124m\"\u001b[39m,\n\u001b[0;32m    142\u001b[0m     \u001b[38;5;124m\"\u001b[39m\u001b[38;5;124m        point_i.append(seg.start)\u001b[39m\u001b[38;5;130;01m\\n\u001b[39;00m\u001b[38;5;124m\"\u001b[39m,\n\u001b[0;32m    143\u001b[0m     \u001b[38;5;124m\"\u001b[39m\u001b[38;5;124m        point_i.append(seg.end)\u001b[39m\u001b[38;5;130;01m\\n\u001b[39;00m\u001b[38;5;124m\"\u001b[39m,\n\u001b[0;32m    144\u001b[0m     \u001b[38;5;124m\"\u001b[39m\u001b[38;5;124m        point_i = sorting_PointGroup(point_i)\u001b[39m\u001b[38;5;130;01m\\n\u001b[39;00m\u001b[38;5;124m\"\u001b[39m,\n\u001b[0;32m    145\u001b[0m     \u001b[38;5;124m\"\u001b[39m\u001b[38;5;124m        # for j in range(1, ((len(point_i))-1)):\u001b[39m\u001b[38;5;130;01m\\n\u001b[39;00m\u001b[38;5;124m\"\u001b[39m,\n\u001b[0;32m    146\u001b[0m     \u001b[38;5;124m\"\u001b[39m\u001b[38;5;124m        for j in range(1, len(point_i)):\u001b[39m\u001b[38;5;130;01m\\n\u001b[39;00m\u001b[38;5;124m\"\u001b[39m,\n\u001b[0;32m    147\u001b[0m     \u001b[38;5;124m\"\u001b[39m\u001b[38;5;124m            seg_i.append(Segment(point_i[j-1], point_i[j]))\u001b[39m\u001b[38;5;130;01m\\n\u001b[39;00m\u001b[38;5;124m\"\u001b[39m,\n\u001b[0;32m    148\u001b[0m     \u001b[38;5;124m\"\u001b[39m\u001b[38;5;124m            # Check if the center of the segments lie inside or outside the polygon\u001b[39m\u001b[38;5;130;01m\\n\u001b[39;00m\u001b[38;5;124m\"\u001b[39m,\n\u001b[0;32m    149\u001b[0m     \u001b[38;5;124m\"\u001b[39m\u001b[38;5;124m            x_m = (point_i[j-1].x + point_i[j].x)/2\u001b[39m\u001b[38;5;130;01m\\n\u001b[39;00m\u001b[38;5;124m\"\u001b[39m,\n\u001b[0;32m    150\u001b[0m     \u001b[38;5;124m\"\u001b[39m\u001b[38;5;124m            y_m = (point_i[j-1].y + point_i[j].y)/2\u001b[39m\u001b[38;5;130;01m\\n\u001b[39;00m\u001b[38;5;124m\"\u001b[39m,\n\u001b[0;32m    151\u001b[0m     \u001b[38;5;124m\"\u001b[39m\u001b[38;5;124m            p_i_m = Point(x_m, y_m)\u001b[39m\u001b[38;5;130;01m\\n\u001b[39;00m\u001b[38;5;124m\"\u001b[39m,\n\u001b[0;32m    152\u001b[0m     \u001b[38;5;124m\"\u001b[39m\u001b[38;5;124m            if pol.containsPoint(p_i_m) == True:\u001b[39m\u001b[38;5;130;01m\\n\u001b[39;00m\u001b[38;5;124m\"\u001b[39m,\n\u001b[0;32m    153\u001b[0m     \u001b[38;5;124m\"\u001b[39m\u001b[38;5;124m                length_i.append((Segment(point_i[j-1], point_i[j])).length)\u001b[39m\u001b[38;5;130;01m\\n\u001b[39;00m\u001b[38;5;124m\"\u001b[39m,\n\u001b[0;32m    154\u001b[0m     \u001b[38;5;124m\"\u001b[39m\u001b[38;5;124m            else:\u001b[39m\u001b[38;5;130;01m\\n\u001b[39;00m\u001b[38;5;124m\"\u001b[39m,\n\u001b[0;32m    155\u001b[0m     \u001b[38;5;124m\"\u001b[39m\u001b[38;5;124m                length_i.append(0)\u001b[39m\u001b[38;5;130;01m\\n\u001b[39;00m\u001b[38;5;124m\"\u001b[39m,\n\u001b[0;32m    156\u001b[0m     \u001b[38;5;124m\"\u001b[39m\u001b[38;5;124m        length = sum(length_i)\u001b[39m\u001b[38;5;130;01m\\n\u001b[39;00m\u001b[38;5;124m\"\u001b[39m,\n\u001b[0;32m    157\u001b[0m     \u001b[38;5;124m\"\u001b[39m\u001b[38;5;124m        return length\u001b[39m\u001b[38;5;124m\"\u001b[39m\n\u001b[0;32m    158\u001b[0m    ]\n\u001b[0;32m    159\u001b[0m   },\n\u001b[0;32m    160\u001b[0m   {\n\u001b[0;32m    161\u001b[0m    \u001b[38;5;124m\"\u001b[39m\u001b[38;5;124mcell_type\u001b[39m\u001b[38;5;124m\"\u001b[39m: \u001b[38;5;124m\"\u001b[39m\u001b[38;5;124mcode\u001b[39m\u001b[38;5;124m\"\u001b[39m,\n\u001b[0;32m    162\u001b[0m    \u001b[38;5;124m\"\u001b[39m\u001b[38;5;124mexecution_count\u001b[39m\u001b[38;5;124m\"\u001b[39m: \u001b[38;5;241m4\u001b[39m,\n\u001b[0;32m    163\u001b[0m    \u001b[38;5;124m\"\u001b[39m\u001b[38;5;124mid\u001b[39m\u001b[38;5;124m\"\u001b[39m: \u001b[38;5;124m\"\u001b[39m\u001b[38;5;124m865d468e\u001b[39m\u001b[38;5;124m\"\u001b[39m,\n\u001b[0;32m    164\u001b[0m    \u001b[38;5;124m\"\u001b[39m\u001b[38;5;124mmetadata\u001b[39m\u001b[38;5;124m\"\u001b[39m: {},\n\u001b[0;32m    165\u001b[0m    \u001b[38;5;124m\"\u001b[39m\u001b[38;5;124moutputs\u001b[39m\u001b[38;5;124m\"\u001b[39m: [],\n\u001b[0;32m    166\u001b[0m    \u001b[38;5;124m\"\u001b[39m\u001b[38;5;124msource\u001b[39m\u001b[38;5;124m\"\u001b[39m: [\n\u001b[0;32m    167\u001b[0m     \u001b[38;5;124m\"\u001b[39m\u001b[38;5;124m# Plot function for segments\u001b[39m\u001b[38;5;130;01m\\n\u001b[39;00m\u001b[38;5;124m\"\u001b[39m,\n\u001b[0;32m    168\u001b[0m     \u001b[38;5;124m\"\u001b[39m\u001b[38;5;124mdef pS(seg):    \u001b[39m\u001b[38;5;130;01m\\n\u001b[39;00m\u001b[38;5;124m\"\u001b[39m,\n\u001b[0;32m    169\u001b[0m     \u001b[38;5;124m\"\u001b[39m\u001b[38;5;124m    x1 = [seg.start.x, seg.end.x]\u001b[39m\u001b[38;5;130;01m\\n\u001b[39;00m\u001b[38;5;124m\"\u001b[39m,\n\u001b[0;32m    170\u001b[0m     \u001b[38;5;124m\"\u001b[39m\u001b[38;5;124m    y1 = [seg.start.y, seg.end.y]\u001b[39m\u001b[38;5;130;01m\\n\u001b[39;00m\u001b[38;5;124m\"\u001b[39m,\n\u001b[0;32m    171\u001b[0m     \u001b[38;5;124m\"\u001b[39m\u001b[38;5;124m    plt.plot(x1, y1, linestyle=\u001b[39m\u001b[38;5;130;01m\\\"\u001b[39;00m\u001b[38;5;124mdashed\u001b[39m\u001b[38;5;130;01m\\\"\u001b[39;00m\u001b[38;5;124m, marker=\u001b[39m\u001b[38;5;130;01m\\\"\u001b[39;00m\u001b[38;5;124mo\u001b[39m\u001b[38;5;130;01m\\\"\u001b[39;00m\u001b[38;5;124m)\u001b[39m\u001b[38;5;130;01m\\n\u001b[39;00m\u001b[38;5;124m\"\u001b[39m,\n\u001b[0;32m    172\u001b[0m     \u001b[38;5;124m\"\u001b[39m\u001b[38;5;124m    plt.show()\u001b[39m\u001b[38;5;130;01m\\n\u001b[39;00m\u001b[38;5;124m\"\u001b[39m,\n\u001b[0;32m    173\u001b[0m     \u001b[38;5;124m\"\u001b[39m\u001b[38;5;124mdef pSS(seg1, seg2):\u001b[39m\u001b[38;5;130;01m\\n\u001b[39;00m\u001b[38;5;124m\"\u001b[39m,\n\u001b[0;32m    174\u001b[0m     \u001b[38;5;124m\"\u001b[39m\u001b[38;5;124m    x1 = [seg1.start.x, seg1.end.x]\u001b[39m\u001b[38;5;130;01m\\n\u001b[39;00m\u001b[38;5;124m\"\u001b[39m,\n\u001b[0;32m    175\u001b[0m     \u001b[38;5;124m\"\u001b[39m\u001b[38;5;124m    y1 = [seg1.start.y, seg1.end.y]\u001b[39m\u001b[38;5;130;01m\\n\u001b[39;00m\u001b[38;5;124m\"\u001b[39m,\n\u001b[0;32m    176\u001b[0m     \u001b[38;5;124m\"\u001b[39m\u001b[38;5;124m    plt.plot(x1, y1, linestyle=\u001b[39m\u001b[38;5;130;01m\\\"\u001b[39;00m\u001b[38;5;124mdashed\u001b[39m\u001b[38;5;130;01m\\\"\u001b[39;00m\u001b[38;5;124m, marker=\u001b[39m\u001b[38;5;130;01m\\\"\u001b[39;00m\u001b[38;5;124mo\u001b[39m\u001b[38;5;130;01m\\\"\u001b[39;00m\u001b[38;5;124m)\u001b[39m\u001b[38;5;130;01m\\n\u001b[39;00m\u001b[38;5;124m\"\u001b[39m,\n\u001b[0;32m    177\u001b[0m     \u001b[38;5;124m\"\u001b[39m\u001b[38;5;124m    x2 = [seg2.start.x, seg2.end.x]\u001b[39m\u001b[38;5;130;01m\\n\u001b[39;00m\u001b[38;5;124m\"\u001b[39m,\n\u001b[0;32m    178\u001b[0m     \u001b[38;5;124m\"\u001b[39m\u001b[38;5;124m    y2 = [seg2.start.y, seg2.end.y]\u001b[39m\u001b[38;5;130;01m\\n\u001b[39;00m\u001b[38;5;124m\"\u001b[39m,\n\u001b[0;32m    179\u001b[0m     \u001b[38;5;124m\"\u001b[39m\u001b[38;5;124m    plt.plot(x2, y2, linestyle=\u001b[39m\u001b[38;5;130;01m\\\"\u001b[39;00m\u001b[38;5;124mdashed\u001b[39m\u001b[38;5;130;01m\\\"\u001b[39;00m\u001b[38;5;124m, marker=\u001b[39m\u001b[38;5;130;01m\\\"\u001b[39;00m\u001b[38;5;124mo\u001b[39m\u001b[38;5;130;01m\\\"\u001b[39;00m\u001b[38;5;124m)\u001b[39m\u001b[38;5;130;01m\\n\u001b[39;00m\u001b[38;5;124m\"\u001b[39m,\n\u001b[0;32m    180\u001b[0m     \u001b[38;5;124m\"\u001b[39m\u001b[38;5;124m    plt.show()\u001b[39m\u001b[38;5;130;01m\\n\u001b[39;00m\u001b[38;5;124m\"\u001b[39m,\n\u001b[0;32m    181\u001b[0m     \u001b[38;5;124m\"\u001b[39m\u001b[38;5;124m# Plot function for polygons\u001b[39m\u001b[38;5;130;01m\\n\u001b[39;00m\u001b[38;5;124m\"\u001b[39m,\n\u001b[0;32m    182\u001b[0m     \u001b[38;5;124m\"\u001b[39m\u001b[38;5;124mdef pP(pol):\u001b[39m\u001b[38;5;130;01m\\n\u001b[39;00m\u001b[38;5;124m\"\u001b[39m,\n\u001b[0;32m    183\u001b[0m     \u001b[38;5;124m\"\u001b[39m\u001b[38;5;124m    xs = [i.x for i in pol]\u001b[39m\u001b[38;5;130;01m\\n\u001b[39;00m\u001b[38;5;124m\"\u001b[39m,\n\u001b[0;32m    184\u001b[0m     \u001b[38;5;124m\"\u001b[39m\u001b[38;5;124m    ys = [i.y for i in pol]\u001b[39m\u001b[38;5;130;01m\\n\u001b[39;00m\u001b[38;5;124m\"\u001b[39m,\n\u001b[0;32m    185\u001b[0m     \u001b[38;5;124m\"\u001b[39m\u001b[38;5;124m    plt.plot(xs, ys, linestyle=\u001b[39m\u001b[38;5;124m'\u001b[39m\u001b[38;5;124mdashed\u001b[39m\u001b[38;5;124m'\u001b[39m\u001b[38;5;124m)\u001b[39m\u001b[38;5;130;01m\\n\u001b[39;00m\u001b[38;5;124m\"\u001b[39m,\n\u001b[0;32m    186\u001b[0m     \u001b[38;5;124m\"\u001b[39m\u001b[38;5;124m    plt.show()\u001b[39m\u001b[38;5;130;01m\\n\u001b[39;00m\u001b[38;5;124m\"\u001b[39m,\n\u001b[0;32m    187\u001b[0m     \u001b[38;5;124m\"\u001b[39m\u001b[38;5;130;01m\\n\u001b[39;00m\u001b[38;5;124m\"\u001b[39m,\n\u001b[0;32m    188\u001b[0m     \u001b[38;5;124m\"\u001b[39m\u001b[38;5;124mdef plot_sp(seg, pol):\u001b[39m\u001b[38;5;130;01m\\n\u001b[39;00m\u001b[38;5;124m\"\u001b[39m,\n\u001b[0;32m    189\u001b[0m     \u001b[38;5;124m\"\u001b[39m\u001b[38;5;124m    xs = [i.x for i in pol]\u001b[39m\u001b[38;5;130;01m\\n\u001b[39;00m\u001b[38;5;124m\"\u001b[39m,\n\u001b[0;32m    190\u001b[0m     \u001b[38;5;124m\"\u001b[39m\u001b[38;5;124m    ys = [i.y for i in pol]\u001b[39m\u001b[38;5;130;01m\\n\u001b[39;00m\u001b[38;5;124m\"\u001b[39m,\n\u001b[0;32m    191\u001b[0m     \u001b[38;5;124m\"\u001b[39m\u001b[38;5;124m    plt.plot(xs, ys, linestyle=\u001b[39m\u001b[38;5;124m'\u001b[39m\u001b[38;5;124mdashed\u001b[39m\u001b[38;5;124m'\u001b[39m\u001b[38;5;124m)\u001b[39m\u001b[38;5;130;01m\\n\u001b[39;00m\u001b[38;5;124m\"\u001b[39m,\n\u001b[0;32m    192\u001b[0m     \u001b[38;5;124m\"\u001b[39m\u001b[38;5;124m    x1 = [seg.start.x, seg.end.x]\u001b[39m\u001b[38;5;130;01m\\n\u001b[39;00m\u001b[38;5;124m\"\u001b[39m,\n\u001b[0;32m    193\u001b[0m     \u001b[38;5;124m\"\u001b[39m\u001b[38;5;124m    y1 = [seg.start.y, seg.end.y]\u001b[39m\u001b[38;5;130;01m\\n\u001b[39;00m\u001b[38;5;124m\"\u001b[39m,\n\u001b[0;32m    194\u001b[0m     \u001b[38;5;124m\"\u001b[39m\u001b[38;5;124m    plt.plot(x1, y1, linestyle=\u001b[39m\u001b[38;5;130;01m\\\"\u001b[39;00m\u001b[38;5;124mdashed\u001b[39m\u001b[38;5;130;01m\\\"\u001b[39;00m\u001b[38;5;124m, marker=\u001b[39m\u001b[38;5;130;01m\\\"\u001b[39;00m\u001b[38;5;124mo\u001b[39m\u001b[38;5;130;01m\\\"\u001b[39;00m\u001b[38;5;124m)\u001b[39m\u001b[38;5;130;01m\\n\u001b[39;00m\u001b[38;5;124m\"\u001b[39m,\n\u001b[0;32m    195\u001b[0m     \u001b[38;5;124m\"\u001b[39m\u001b[38;5;124m    plt.show()\u001b[39m\u001b[38;5;124m\"\u001b[39m\n\u001b[0;32m    196\u001b[0m    ]\n\u001b[0;32m    197\u001b[0m   },\n\u001b[0;32m    198\u001b[0m   {\n\u001b[0;32m    199\u001b[0m    \u001b[38;5;124m\"\u001b[39m\u001b[38;5;124mcell_type\u001b[39m\u001b[38;5;124m\"\u001b[39m: \u001b[38;5;124m\"\u001b[39m\u001b[38;5;124mcode\u001b[39m\u001b[38;5;124m\"\u001b[39m,\n\u001b[0;32m    200\u001b[0m    \u001b[38;5;124m\"\u001b[39m\u001b[38;5;124mexecution_count\u001b[39m\u001b[38;5;124m\"\u001b[39m: \u001b[38;5;241m5\u001b[39m,\n\u001b[0;32m    201\u001b[0m    \u001b[38;5;124m\"\u001b[39m\u001b[38;5;124mid\u001b[39m\u001b[38;5;124m\"\u001b[39m: \u001b[38;5;124m\"\u001b[39m\u001b[38;5;124m838d1d5e\u001b[39m\u001b[38;5;124m\"\u001b[39m,\n\u001b[0;32m    202\u001b[0m    \u001b[38;5;124m\"\u001b[39m\u001b[38;5;124mmetadata\u001b[39m\u001b[38;5;124m\"\u001b[39m: {},\n\u001b[0;32m    203\u001b[0m    \u001b[38;5;124m\"\u001b[39m\u001b[38;5;124moutputs\u001b[39m\u001b[38;5;124m\"\u001b[39m: [],\n\u001b[0;32m    204\u001b[0m    \u001b[38;5;124m\"\u001b[39m\u001b[38;5;124msource\u001b[39m\u001b[38;5;124m\"\u001b[39m: [\n\u001b[0;32m    205\u001b[0m     \u001b[38;5;124m\"\u001b[39m\u001b[38;5;124mdef inter_multi_seg_pol(seg_g, pol_g):\u001b[39m\u001b[38;5;130;01m\\n\u001b[39;00m\u001b[38;5;124m\"\u001b[39m,\n\u001b[0;32m    206\u001b[0m     \u001b[38;5;124m\"\u001b[39m\u001b[38;5;124m    n = len(seg_g)\u001b[39m\u001b[38;5;130;01m\\n\u001b[39;00m\u001b[38;5;124m\"\u001b[39m,\n\u001b[0;32m    207\u001b[0m     \u001b[38;5;124m\"\u001b[39m\u001b[38;5;124m    m = len(pol_g)\u001b[39m\u001b[38;5;130;01m\\n\u001b[39;00m\u001b[38;5;124m\"\u001b[39m,\n\u001b[0;32m    208\u001b[0m     \u001b[38;5;124m\"\u001b[39m\u001b[38;5;124m    inter_length = np.zeros((n,m))\u001b[39m\u001b[38;5;130;01m\\n\u001b[39;00m\u001b[38;5;124m\"\u001b[39m,\n\u001b[0;32m    209\u001b[0m     \u001b[38;5;124m\"\u001b[39m\u001b[38;5;124m    for i in range(0,n):\u001b[39m\u001b[38;5;130;01m\\n\u001b[39;00m\u001b[38;5;124m\"\u001b[39m,\n\u001b[0;32m    210\u001b[0m     \u001b[38;5;124m\"\u001b[39m\u001b[38;5;124m        for j in range(0,m):\u001b[39m\u001b[38;5;130;01m\\n\u001b[39;00m\u001b[38;5;124m\"\u001b[39m,\n\u001b[0;32m    211\u001b[0m     \u001b[38;5;124m\"\u001b[39m\u001b[38;5;124m            inter_length[i, j] = inter_seg_pol_(seg_g[i], pol_g[j])\u001b[39m\u001b[38;5;130;01m\\n\u001b[39;00m\u001b[38;5;124m\"\u001b[39m,\n\u001b[0;32m    212\u001b[0m     \u001b[38;5;124m\"\u001b[39m\u001b[38;5;124m    inter_length[np.isnan(inter_length)] = 0\u001b[39m\u001b[38;5;130;01m\\n\u001b[39;00m\u001b[38;5;124m\"\u001b[39m,\n\u001b[0;32m    213\u001b[0m     \u001b[38;5;124m\"\u001b[39m\u001b[38;5;124m    print(inter_length)\u001b[39m\u001b[38;5;130;01m\\n\u001b[39;00m\u001b[38;5;124m\"\u001b[39m,\n\u001b[0;32m    214\u001b[0m     \u001b[38;5;124m\"\u001b[39m\u001b[38;5;124m    sum_length = inter_length.sum()\u001b[39m\u001b[38;5;130;01m\\n\u001b[39;00m\u001b[38;5;124m\"\u001b[39m,\n\u001b[0;32m    215\u001b[0m     \u001b[38;5;124m\"\u001b[39m\u001b[38;5;124m    return sum_length\u001b[39m\u001b[38;5;124m\"\u001b[39m\n\u001b[0;32m    216\u001b[0m    ]\n\u001b[0;32m    217\u001b[0m   }\n\u001b[0;32m    218\u001b[0m  ],\n\u001b[0;32m    219\u001b[0m  \u001b[38;5;124m\"\u001b[39m\u001b[38;5;124mmetadata\u001b[39m\u001b[38;5;124m\"\u001b[39m: {\n\u001b[0;32m    220\u001b[0m   \u001b[38;5;124m\"\u001b[39m\u001b[38;5;124mkernelspec\u001b[39m\u001b[38;5;124m\"\u001b[39m: {\n\u001b[0;32m    221\u001b[0m    \u001b[38;5;124m\"\u001b[39m\u001b[38;5;124mdisplay_name\u001b[39m\u001b[38;5;124m\"\u001b[39m: \u001b[38;5;124m\"\u001b[39m\u001b[38;5;124mPython 3 (ipykernel)\u001b[39m\u001b[38;5;124m\"\u001b[39m,\n\u001b[0;32m    222\u001b[0m    \u001b[38;5;124m\"\u001b[39m\u001b[38;5;124mlanguage\u001b[39m\u001b[38;5;124m\"\u001b[39m: \u001b[38;5;124m\"\u001b[39m\u001b[38;5;124mpython\u001b[39m\u001b[38;5;124m\"\u001b[39m,\n\u001b[0;32m    223\u001b[0m    \u001b[38;5;124m\"\u001b[39m\u001b[38;5;124mname\u001b[39m\u001b[38;5;124m\"\u001b[39m: \u001b[38;5;124m\"\u001b[39m\u001b[38;5;124mpython3\u001b[39m\u001b[38;5;124m\"\u001b[39m\n\u001b[0;32m    224\u001b[0m   },\n\u001b[0;32m    225\u001b[0m   \u001b[38;5;124m\"\u001b[39m\u001b[38;5;124mlanguage_info\u001b[39m\u001b[38;5;124m\"\u001b[39m: {\n\u001b[0;32m    226\u001b[0m    \u001b[38;5;124m\"\u001b[39m\u001b[38;5;124mcodemirror_mode\u001b[39m\u001b[38;5;124m\"\u001b[39m: {\n\u001b[0;32m    227\u001b[0m     \u001b[38;5;124m\"\u001b[39m\u001b[38;5;124mname\u001b[39m\u001b[38;5;124m\"\u001b[39m: \u001b[38;5;124m\"\u001b[39m\u001b[38;5;124mipython\u001b[39m\u001b[38;5;124m\"\u001b[39m,\n\u001b[0;32m    228\u001b[0m     \u001b[38;5;124m\"\u001b[39m\u001b[38;5;124mversion\u001b[39m\u001b[38;5;124m\"\u001b[39m: \u001b[38;5;241m3\u001b[39m\n\u001b[0;32m    229\u001b[0m    },\n\u001b[0;32m    230\u001b[0m    \u001b[38;5;124m\"\u001b[39m\u001b[38;5;124mfile_extension\u001b[39m\u001b[38;5;124m\"\u001b[39m: \u001b[38;5;124m\"\u001b[39m\u001b[38;5;124m.py\u001b[39m\u001b[38;5;124m\"\u001b[39m,\n\u001b[0;32m    231\u001b[0m    \u001b[38;5;124m\"\u001b[39m\u001b[38;5;124mmimetype\u001b[39m\u001b[38;5;124m\"\u001b[39m: \u001b[38;5;124m\"\u001b[39m\u001b[38;5;124mtext/x-python\u001b[39m\u001b[38;5;124m\"\u001b[39m,\n\u001b[0;32m    232\u001b[0m    \u001b[38;5;124m\"\u001b[39m\u001b[38;5;124mname\u001b[39m\u001b[38;5;124m\"\u001b[39m: \u001b[38;5;124m\"\u001b[39m\u001b[38;5;124mpython\u001b[39m\u001b[38;5;124m\"\u001b[39m,\n\u001b[0;32m    233\u001b[0m    \u001b[38;5;124m\"\u001b[39m\u001b[38;5;124mnbconvert_exporter\u001b[39m\u001b[38;5;124m\"\u001b[39m: \u001b[38;5;124m\"\u001b[39m\u001b[38;5;124mpython\u001b[39m\u001b[38;5;124m\"\u001b[39m,\n\u001b[0;32m    234\u001b[0m    \u001b[38;5;124m\"\u001b[39m\u001b[38;5;124mpygments_lexer\u001b[39m\u001b[38;5;124m\"\u001b[39m: \u001b[38;5;124m\"\u001b[39m\u001b[38;5;124mipython3\u001b[39m\u001b[38;5;124m\"\u001b[39m,\n\u001b[0;32m    235\u001b[0m    \u001b[38;5;124m\"\u001b[39m\u001b[38;5;124mversion\u001b[39m\u001b[38;5;124m\"\u001b[39m: \u001b[38;5;124m\"\u001b[39m\u001b[38;5;124m3.11.3\u001b[39m\u001b[38;5;124m\"\u001b[39m\n\u001b[0;32m    236\u001b[0m   }\n\u001b[0;32m    237\u001b[0m  },\n\u001b[0;32m    238\u001b[0m  \u001b[38;5;124m\"\u001b[39m\u001b[38;5;124mnbformat\u001b[39m\u001b[38;5;124m\"\u001b[39m: \u001b[38;5;241m4\u001b[39m,\n\u001b[0;32m    239\u001b[0m  \u001b[38;5;124m\"\u001b[39m\u001b[38;5;124mnbformat_minor\u001b[39m\u001b[38;5;124m\"\u001b[39m: \u001b[38;5;241m5\u001b[39m\n\u001b[0;32m    240\u001b[0m }\n",
      "\u001b[1;31mTypeError\u001b[0m: object of type 'itertools.chain' has no len()"
     ]
    }
   ],
   "source": [
    "similarities = []\n",
    "for i in range(0,2):\n",
    "    osm_point_group= np.array([[seg.start, seg.end] for seg in chain(lines_osm[i].segments)])\n",
    "    astra_point_group = np.array([[seg.start, seg.end] for seg in chain(lines_astra[i].segments)])\n",
    "    \n",
    "    osm_point_list = \n",
    "    astra_point_list\n",
    "    \n",
    "    \n",
    "    osm_coord_lists = [[point.x, point.y] for point in sorting_PointGroup(chain(*osm_point_group))][::50]\n",
    "    astra_coord_lists = [[point.x, point.y] for point in sorting_PointGroup(chain(*astra_point_group))][::50]\n",
    "    similarities.append(dtw(osm_coord_lists, astra_coord_lists))"
   ]
  }
 ],
 "metadata": {
  "kernelspec": {
   "display_name": "Python 3 (ipykernel)",
   "language": "python",
   "name": "python3"
  },
  "language_info": {
   "codemirror_mode": {
    "name": "ipython",
    "version": 3
   },
   "file_extension": ".py",
   "mimetype": "text/x-python",
   "name": "python",
   "nbconvert_exporter": "python",
   "pygments_lexer": "ipython3",
   "version": "3.11.3"
  }
 },
 "nbformat": 4,
 "nbformat_minor": 4
}
