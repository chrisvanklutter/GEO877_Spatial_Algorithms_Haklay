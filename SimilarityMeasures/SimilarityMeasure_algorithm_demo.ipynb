{
 "cells": [
  {
   "cell_type": "code",
   "execution_count": 15,
   "id": "cb890a45",
   "metadata": {},
   "outputs": [],
   "source": [
    "import matplotlib.pyplot as plt\n",
    "import pandas as pd\n",
    "import numpy as np\n",
    "from geospatial import *"
   ]
  },
  {
   "cell_type": "markdown",
   "id": "d5bffb34",
   "metadata": {},
   "source": [
    "Main Function"
   ]
  },
  {
   "cell_type": "code",
   "execution_count": 16,
   "id": "49f1f9b3",
   "metadata": {},
   "outputs": [],
   "source": [
    "# Function: Extract coordinates value from pointgroup\n",
    "# Input: a list of point, each point is of the point class from geospatial.py.\n",
    "# Output: a numpy array list of coordinates.\n",
    "def coordinate_list(pointgroup):\n",
    "    n = len(pointgroup)\n",
    "    valuelist = []\n",
    "    for i in range(0, n):\n",
    "        valuelist.append([pointgroup[i].x, pointgroup[i].y])\n",
    "    return valuelist\n",
    "\n",
    "# Function: calculate distance between each pair of points from two point group\n",
    "# Input: a list of points, each point is of the point class from geospatial.py.\n",
    "# Output: a matrix of distance value between each pair of points from the two point group.\n",
    "def distance_matrix_from_two_pointgroup(pointgroup1, pointgroup2):\n",
    "    n = len(pointgroup1)\n",
    "    m = len(pointgroup2)\n",
    "    distance_matrix = np.zeros((n, m))\n",
    "    for i in range(0, n):\n",
    "        for j in range(0, m):\n",
    "            distance_matrix[i, j] = pointgroup1[i].distEuclidean(pointgroup2[j])\n",
    "    return distance_matrix\n",
    "\n",
    "# Function: Calculate the dtw value(dynamic time warping distance)\n",
    "# Input: two list of points, each point is of the point class from geospatial.py.\n",
    "# Output 1: d[-1,-1], which is the dtw distance value, a float.\n",
    "# Output 2: d, the cumulative distance matrix\n",
    "def dtw(pointgroup1, pointgroup2):\n",
    "    d_matrix = distance_matrix_from_two_pointgroup(pointgroup1, pointgroup2)\n",
    "    d = np.zeros(d_matrix.shape)\n",
    "    d[0, 0] = d_matrix[0, 0]\n",
    "    n, m = d_matrix.shape\n",
    "    for i in range(1, n):\n",
    "        d[i, 0] = d[i-1, 0] + d_matrix[i, 0]\n",
    "    for j in range(1, m):\n",
    "        d[0, j] = d[0, j-1] + d_matrix[0, j]\n",
    "    for i in range(1, n):\n",
    "        for j in range(1, m):\n",
    "            d[i, j] = d_matrix[i, j] + min((d[i-1, j], d[i, j-1], d[i-1, j-1]))\n",
    "    # print(f\"dtw value: {d[-1, -1]}\")\n",
    "    # print(f\"dtw distance matrix: {d}\")\n",
    "    return d[-1, -1], d\n",
    "\n",
    "# Function: Calculate the optimal dtw path of a given dtw cumulative distance matrix\n",
    "# Input: a matrix, specifically a dtw cumulative distance matrix (result d of dtw function).\n",
    "# Output: a ndarray, the shortest/optimal path of the distance matrix from the first cell to the last one.\n",
    "def dtw_path(d):\n",
    "    path = []\n",
    "    i, j = d.shape\n",
    "    i = i - 1\n",
    "    j = j - 1\n",
    "    path.append((i, j))\n",
    "    while i > 0 or j > 0:\n",
    "        if i == 0:\n",
    "            j = j - 1\n",
    "        elif j == 0:\n",
    "            i = i - 1\n",
    "        else:\n",
    "            temp_step = min([d[i-1, j], d[i, j-1], d[i-1, j-1]])\n",
    "            if d[i-1, j] == temp_step:\n",
    "                i = i - 1\n",
    "            elif d[i, j-1] == temp_step:\n",
    "                j = j - 1\n",
    "            else:\n",
    "                i = i - 1\n",
    "                j = j - 1\n",
    "        path.append((i, j))\n",
    "    path = np.array(path)\n",
    "    # reverse the order of path, such that it starts with [0, 0]\n",
    "    return path[::-1]"
   ]
  },
  {
   "cell_type": "markdown",
   "id": "f3bf0087",
   "metadata": {},
   "source": [
    "Demo"
   ]
  },
  {
   "cell_type": "code",
   "execution_count": 17,
   "id": "a6535d1f",
   "metadata": {},
   "outputs": [
    {
     "data": {
      "text/plain": [
       "[<matplotlib.lines.Line2D at 0x2439fae7100>]"
      ]
     },
     "execution_count": 17,
     "metadata": {},
     "output_type": "execute_result"
    },
    {
     "data": {
      "image/png": "[encoded data removed]",
      "text/plain": [
       "<Figure size 432x288 with 1 Axes>"
      ]
     },
     "metadata": {
      "needs_background": "light"
     },
     "output_type": "display_data"
    }
   ],
   "source": [
    "# Build sample data for curves\n",
    "data1 = [Point(0,2), Point(5,0), Point(10,10), Point(15,0), Point(20,10), Point(25, 0), Point(30, 20), Point(35, 15), Point(45, 0), Point(50, 50)]\n",
    "data2 = [Point(0,3), Point(5,1), Point(10,11), Point(15,1), Point(20,11), Point(25, 1), Point(30, 21), Point(35, 16), Point(45, 1)]\n",
    "data3 = [Point(0,3), Point(5,0), Point(10,10), Point(15,0), Point(20,10), Point(25, 0), Point(30, 20), Point(35, 15), Point(45, 0), Point(50, 50)]\n",
    "data4 = [Point(-1,2),Point(0,2), Point(5,0), Point(10,10), Point(15,0), Point(20,10), Point(25, 0), Point(30, 20), Point(35, 15), Point(45, 0), Point(50, 50)]\n",
    "data5 = [Point(0,6), Point(8,1), Point(11,12), Point(13,5), Point(15,20), Point(18, 7), Point(25, 2), Point(32, 20), Point(40, 30), Point(45, 60)]\n",
    "data6 = [Point(-1,5), Point(6,10), Point(9,28), Point(10,40), Point(22,45), Point(23, 2), Point(28, -1), Point(30, 15), Point(35, 35), Point(40, 0)]\n",
    "\n",
    "# Visualization of point data group\n",
    "x1 = [i.x for i in data1]\n",
    "y1 = [i.y for i in data1]\n",
    "plt.plot(x1, y1, linestyle=\"dotted\", marker=\"o\")\n",
    "\n",
    "x2 = [i.x for i in data2]\n",
    "y2 = [i.y for i in data2]\n",
    "plt.plot(x2, y2, linestyle=\"dotted\", marker=\"o\")\n",
    "\n",
    "x3 = [i.x for i in data3]\n",
    "y3 = [i.y for i in data3]\n",
    "plt.plot(x3, y3, linestyle=\"dotted\", marker=\"o\")\n",
    "\n",
    "x4 = [i.x for i in data4]\n",
    "y4 = [i.y for i in data4]\n",
    "plt.plot(x4, y4, linestyle=\"dotted\", marker=\"o\")\n",
    "\n",
    "x5 = [i.x for i in data5]\n",
    "y5 = [i.y for i in data5]\n",
    "plt.plot(x5, y5, linestyle=\"dotted\", marker=\"o\")\n",
    "\n",
    "x6 = [i.x for i in data6]\n",
    "y6 = [i.y for i in data6]\n",
    "plt.plot(x6, y6, linestyle=\"dotted\", marker=\"o\")\n"
   ]
  },
  {
   "cell_type": "code",
   "execution_count": 18,
   "id": "2118662c",
   "metadata": {},
   "outputs": [
    {
     "name": "stdout",
     "output_type": "stream",
     "text": [
      "dtw value: 58.25444142409901\n",
      "dtw cumulative matrix: [[  1.           6.09901951  19.55264356  34.58593994  56.51765214\n",
      "   81.53764414 117.04820595 154.7443596  199.75546934]\n",
      " [  6.83095189   2.          14.08304597  24.13292159  42.73399683\n",
      "   62.75898123  95.40863666 129.40863666 169.42113471]\n",
      " [ 19.03750751  12.29563014   3.          13.29563014  23.34550576\n",
      "   40.83836145  63.66378587  89.37370613 125.51232813]\n",
      " [ 34.33456605  22.34550576  15.08304597   4.          16.08304597\n",
      "   26.13292159  51.9398974   77.55239435 107.56905639]\n",
      " [ 55.52418615  39.83836145  25.13292159  14.29563014   5.\n",
      "   15.29563014  30.16169889  46.31719331  72.88785382]\n",
      " [ 80.70354278  59.86334584  43.73399683  24.34550576  17.08304597\n",
      "    6.          27.58703314  46.45499541  66.3421777 ]\n",
      " [115.18542207  91.26398278  65.66570903  48.55294264  30.53667002\n",
      "   25.6468827    7.          13.40312424  37.61056111]\n",
      " [152.18542207 124.36987349  90.98368683  72.96605387  46.06084472\n",
      "   42.85153324  14.81024968   8.          25.20465053]\n",
      " [197.28531121 164.38237154 127.67155949 102.98271591  73.37384528\n",
      "   62.87651763  40.61722548  26.86796226   9.        ]\n",
      " [265.90746507 230.91056105 183.53747038 163.19899278 122.57750368\n",
      "  117.88560779  75.84505538  64.02977062  58.25444142]]\n",
      "dtw optimal path: [[0 0]\n",
      " [1 1]\n",
      " [2 2]\n",
      " [3 3]\n",
      " [4 4]\n",
      " [5 5]\n",
      " [6 6]\n",
      " [7 7]\n",
      " [8 8]\n",
      " [9 8]]\n"
     ]
    },
    {
     "data": {
      "image/png": "[encoded data removed]",
      "text/plain": [
       "<Figure size 432x288 with 2 Axes>"
      ]
     },
     "metadata": {
      "needs_background": "light"
     },
     "output_type": "display_data"
    }
   ],
   "source": [
    "r,d = dtw(data1, data2)\n",
    "print(f\"dtw value: {r}\")\n",
    "print(f\"dtw cumulative matrix: {d}\")\n",
    "print(f\"dtw optimal path: {dtw_path(d)}\")\n",
    "path = dtw_path(d)\n",
    "plt.figure()\n",
    "plt.imshow(d.T, origin='lower')\n",
    "plt.plot(path[:, 0], path[:, 1], '-k')\n",
    "plt.colorbar()\n",
    "plt.show()"
   ]
  },
  {
   "cell_type": "code",
   "execution_count": 19,
   "id": "c100e97f",
   "metadata": {},
   "outputs": [
    {
     "name": "stdout",
     "output_type": "stream",
     "text": [
      "dtw value: 1.0\n",
      "dtw cumulative matrix: [[  1.           6.38516481  19.19141328  34.32415923  55.86481846\n",
      "   80.94469087 115.93040224 153.26671164 198.31113416 267.62202797]\n",
      " [  6.83095189   1.          12.18033989  22.18033989  40.20809626\n",
      "   60.20809626  92.22371745 125.76473711 165.76473711 233.03285735]\n",
      " [ 19.03750751  12.18033989   1.          12.18033989  22.18033989\n",
      "   40.20809626  62.56877604  88.06387361 124.46442305 181.03296555]\n",
      " [ 34.33456605  22.18033989  12.18033989   1.          12.18033989\n",
      "   22.18033989  47.18033989  72.18033989 102.18033989 163.21311797]\n",
      " [ 55.52418615  40.20809626  22.18033989  12.18033989   1.\n",
      "   12.18033989  26.32247551  42.13386381  69.05968785 119.05968785]\n",
      " [ 80.70354278  60.20809626  40.20809626  22.18033989  12.18033989\n",
      "    1.          21.61552813  39.64328451  59.64328451 115.54498394]\n",
      " [115.18542207  92.22371745  62.56877604  47.18033989  26.32247551\n",
      "   21.61552813   1.           8.07106781  33.07106781  69.12658057]\n",
      " [152.18542207 125.76473711  88.06387361  72.18033989  42.13386381\n",
      "   39.64328451   8.07106781   1.          19.02775638  57.10662191]\n",
      " [197.28531121 165.76473711 124.46442305 102.18033989  69.05968785\n",
      "   59.64328451  33.07106781  19.02775638   1.          51.24937811]\n",
      " [265.90746507 233.03285735 181.03296555 163.21311797 119.05968785\n",
      "  115.54498394  69.12658057  57.10662191  51.24937811   1.        ]]\n",
      "dtw optimal path: [[0 0]\n",
      " [1 1]\n",
      " [2 2]\n",
      " [3 3]\n",
      " [4 4]\n",
      " [5 5]\n",
      " [6 6]\n",
      " [7 7]\n",
      " [8 8]\n",
      " [9 9]]\n"
     ]
    },
    {
     "data": {
      "image/png": "[encoded data removed]",
      "text/plain": [
       "<Figure size 432x288 with 2 Axes>"
      ]
     },
     "metadata": {
      "needs_background": "light"
     },
     "output_type": "display_data"
    }
   ],
   "source": [
    "r,d = dtw(data1, data3)\n",
    "print(f\"dtw value: {r}\")\n",
    "print(f\"dtw cumulative matrix: {d}\")\n",
    "print(f\"dtw optimal path: {dtw_path(d)}\")\n",
    "path = dtw_path(d)\n",
    "plt.figure()\n",
    "plt.imshow(d.T, origin='lower')\n",
    "plt.plot(path[:, 0], path[:, 1], '-k')\n",
    "plt.colorbar()\n",
    "plt.show()"
   ]
  },
  {
   "cell_type": "code",
   "execution_count": 20,
   "id": "c2881e5e",
   "metadata": {},
   "outputs": [
    {
     "name": "stdout",
     "output_type": "stream",
     "text": [
      "dtw value: 1.0\n",
      "dtw cumulative matrix: [[  1.           1.           6.38516481  19.19141328  34.32415923\n",
      "   55.86481846  80.94469087 115.93040224 153.26671164 198.31113416\n",
      "  267.62202797]\n",
      " [  7.32455532   6.38516481   1.          12.18033989  22.18033989\n",
      "   40.20809626  60.20809626  92.22371745 125.76473711 165.76473711\n",
      "  233.03285735]\n",
      " [ 20.92602583  19.19141328  12.18033989   1.          12.18033989\n",
      "   22.18033989  40.20809626  62.56877604  88.06387361 124.46442305\n",
      "  181.03296555]\n",
      " [ 37.05054133  34.32415923  22.18033989  12.18033989   1.\n",
      "   12.18033989  22.18033989  47.18033989  72.18033989 102.18033989\n",
      "  163.21311797]\n",
      " [ 59.52274638  55.86481846  40.20809626  22.18033989  12.18033989\n",
      "    1.          12.18033989  26.32247551  42.13386381  69.05968785\n",
      "  119.05968785]\n",
      " [ 85.599556    80.94469087  60.20809626  40.20809626  22.18033989\n",
      "   12.18033989   1.          21.61552813  39.64328451  59.64328451\n",
      "  115.54498394]\n",
      " [121.44645266 115.93040224  92.22371745  62.56877604  47.18033989\n",
      "   26.32247551  21.61552813   1.           8.07106781  33.07106781\n",
      "   69.12658057]\n",
      " [159.72177108 153.26671164 125.76473711  88.06387361  72.18033989\n",
      "   42.13386381  39.64328451   8.07106781   1.          19.02775638\n",
      "   57.10662191]\n",
      " [205.76522881 198.31113416 165.76473711 124.46442305 102.18033989\n",
      "   69.05968785  59.64328451  33.07106781  19.02775638   1.\n",
      "   51.24937811]\n",
      " [275.80093399 267.62202797 233.03285735 181.03296555 163.21311797\n",
      "  119.05968785 115.54498394  69.12658057  57.10662191  51.24937811\n",
      "    1.        ]]\n",
      "dtw optimal path: [[ 0  0]\n",
      " [ 0  1]\n",
      " [ 1  2]\n",
      " [ 2  3]\n",
      " [ 3  4]\n",
      " [ 4  5]\n",
      " [ 5  6]\n",
      " [ 6  7]\n",
      " [ 7  8]\n",
      " [ 8  9]\n",
      " [ 9 10]]\n"
     ]
    },
    {
     "data": {
      "image/png": "[encoded data removed]",
      "text/plain": [
       "<Figure size 432x288 with 2 Axes>"
      ]
     },
     "metadata": {
      "needs_background": "light"
     },
     "output_type": "display_data"
    }
   ],
   "source": [
    "r,d = dtw(data1, data4)\n",
    "print(f\"dtw value: {r}\")\n",
    "print(f\"dtw cumulative matrix: {d}\")\n",
    "print(f\"dtw optimal path: {dtw_path(d)}\")\n",
    "path = dtw_path(d)\n",
    "plt.figure()\n",
    "plt.imshow(d.T, origin='lower')\n",
    "plt.plot(path[:, 0], path[:, 1], '-k')\n",
    "plt.colorbar()\n",
    "plt.show()"
   ]
  },
  {
   "cell_type": "code",
   "execution_count": 21,
   "id": "6f5fb5f5",
   "metadata": {},
   "outputs": [
    {
     "name": "stdout",
     "output_type": "stream",
     "text": [
      "dtw value: 80.99450604160096\n",
      "dtw cumulative matrix: [[  4.          12.06225775  26.9283265   40.26999056  63.70073959\n",
      "   82.38228128 107.38228128 144.09740078 192.92362324 266.33343185]\n",
      " [ 11.81024968   7.16227766  20.57868553  30.01266666  52.37334643\n",
      "   67.13816949  87.23792073 120.83851597 166.93623825 239.04726376]\n",
      " [ 22.58057929  16.38182212   9.39834564  15.22929753  26.40963742\n",
      "   34.95364117  51.95364117  76.11973311 112.17524587 173.20802395]\n",
      " [ 38.73607371  23.45288993  22.04745628  14.78351044  34.78351044\n",
      "   34.02541053  44.22344955  70.47225905 109.52350743 176.60554675]\n",
      " [ 59.13215177  38.45288993  31.26700074  23.38583571  25.96385033\n",
      "   29.56940161  39.00338274  54.62388209  82.90815334 138.80985278]\n",
      " [ 84.84207203  55.4822763   49.70608965  36.38583571  45.74651549\n",
      "   35.86334527  31.56940161  52.75902171  86.30004137 146.15370654]\n",
      " [117.94796274  84.55116     70.32161778  59.05740381  51.38583571\n",
      "   53.55515128  50.2509433   33.56940161  47.71153723  90.43155596]\n",
      " [154.08658474 114.96497265  94.50839102  83.22349576  72.00136384\n",
      "   70.17412994  66.65216277  39.4003535   49.38078991  93.80925952]\n",
      " [199.4848226  151.9784837  130.56390378 115.61176524 108.05687659\n",
      "   98.0667813   86.75191401  63.25407439  69.81416615 109.38078991]\n",
      " [266.08812582 216.5152949  185.01571734 173.86981189 154.15459888\n",
      "  151.66715443 140.87215052  98.23978576  85.61475416  80.99450604]]\n",
      "dtw optimal path: [[0 0]\n",
      " [1 1]\n",
      " [2 2]\n",
      " [3 3]\n",
      " [4 4]\n",
      " [4 5]\n",
      " [5 6]\n",
      " [6 7]\n",
      " [7 7]\n",
      " [8 8]\n",
      " [9 9]]\n"
     ]
    },
    {
     "data": {
      "image/png": "[encoded data removed]",
      "text/plain": [
       "<Figure size 432x288 with 2 Axes>"
      ]
     },
     "metadata": {
      "needs_background": "light"
     },
     "output_type": "display_data"
    }
   ],
   "source": [
    "r,d = dtw(data1, data5)\n",
    "print(f\"dtw value: {r}\")\n",
    "print(f\"dtw cumulative matrix: {d}\")\n",
    "print(f\"dtw optimal path: {dtw_path(d)}\")\n",
    "path = dtw_path(d)\n",
    "plt.figure()\n",
    "plt.imshow(d.T, origin='lower')\n",
    "plt.plot(path[:, 0], path[:, 1], '-k')\n",
    "plt.colorbar()\n",
    "plt.show()"
   ]
  },
  {
   "cell_type": "code",
   "execution_count": 22,
   "id": "5477c79c",
   "metadata": {},
   "outputs": [
    {
     "name": "stdout",
     "output_type": "stream",
     "text": [
      "dtw value: 193.58919460686056\n",
      "dtw cumulative matrix: [[  3.16227766  13.16227766  40.67591064  79.96967605 128.27081476\n",
      "  151.27081476 179.43107044 212.12663589 260.23068977 300.28065856]\n",
      " [ 10.97252734  13.21215328  41.44654891  80.98719939 128.07372994\n",
      "  146.18450021 169.20622908 198.36098855 244.45871084 279.45871084]\n",
      " [ 23.05557331  14.97252734  31.23990966  61.23990966  98.23990966\n",
      "  113.50424718 134.59927029 155.21479842 190.57013748 222.19291408]\n",
      " [ 39.81862792  28.42615138  43.60816946  71.5511984  106.78109981\n",
      "  106.48612091 119.52452572 140.73772916 181.0490179  206.0490179 ]\n",
      " [ 61.40566107  42.42615138  49.52117449  75.23094606 106.60829469\n",
      "  115.03012466 120.08759142 130.70486561 159.85962508 182.22030486]\n",
      " [ 87.88206566  63.89706194  74.67518238  92.24119322 120.3308352\n",
      "  109.43672181 112.59899947 128.41038777 164.81093722 174.85962508]\n",
      " [122.32041637  89.89706194  86.36926699 102.95945362 118.49000272\n",
      "  128.74992973 130.53174492 117.59899947 133.41038777 155.77106755]\n",
      " [159.68349976 119.32493988 115.4381507  121.72460605 135.65501907\n",
      "  136.18180873 146.21417892 122.59899947 137.59899947 149.22177607]\n",
      " [205.95444096 159.58658415 161.0451677  168.58887976 172.26172112\n",
      "  157.74574111 153.2111951  143.81220291 158.99954892 142.59899947]\n",
      " [273.96914526 219.05085914 206.11614465 202.27622396 197.03180507\n",
      "  212.81842036 208.7539714  184.12349165 165.02540634 193.58919461]]\n",
      "dtw optimal path: [[0 0]\n",
      " [1 1]\n",
      " [2 2]\n",
      " [3 3]\n",
      " [4 4]\n",
      " [5 5]\n",
      " [5 6]\n",
      " [6 7]\n",
      " [7 8]\n",
      " [8 9]\n",
      " [9 9]]\n"
     ]
    },
    {
     "data": {
      "image/png": "[encoded data removed]",
      "text/plain": [
       "<Figure size 432x288 with 2 Axes>"
      ]
     },
     "metadata": {
      "needs_background": "light"
     },
     "output_type": "display_data"
    }
   ],
   "source": [
    "r,d = dtw(data1, data6)\n",
    "print(f\"dtw value: {r}\")\n",
    "print(f\"dtw cumulative matrix: {d}\")\n",
    "print(f\"dtw optimal path: {dtw_path(d)}\")\n",
    "path = dtw_path(d)\n",
    "plt.figure()\n",
    "plt.imshow(d.T, origin='lower')\n",
    "plt.plot(path[:, 0], path[:, 1], '-k')\n",
    "plt.colorbar()\n",
    "plt.show()"
   ]
  },
  {
   "cell_type": "markdown",
   "id": "0e7cd8b4",
   "metadata": {},
   "source": [
    "Based on the results, the dtw values between data1 and data3/data4 are the smallest. We could say data3 and data4 are more similar to data1 than other sample curve data."
   ]
  }
 ],
 "metadata": {
  "kernelspec": {
   "display_name": "Python 3 (ipykernel)",
   "language": "python",
   "name": "python3"
  },
  "language_info": {
   "codemirror_mode": {
    "name": "ipython",
    "version": 3
   },
   "file_extension": ".py",
   "mimetype": "text/x-python",
   "name": "python",
   "nbconvert_exporter": "python",
   "pygments_lexer": "ipython3",
   "version": "3.9.7"
  }
 },
 "nbformat": 4,
 "nbformat_minor": 5
}
