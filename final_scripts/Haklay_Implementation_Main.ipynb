{
 "cells": [
  {
   "cell_type": "markdown",
   "metadata": {},
   "source": [
    "# GEO877: Spatial Algorithms - Haklay \n",
    "\n"
   ]
  },
  {
   "cell_type": "markdown",
   "metadata": {},
   "source": [
    "## Introduction\n",
    "\n",
    "In this Jupyter Notebook we will replicate steps - and add upon some - taken within the paper by [Haklay](https://doi.org/10.1068/b35097) to compare volunteer geographic information to official geograpic data. For this we compare between [OpenStreetMap](https://www.openstreetmap.org/#map=9/46.8246/8.2245) (OSM) dataset and official datasets from the Swiss official bodies in our case [ASTRA](https://www.astra.admin.ch/astra/de/home.html).\n",
    "\n",
    "We divide our approach into an assessement of Precision and Completeness, with precision checking for the Intersection between OSM highways and buffered ASTRA highway data. Further explanation and discussion of our approach is included in the report.\n"
   ]
  },
  {
   "cell_type": "markdown",
   "metadata": {},
   "source": [
    "## Code structure\n",
    "This main jupyter notebook code calls functions from adjacent jupyter notebooks:  \n",
    "- Buffer.ipynb  \n",
    "- Segment_Polygon_Intersection.ipynb\n",
    "- Similarity_Measures.ipynb\n",
    "- geospatial.py"
   ]
  },
  {
   "cell_type": "markdown",
   "metadata": {},
   "source": [
    "# Table of Contents\n",
    "\n",
    "1. Initialization and Prerequisites  \n",
    "    1.1 Classes and Functions  \n",
    "    1.2 Datasets preprocessing  \n",
    "        * OSM  \n",
    "        * Swissdataset: Astra national roads  \n",
    "        * Datasets exploration and comparison  \n",
    "2. Positional accuracy  \n",
    "    2.1 Buffer approach  \n",
    "        * Buffer  \n",
    "        * Intersection   \n",
    "    2.2 Buffer approach on sample data  \n",
    "    2.3 Geometrical Similarity  \n",
    "3. Completeness  "
   ]
  },
  {
   "cell_type": "markdown",
   "metadata": {},
   "source": [
    "# 1. Initialization and Prerequisites"
   ]
  },
  {
   "cell_type": "code",
   "execution_count": 1,
   "metadata": {},
   "outputs": [],
   "source": [
    "# Basic geometries from GEO877 with some custom Classes for Buffer\n",
    "from geospatial import *\n",
    "\n",
    "# Plotting, Arrays, Filepath handling and basic flattenning nested lists\n",
    "import numpy as np\n",
    "from pathlib import Path\n",
    "import matplotlib.pyplot as plt\n",
    "from itertools import chain\n",
    "\n",
    "# Transformation of OSM data to projected CRS\n",
    "from pyproj import Transformer\n",
    "\n",
    "# OSM Part (and some selected apply() function calls)\n",
    "import geopandas as gpd\n",
    "\n",
    "# ASTRA Part (to load geodatabase)\n",
    "import fiona\n",
    "\n",
    "# Writing to results into pickles for caching between parts\n",
    "import pickle\n",
    "\n",
    "# For Preprocessing part - \n",
    "plot_steps = True #True to plot\n",
    "overwrite_pickles = True"
   ]
  },
  {
   "cell_type": "markdown",
   "metadata": {},
   "source": [
    "## 1.1 Classes and Functions"
   ]
  },
  {
   "cell_type": "code",
   "execution_count": 2,
   "metadata": {
    "tags": []
   },
   "outputs": [],
   "source": [
    "# Define class to store attributes with each motorway segment\n",
    "class MotorwaySegment(Segment):\n",
    "    \"\"\"\n",
    "    MotorwaySegments class to store original data in Basic geometry form.\n",
    "    In addition to base properties of geospatial.Segments following properties are defined:\n",
    "    - name (str): Numeric string of custom name within our script. (e.g.: \"1\")\n",
    "    - origin_name (str): Identifier/name in original data source (e.g.: \"A1\")\n",
    "    - source (str): String corresponding to shortname used to declare origin (e.g.: \"osm\")\n",
    "    - crs (str): String to identify Coordinate Reference System used as EPSG string (e.g.:'epsg:2056')\n",
    "    \"\"\"\n",
    "    def __init__(self, start, end, name=str(), origin_name=str(), source=str(), crs=str()):\n",
    "        # Initialize Segment superclass\n",
    "        super().__init__(start, end)\n",
    "        self.name = name\n",
    "        self.origin_name = origin_name\n",
    "        self.source = source\n",
    "        self.crs = crs\n",
    "    \n",
    "    # Overwrite representation to include name of Segment\n",
    "    def __repr__(self):\n",
    "        return f'MotorwaySegment of \"{self.name}\" with start {self.start} and end {self.end}.' \n",
    "    \n",
    "    def plot_seg(self, ax = None, color = 'blue', linewidth = 1, label = 'segments'):\n",
    "        \"\"\"\n",
    "        Plots a segment as line within matplotlib.pyplot figure.\n",
    "        \"\"\"\n",
    "        # List of x- and y- coordinates\n",
    "        xs = [self.start.x, self.end.x]\n",
    "        ys = [self.start.y, self.end.y]\n",
    "        # Add to custom ax\n",
    "        if ax:\n",
    "            ax.plot(xs, ys, color = color, linewidth = linewidth, label=label)\n",
    "        # Use default ax\n",
    "        else:\n",
    "            plt.plot(xs, ys, color = color, linewidth = linewidth, label=label)\n",
    "\n"
   ]
  },
  {
   "cell_type": "code",
   "execution_count": 3,
   "metadata": {
    "tags": []
   },
   "outputs": [],
   "source": [
    "class MotorwayLine():\n",
    "    \"\"\"\n",
    "    MotorwayLine class - LineString-like object to store original data in Basic geometry form for whole highways.\n",
    "    - segments (list): List of MotorwaySegment class objects\n",
    "    - name (str): Numeric string of custom name within our script. (e.g.: \"1\"). Assumes all MotorwaySegments passed have the same name.\n",
    "    - points (list): List of geospatial.Point objects\n",
    "    - points_x (list): List of x-coordinates\n",
    "    - points_y (list): List of y-coordinates\n",
    "    \"\"\"\n",
    "    #initialise\n",
    "    def __init__(self, data=None, xcol=None, ycol=None): #data = list of segments from the same street\n",
    "        self.segments = []\n",
    "        self.name = data[0].name\n",
    "        self.points = []\n",
    "        self.points_x = []\n",
    "        self.points_y = []\n",
    "        \n",
    "        for d in data:\n",
    "            #add segment\n",
    "            self.segments.append(d)\n",
    "            #add points - there will be duplicates /!\\\n",
    "            self.points.append(d.start)\n",
    "            self.points.append(d.end)\n",
    "            self.points_x.append(d.start.x)\n",
    "            self.points_x.append(d.end.x)\n",
    "            self.points_y.append(d.start.y)\n",
    "            self.points_y.append(d.end.y)  \n",
    "    \n",
    "    def __len__(self):\n",
    "        return len(self.segments)\n",
    "    \n",
    "        # Test for equality between Segments - we treat segments going in opposite directions as equal here\n",
    "    def __eq__(self, other): \n",
    "        if (self.points_x == other.points_x or self.points_x[::-1] == other.points_x) and (self.points_y == other.points_y or self.points_y[::-1] == other.points_y) :\n",
    "            return True\n",
    "        else:\n",
    "            return False\n",
    "            \n",
    "    # We need this method so that the class will behave sensibly in sets and dictionaries\n",
    "    def __hash__(self):\n",
    "        return hash((self.segments, self.points_x, self.points_y)) \n",
    "    \n",
    "    def removeDuplicates(self, print_change=False):\n",
    "        # Note: we could use inheritance within MotorwaySegments to remove duplicates\n",
    "        # Copy of geospatial.Segment\n",
    "        oldn = len(self.points)\n",
    "        self.points = list(dict.fromkeys(self.points)) # Get rid of the duplicates\n",
    "        n = len(self.points)\n",
    "        if print_change:\n",
    "            print(f'The old line had {oldn} points, now we only have {n}.')\n",
    "        return self\n",
    "        \n",
    "    def bbox(self):\n",
    "        # Copy of geospatial\n",
    "        x = [i.x for i in self.points]   # extract all x coords as a list\n",
    "        y = [i.y for i in self.points]   # extract all y coords as a list\n",
    "\n",
    "        # determine corners, calculate centre and area\n",
    "        self.ll = Point(min(x), min(y))    # lower-left corner (min x, min y)\n",
    "        self.ur = Point(max(x), max(y))    # upper-right corner (max x, max y)\n",
    "        self.ctr = Point((max(x)-min(x))/2, (max(y)-min(y))/2)   # centre of box\n",
    "        self.area = (abs(max(x)-min(x)))*abs((max(y)-min(y)))    # area of box\n",
    "        print(f'Bounding box with lower-left {self.ll} and upper-right {self.ur}' )\n",
    "        return self.ll, self.ur\n",
    "    \n",
    "    def plot_bbox(self):\n",
    "        \"\"\"\n",
    "        Plots bounding box of MotorwayLine in question in current axis.\n",
    "        \"\"\"\n",
    "        ll, ur = self.bbox()\n",
    "        plt.plot([ll.x, ll.x, ur.x, ur.x, ll.x], [ll.y, ur.y, ur.y, ll.y, ll.y], linestyle='dashed')\n",
    "\n",
    "    def plot_seg(self, ax = None, color = 'blue', linewidth = 1, label = 'segments'):\n",
    "        \"\"\"\n",
    "        Plots a segment as line within matplotlib.pyplot figure.\n",
    "        \"\"\"\n",
    "        for seg in self.segments:\n",
    "            seg.plot_seg(ax = ax, color = color, linewidth = linewidth, label = label)\n",
    "\n",
    "        \n",
    "     # Overwrite representation\n",
    "    def __repr__(self):\n",
    "        return f'MotorwayLine \"{self.name}\" has \"{len(self.segments)}\" segments, and \"{len(self.points)}\" points.'    \n"
   ]
  },
  {
   "cell_type": "code",
   "execution_count": 4,
   "metadata": {
    "tags": []
   },
   "outputs": [],
   "source": [
    "def name_mapping(in_name):\n",
    "    \"\"\"\n",
    "    Single use function to map names of the OSM data to custom names e.g.: A1;A4 -> 1; A1 -> 1\n",
    "    \"\"\"\n",
    "    #special cases, checked on QGIS:\n",
    "    name_map = {\"32\": 1,\n",
    "            \"A1;A4\": 1,\n",
    "            \"A1;A2\": 1,\n",
    "            \"A1;A3\": 1,\n",
    "            \"A1;A6\": 1,\n",
    "            \"A1;A9\": 1,\n",
    "            \"A9;A 2\": 2,\n",
    "            \"A2;A3\": 2,\n",
    "            \"A3;A4\": 3,\n",
    "            \"53\": 15,\n",
    "            \"A20;20\": 20\n",
    "           }\n",
    "    if in_name in name_map.keys():\n",
    "        return name_map[in_name]\n",
    "\n",
    "    #correct cases:\n",
    "    if \";\" not in in_name:\n",
    "        return int(''.join(filter(str.isdigit, in_name)))\n",
    "    \n",
    "    #catch new roads names\n",
    "    else:\n",
    "        print(in_name)\n",
    "        print(\"Name not treated\")"
   ]
  },
  {
   "cell_type": "code",
   "execution_count": 5,
   "metadata": {
    "tags": []
   },
   "outputs": [],
   "source": [
    "def linestring_to_motorwaysegment_list(ls_seg):\n",
    "    name = ls_seg[\"name\"]\n",
    "    name_origin = ls_seg[\"ref\"]\n",
    "    source = ls_seg[\"source\"]\n",
    "    crs = ls_seg[\"crs\"]\n",
    "    point_list = tuple(Point(x,y) for x,y in zip(*ls_seg.geometry.coords.xy))\n",
    "    if len(point_list) <=1:\n",
    "        print(\"Cannot build MotorwaySegment from line with less than 2 points!\")\n",
    "        return\n",
    "    else:\n",
    "        segment_list = [MotorwaySegment(start, end, name, name_origin, source, crs) for start,end in zip(point_list[:-1],point_list[1:])]\n",
    "        return segment_list"
   ]
  },
  {
   "cell_type": "code",
   "execution_count": 6,
   "metadata": {
    "tags": []
   },
   "outputs": [],
   "source": [
    "def transform_segment(segment, transformer, to_crs):\n",
    "    start = segment.start\n",
    "    end = segment.end\n",
    "    name = segment.name\n",
    "    source = segment.source\n",
    "    crs = segment.crs\n",
    "    start_transformed = transformer.transform(start.y, start.x)\n",
    "    end_transformed = transformer.transform(end.y, end.x)\n",
    "    transformed_segment = MotorwaySegment(Point(*start_transformed), Point(*end_transformed), name, source, to_crs)\n",
    "    return transformed_segment"
   ]
  },
  {
   "cell_type": "code",
   "execution_count": 7,
   "metadata": {},
   "outputs": [],
   "source": [
    "# Aim to add cell_index column\n",
    "# =====\n",
    "class CellSegment(MotorwaySegment):\n",
    "    def __init__(self, motorwaysegment, precision=2):\n",
    "        # Copy attributes from motorwaysegment\n",
    "        self.__dict__ = motorwaysegment.__dict__.copy()\n",
    "        # Add additional attributes\n",
    "        self.index1 = 0\n",
    "        self.index2 = 0\n",
    "        self.precision = precision\n",
    "        self.set_precision(precision)\n",
    "    \n",
    "    def set_precision(self,n_significant_digit=None):\n",
    "        self.start.x = round(self.start.x, n_significant_digit)\n",
    "        self.start.y = round(self.start.y, n_significant_digit)\n",
    "        self.end.x = round(self.end.x, n_significant_digit)\n",
    "        self.end.y = round(self.end.y, n_significant_digit)\n",
    "        self.precision = n_significant_digit\n",
    "        return\n",
    "    \n",
    "    def __repr__(self):\n",
    "        return f'CellSegment of \"{self.name}\" with start {self.start} and end {self.end}, start cell in {self.index1} and end cell in {self.index2}.'\n",
    "    "
   ]
  },
  {
   "cell_type": "code",
   "execution_count": 8,
   "metadata": {},
   "outputs": [],
   "source": [
    "# Aim to package all the related variables and functions to one class\n",
    "# =====\n",
    "class CellLength():\n",
    "    def __init__(self, data, box, res, precision=2):\n",
    "        self.data = data\n",
    "        # Number of grid rows and colums\n",
    "        self.res = res #res = resolution\n",
    "        self.precision = precision\n",
    "        self.w = box.ur.x - box.ll.x\n",
    "        self.h = box.ur.y - box.ll.y\n",
    "        self.nCols = int(self.w/ self.res)+1\n",
    "        self.nRows = int(self.h/ self.res)+1\n",
    "        \n",
    "        ur = Point(box.ll.x + (self.nCols * self.res), box.ll.y + (self.nRows * self.res))\n",
    "        ll = box.ll\n",
    "        self.bBox = Bbox([ll, ur])\n",
    "        \n",
    "        # Cell with index to store the length\n",
    "        self.maxIndex = (self.nCols * self.nRows) -1        \n",
    "        # Use a NumPy array instead of a list to store cellLength data (float16 to constrain memory use)\n",
    "        self.cellLength = np.zeros(self.maxIndex + 1, dtype=np.float16)\n",
    "            \n",
    "    def addIndex(self):\n",
    "        for segment in self.data:\n",
    "            segment.index1 = self.pointIndex(segment.start)  # add index of start point\n",
    "            segment.index2 = self.pointIndex(segment.end)  # add index of end point   \n",
    "    \n",
    "    def pointIndex(self, p): # Define the which cell the point is in\n",
    "        j = int((p.y - self.bBox.ll.y)/ self.res)\n",
    "        i = int((p.x - self.bBox.ll.x)/ self.res)\n",
    "        return (j * self.nCols) + i    \n",
    "    \n",
    "    def addLength(self):\n",
    "        self.addIndex()\n",
    "\n",
    "        self.length = 0\n",
    "        self.seg_ab = []\n",
    "\n",
    "        for seg in self.data:\n",
    "            seg_length = self.segLength(seg.start, seg.end)\n",
    "            if seg.index1 == seg.index2: # if in the same cell\n",
    "                index = seg.index1\n",
    "                self.cellLength[index] += seg_length\n",
    "                self.length += seg_length\n",
    "            else:\n",
    "                point1 = seg.start\n",
    "                point2 = seg.end\n",
    "                index1 = seg.index1\n",
    "                index2 = seg.index2\n",
    "\n",
    "                j1 = int((point1.y - self.bBox.ll.y) / self.res)\n",
    "                i1 = int((point1.x - self.bBox.ll.x) / self.res)\n",
    "                j2 = int((point2.y - self.bBox.ll.y) / self.res)\n",
    "                i2 = int((point2.x - self.bBox.ll.x) / self.res)\n",
    "\n",
    "                min_i = min(i1,i2)\n",
    "                max_i = max(i1,i2)\n",
    "                min_j = min(j1,j2)\n",
    "                max_j = max(j1,j2)\n",
    "\n",
    "                points = [point1, point2]\n",
    "\n",
    "                if point1.x == point2.x:\n",
    "                    # Handle vertical line segment\n",
    "                    while min_j < max_j: \n",
    "                        intersect_y = (min_j + 1)*self.res + self.bBox.ll.y \n",
    "                        intersect_x = point1.x\n",
    "                        point_new = Point(intersect_x,intersect_y)\n",
    "                        points.append(point_new)\n",
    "                        min_j += 1\n",
    "                elif point1.y == point2.y:\n",
    "                    # Handle horizontal line segment\n",
    "                    while min_i < max_i: \n",
    "                        intersect_x = (min_i + 1)*self.res + self.bBox.ll.x \n",
    "                        intersect_y = point1.y\n",
    "                        point_new = Point(intersect_x,intersect_y)\n",
    "                        points.append(point_new)\n",
    "                        min_i += 1\n",
    "                else:\n",
    "                    k = (point2.y - point1.y)/(point2.x - point1.x)\n",
    "                    b =  point1.y - (k * point1.x)\n",
    "\n",
    "                    while min_j < max_j: \n",
    "                        intersect_y = (min_j + 1)*self.res + self.bBox.ll.y \n",
    "                        intersect_x = (intersect_y - b)/k\n",
    "                        point_new = Point(intersect_x,intersect_y)\n",
    "                        points.append(point_new)\n",
    "                        min_j += 1\n",
    "\n",
    "                    while min_i < max_i: \n",
    "                        intersect_x = (min_i + 1)*self.res + self.bBox.ll.x\n",
    "                        intersect_y = k*intersect_x + b\n",
    "                        point_new = Point(intersect_x,intersect_y)\n",
    "                        points.append(point_new)\n",
    "                        min_i += 1\n",
    "\n",
    "                # Sort points by x-coordinate\n",
    "                points.sort(key=lambda p: p.x)\n",
    "\n",
    "                # Calculate length\n",
    "                for i in range(len(points)-1):\n",
    "                    start = points[i]\n",
    "                    end = points[i+1]\n",
    "                    seg_cellindex = self.pointIndex(points[i+1])\n",
    "                    length = self.segLength(start, end)\n",
    "                    self.cellLength[seg_cellindex] += round(length, self.precision)\n",
    "\n",
    "    def segLength(self,p1,p2):  # calculate segment length\n",
    "        return p1.distEuclidean(p2) \n",
    "    "
   ]
  },
  {
   "cell_type": "code",
   "execution_count": 9,
   "metadata": {},
   "outputs": [],
   "source": [
    "def write_to_pickle(variable, filename):\n",
    "    with open(filename, 'wb') as f:\n",
    "        pickle.dump(variable, f)\n",
    "\n",
    "def read_from_pickle(filename):\n",
    "    with open(filename, 'rb') as f:\n",
    "        variable = pickle.load(f)\n",
    "    return variable"
   ]
  },
  {
   "cell_type": "markdown",
   "metadata": {},
   "source": [
    "## 1.2 Datasets preprocessing"
   ]
  },
  {
   "cell_type": "markdown",
   "metadata": {},
   "source": [
    "### OSM"
   ]
  },
  {
   "cell_type": "markdown",
   "metadata": {},
   "source": [
    "#### Download data"
   ]
  },
  {
   "cell_type": "code",
   "execution_count": 10,
   "metadata": {},
   "outputs": [],
   "source": [
    "# Define Filepath and OSM tags\n",
    "tags = {\"highway\":\"motorway\"}\n",
    "motorway_file_path = Path(r\"./data/motorways_osm.geojson\")\n",
    "\n",
    "# Download OSM Data to GeoDataFrame() if GeoJSON does not exist\n",
    "if motorway_file_path.is_file():\n",
    "    motorways = gpd.read_file(motorway_file_path)\n",
    "else:\n",
    "    # Needs special requirements for shapely, geopandas and other packages /!\\\n",
    "    # Use ox package to download geometries from\n",
    "    import osmnx as ox\n",
    "    motorways = ox.geometries_from_place(\"Switzerland\",tags=tags)\n",
    "    # Convert lists to strings for GeoJSON\n",
    "    motorways = motorways.apply(lambda col: col.astype(str) if isinstance(col[0], list) else col)\n",
    "    motorways.to_file(motorway_file_path, \"GeoJSON\")\n",
    "\n",
    "if plot_steps:\n",
    "    motorways.plot()"
   ]
  },
  {
   "cell_type": "markdown",
   "metadata": {},
   "source": [
    "#### Data filtering\n",
    "To have the same data as in ASTRA, some filter has to be applied.\n",
    "\n",
    "Some highways collected in OSM are not taken care by ASTRA, but by cantons. They are therefore not in ASTRA datasets and were discarded (\"A50\" and \"A51\").\n",
    "Subsections of the highway \"A1\" (\"A1a\", \"A1H\", \"A1R\", \"A1L\", \"A3W\"), are not represented in the ASTRA data, and were therefore discarded.  \n",
    "\"A24\" was also discarded as it is a road feeder and was normally not represented in OSM like the other road feeders.\n"
   ]
  },
  {
   "cell_type": "code",
   "execution_count": 11,
   "metadata": {},
   "outputs": [],
   "source": [
    "#Remove unwanted segments and remove NA\n",
    "discard_list = [\"A1a\", \"A1H\", \"A1R\",\"A1R;5\", \"A1L\", \"A3W\", \"A24\", \"A50\", \"7;A50\", \"A51\"]\n",
    "filter_osm = ~motorways.ref.isin(discard_list)\n",
    "motorways = motorways[filter_osm]\n",
    "motorways = motorways[motorways['ref'].notna()]\n"
   ]
  },
  {
   "cell_type": "markdown",
   "metadata": {},
   "source": [
    "#### Convert LineString() to list of MotorwaySegment()"
   ]
  },
  {
   "cell_type": "code",
   "execution_count": 12,
   "metadata": {},
   "outputs": [],
   "source": [
    "mway = motorways.copy()\n",
    "mway[\"geometry\"] = mway.geometry.explode(index_parts=False)\n",
    "mway[\"source\"] = \"osm\"\n",
    "mway[\"crs\"] = 'epsg:4326'\n",
    "mway[\"name\"] = mway['ref'].apply(name_mapping)\n",
    "\n",
    "mway[\"segments\"] = mway.apply(linestring_to_motorwaysegment_list, axis=1)\n",
    "mway = mway.explode(\"segments\", index_parts=False)\n",
    "mway = mway.reset_index()"
   ]
  },
  {
   "cell_type": "markdown",
   "metadata": {},
   "source": [
    "#### Transform from EPSG:4326 to EPSG:2056"
   ]
  },
  {
   "cell_type": "code",
   "execution_count": 13,
   "metadata": {},
   "outputs": [],
   "source": [
    "# Example 4326 to 2056\n",
    "from_crs = 'epsg:4326'\n",
    "to_crs = 'epsg:2056'\n",
    "\n",
    "transformer = Transformer.from_crs(from_crs, to_crs)\n",
    "motorway_segments_transformed = mway[\"segments\"].apply(transform_segment, transformer=transformer, to_crs=to_crs)\n",
    "if plot_steps:\n",
    "    print(f\"{mway['segments'][0]} {mway['segments'][0].crs}\",\n",
    "          f\"{motorway_segments_transformed[0]} \\t {motorway_segments_transformed[0].crs}\",\n",
    "          sep=\"\\n\")"
   ]
  },
  {
   "cell_type": "markdown",
   "metadata": {},
   "source": [
    "#### Roads renaming\n",
    "As OSM data is not rigorious, some corrections had to be made on the name registered. Visual data inspection was required for some cryptic names (\"32\", \"52\", \"nan\", ...). Then, only the number of the road has been kept.  \n",
    "Example of corrections: \"A 12\" -> \"A12\", \"A10;7\" -> \"A10\", \"53\" -> \"A15\".\n"
   ]
  },
  {
   "cell_type": "code",
   "execution_count": 14,
   "metadata": {
    "tags": []
   },
   "outputs": [],
   "source": [
    "if plot_steps:\n",
    "    streetnames_osm_toclean = motorways.ref.unique()\n",
    "\n",
    "    print(streetnames_osm_toclean)\n",
    "    print(len(streetnames_osm_toclean))\n",
    "\n",
    "    # Test/showcase only (not needed in main script)\n",
    "    #build streetnames_osm list\n",
    "    streetnames_osm = list(set(name_mapping(street) for street in streetnames_osm_toclean))\n",
    "\n",
    "    print(sorted(streetnames_osm))\n",
    "    print(len(streetnames_osm))"
   ]
  },
  {
   "cell_type": "markdown",
   "metadata": {},
   "source": [
    "#### Class MotorwayLine"
   ]
  },
  {
   "cell_type": "code",
   "execution_count": 15,
   "metadata": {},
   "outputs": [],
   "source": [
    "# Create Lookup dictionary with Segments by segment name (1:[MotorwaysSegment,...],2:[],...)\n",
    "segments_by_name = {}\n",
    "for segment in motorway_segments_transformed:\n",
    "    if segment.name not in segments_by_name:\n",
    "        segments_by_name[segment.name] = []\n",
    "    segments_by_name[segment.name].append(segment)\n",
    "\n",
    "streetnames_osm = motorway_segments_transformed.apply(lambda x: x.name).unique()\n",
    "motorway_osm_lines = []\n",
    "for streetname in streetnames_osm:\n",
    "    # Use streetname to retrieve list of segments\n",
    "    list_segments = segments_by_name.get(streetname, [])\n",
    "    if list_segments:\n",
    "        motorwayLine = MotorwayLine(list_segments)\n",
    "        motorway_osm_lines.append(motorwayLine)\n",
    "\n",
    "motorway_osm_lines = sorted(motorway_osm_lines, key=lambda x: x.name)\n",
    "\n",
    "if plot_steps:\n",
    "    print(motorway_osm_lines[0])\n",
    "    print(motorway_osm_lines[0].segments[0].origin_name)\n",
    "    len(motorway_osm_lines)"
   ]
  },
  {
   "cell_type": "markdown",
   "metadata": {},
   "source": [
    "#### Data exploration"
   ]
  },
  {
   "cell_type": "code",
   "execution_count": 16,
   "metadata": {},
   "outputs": [],
   "source": [
    "if plot_steps:\n",
    "    motorway_osm_lines[0].segments[0:10]"
   ]
  },
  {
   "cell_type": "code",
   "execution_count": 17,
   "metadata": {},
   "outputs": [],
   "source": [
    "if plot_steps:\n",
    "    # PLOT FROM ORIGINAL GEOMETRY\n",
    "    print(len(motorways[motorways[\"ref\"]==\"A2\"]))\n",
    "    motorways[motorways[\"ref\"]==\"A2\"].plot()"
   ]
  },
  {
   "cell_type": "code",
   "execution_count": 18,
   "metadata": {},
   "outputs": [],
   "source": [
    "if plot_steps:\n",
    "    # PLOT A1\n",
    "    print(motorway_osm_lines[1])\n",
    "    motorway_osm_lines[1].removeDuplicates(print_change=True)\n",
    "    motorway_osm_lines[1].plot_bbox()\n",
    "    motorway_osm_lines[1].plot_seg()"
   ]
  },
  {
   "cell_type": "markdown",
   "metadata": {},
   "source": [
    "### Swissdataset: Astra national roads"
   ]
  },
  {
   "cell_type": "markdown",
   "metadata": {},
   "source": [
    "#### Download data\n",
    "Download data from:  \n",
    "https://data.geo.admin.ch/browser/index.html#/collections/ch.astra.nationalstrassenachsen/items/nationalstrassenachsen?.language=en&.asset=asset-nationalstrassenachsen_2056.gdb.zip \n"
   ]
  },
  {
   "cell_type": "code",
   "execution_count": 19,
   "metadata": {},
   "outputs": [],
   "source": [
    "#import .gdb\n",
    "fiona.listlayers(Path(r\"data/national_roads/ch.astra.nationalstrassenachsen.gdb\"))\n",
    "motorways_ch = gpd.read_file(Path(r\"data/national_roads/ch.astra.nationalstrassenachsen.gdb\"), driver='FileGDB', layer='Stammachsen')\n",
    "if plot_steps:\n",
    "    motorways_ch.plot()"
   ]
  },
  {
   "cell_type": "code",
   "execution_count": 20,
   "metadata": {},
   "outputs": [],
   "source": [
    "if plot_steps:\n",
    "    #visualize first 3 rows\n",
    "    motorways_ch[0:3]"
   ]
  },
  {
   "cell_type": "markdown",
   "metadata": {},
   "source": [
    "#### Data filtering\n",
    "The federal roads office ASTRA [[1]](https://www.astra.admin.ch/astra/fr/home/themes/routes-nationales/reseau.html) is responsible for the national roads, i.e. the most important roads for Switzerland. Therefore ASTRA datasets do not only include highways, but also main roads.   \n",
    "To sort national roads, a visual inspection of both datasets (OSM and ASTRA) was made on QGIS. This helped discovering that one of the attributes in ASTRA dataset could be used as a filter:\n",
    "- Positionscode \"=\".  \n",
    "\"=\" indicates that this is a one way road, which correlates with not being a highway, therefore not present in OSM dataset with the tag \"highway\".  \n",
    "8 national roads were removed entirely this way (N1BAR, N2BEL, N2P, N17, N24, N25, N28 and N29).\n",
    "Excepted for N24 (feeder road), which was removed even though it was also on OSM, this proved to be an efficient and quick filter.  \n",
    "Out of 28 national roads, 20 then remained.\n",
    "\n",
    "In addition, to crossvalidate the results, the following ressources have been used:  \n",
    "- [autobahnen.ch](https://www.autobahnen.ch/).\n",
    "- [Wiki page: List of the swiss national roads](https://de.wikipedia.org/wiki/Liste_der_Nationalstrassen_der_Schweiz)\n",
    "- [Wiki page: List of the swiss highways and motorroads](https://de.wikipedia.org/wiki/Liste_der_Autobahnen_und_Autostrassen_in_der_Schweiz)\n",
    "\n",
    "Astra dataset is unfortunately poorly documented online, therefore wikipedia was a useful source.\n",
    "\n",
    "[[1]]: https://www.astra.admin.ch/astra/fr/home/themes/routes-nationales/reseau.html"
   ]
  },
  {
   "cell_type": "markdown",
   "metadata": {},
   "source": [
    "#### Renaming of the roads\n",
    "National roads numbers (N1 -> N...) correspond with highways numbers (A1 -> A...), therefore the renaming contained only the number."
   ]
  },
  {
   "cell_type": "code",
   "execution_count": 21,
   "metadata": {},
   "outputs": [],
   "source": [
    "# Remove positionscode\n",
    "filt_equal = motorways_ch[\"Positionscode\"] != \"=\"\n",
    "motorways_ch = motorways_ch.copy().loc[filt_equal]"
   ]
  },
  {
   "cell_type": "code",
   "execution_count": 22,
   "metadata": {},
   "outputs": [],
   "source": [
    "# Extract streetname and convert to int\n",
    "motorways_ch.loc[:, 'streetname'] = motorways_ch['Strassennummer'].str.extract(r'(\\d+)').astype(int)\n",
    "\n",
    "streetnames_ch = motorways_ch['streetname'].unique()\n",
    "if plot_steps:\n",
    "    print(sorted(streetnames_ch))\n",
    "    print(len(streetnames_ch))"
   ]
  },
  {
   "cell_type": "markdown",
   "metadata": {
    "tags": []
   },
   "source": [
    "#### Class MotorwaySegment"
   ]
  },
  {
   "cell_type": "code",
   "execution_count": 23,
   "metadata": {},
   "outputs": [],
   "source": [
    "mway_ch = motorways_ch.copy()\n",
    "mway_ch[\"geometry\"] = mway_ch.geometry.explode(index_parts=False)\n",
    "mway_ch[\"source\"] = \"astra\"\n",
    "mway_ch[\"crs\"] = 'epsg:2056'\n",
    "mway_ch[\"name\"] = mway_ch['streetname']\n",
    "mway_ch[\"ref\"] = mway_ch[\"Strassennummer\"]\n",
    "\n",
    "mway_ch['segments'] = mway_ch.apply(linestring_to_motorwaysegment_list, axis=1)\n",
    "mway_ch = mway_ch.explode(\"segments\", index_parts=False)\n",
    "mway_ch = mway_ch.reset_index()"
   ]
  },
  {
   "cell_type": "markdown",
   "metadata": {},
   "source": [
    "#### Class MotorwayLine"
   ]
  },
  {
   "cell_type": "code",
   "execution_count": 24,
   "metadata": {},
   "outputs": [],
   "source": [
    "segments_by_name = {}\n",
    "for segment in mway_ch['segments']:\n",
    "    if segment.name not in segments_by_name:\n",
    "        segments_by_name[segment.name] = []\n",
    "    segments_by_name[segment.name].append(segment)\n",
    "\n",
    "motorway_ch_lines = []\n",
    "for streetname in streetnames_ch:\n",
    "    list_segments = segments_by_name.get(streetname,[])\n",
    "    if list_segments:\n",
    "        motorwayLine = MotorwayLine(list_segments)\n",
    "        motorway_ch_lines.append(motorwayLine)\n",
    "\n",
    "motorway_ch_lines = sorted(motorway_ch_lines, key=lambda x: x.name)\n",
    "\n",
    "if plot_steps:\n",
    "    print(motorway_ch_lines[1])\n",
    "    print(motorway_ch_lines[1].segments[1].origin_name)\n",
    "    len(motorway_ch_lines)"
   ]
  },
  {
   "cell_type": "markdown",
   "metadata": {},
   "source": [
    "### Datasets exploration and comparison"
   ]
  },
  {
   "cell_type": "markdown",
   "metadata": {},
   "source": [
    "#### Write MotorwayLine to Pickle"
   ]
  },
  {
   "cell_type": "code",
   "execution_count": 25,
   "metadata": {},
   "outputs": [],
   "source": [
    "# motorway_ch_lines to Pickle\n",
    "write_to_pickle(motorway_osm_lines, \"motorway_osm_lines.pkl\")\n",
    "write_to_pickle(motorway_ch_lines, \"motorway_ch_lines.pkl\")"
   ]
  },
  {
   "cell_type": "markdown",
   "metadata": {},
   "source": [
    "#### Data exploration"
   ]
  },
  {
   "cell_type": "code",
   "execution_count": 26,
   "metadata": {
    "tags": []
   },
   "outputs": [],
   "source": [
    "for motorway in motorway_ch_lines:\n",
    "    if motorway.name == 2:\n",
    "        N2 = motorway\n",
    "\n",
    "if plot_steps:\n",
    "    N2.segments[0:10]"
   ]
  },
  {
   "cell_type": "code",
   "execution_count": 27,
   "metadata": {
    "tags": []
   },
   "outputs": [],
   "source": [
    "if plot_steps:\n",
    "    # PLOT A2 FROM ORIGINAL GEOMETRY\n",
    "    print(len(motorways_ch[motorways_ch[\"Strassennummer\"] == \"N2\"]))\n",
    "    motorways_ch[motorways_ch[\"Strassennummer\"] == \"N2\"].plot()"
   ]
  },
  {
   "cell_type": "code",
   "execution_count": 28,
   "metadata": {
    "tags": []
   },
   "outputs": [],
   "source": [
    "if plot_steps:\n",
    "    # PLOT A2 FROM MOTORWAY LINES\n",
    "    print(N2)\n",
    "    N2.removeDuplicates(print_change=True)\n",
    "    N2.plot_bbox()\n",
    "    N2.plot_seg()"
   ]
  },
  {
   "cell_type": "markdown",
   "metadata": {},
   "source": [
    "#### Comparison of the motorway lines"
   ]
  },
  {
   "cell_type": "code",
   "execution_count": 29,
   "metadata": {
    "tags": []
   },
   "outputs": [],
   "source": [
    "if plot_steps:\n",
    "    print(sorted(streetnames_osm))\n",
    "    print(sorted(streetnames_ch))\n",
    "    print(len(streetnames_osm))"
   ]
  },
  {
   "cell_type": "code",
   "execution_count": 30,
   "metadata": {},
   "outputs": [],
   "source": [
    "if plot_steps:\n",
    "    fig, axs = plt.subplots(5, 4, figsize=(12, 12))\n",
    "    for i in range(5): #5\n",
    "        for j in range(4): #4\n",
    "            index = i * 4 + j\n",
    "            motorway_ch_lines[index].plot_seg(ax = axs[i, j], label=\"ASTRA\", color = \"blue\", linewidth = 5)\n",
    "            motorway_osm_lines[index].plot_seg(ax = axs[i, j], label=\"OSM\", color = \"red\")\n",
    "            axs[i, j].set_title(f'A{motorway_osm_lines[index].name}')\n",
    "            axs[i,j].set_aspect('equal', adjustable='datalim')\n",
    "\n",
    "    # Affichage de la figure\n",
    "    plt.tight_layout()\n",
    "    plt.show()\n",
    "    #fig.savefig(\"plots/osm_astra_comparison.png\")"
   ]
  },
  {
   "cell_type": "code",
   "execution_count": 31,
   "metadata": {},
   "outputs": [],
   "source": [
    "#Stitching together code snippets\n",
    "import nbimporter\n",
    "from Buffer import buffer\n",
    "from Segment_Polygon_Intersection import *\n",
    "from Similarity_Measures import dtw\n"
   ]
  },
  {
   "cell_type": "markdown",
   "metadata": {},
   "source": [
    "# 2. Positional accuracy"
   ]
  },
  {
   "cell_type": "markdown",
   "metadata": {},
   "source": [
    "## 2.1 Buffer approach"
   ]
  },
  {
   "cell_type": "markdown",
   "metadata": {},
   "source": [
    "### Buffering MotorwayLines"
   ]
  },
  {
   "cell_type": "code",
   "execution_count": 32,
   "metadata": {},
   "outputs": [],
   "source": [
    "from Buffer import buffer"
   ]
  },
  {
   "cell_type": "code",
   "execution_count": 33,
   "metadata": {},
   "outputs": [],
   "source": [
    "### FUNCTION FROM CHAT GPT ###\n",
    "def simplify_points(points_list, epsilon):\n",
    "    result = []\n",
    "    for points in points_list:\n",
    "        simplified_points = [points[0]]\n",
    "        for i in range(1, len(points)):\n",
    "            x1, y1 = simplified_points[-1].x, simplified_points[-1].y\n",
    "            x2, y2 = points[i].x, points[i].y\n",
    "            if sqrt((x2 - x1) ** 2 + (y2 - y1) ** 2) > epsilon:\n",
    "                simplified_points.append(points[i])\n",
    "        result.append(simplified_points)\n",
    "    return result"
   ]
  },
  {
   "cell_type": "code",
   "execution_count": 34,
   "metadata": {},
   "outputs": [],
   "source": [
    "astra = read_from_pickle(\"motorway_ch_lines.pkl\")\n",
    "osm = read_from_pickle(\"motorway_osm_lines.pkl\")\n",
    "\n",
    "list_unique_points_astra = simplify_points([mw_line.removeDuplicates(print_change=False).points for mw_line in astra], 99)\n",
    "#buffered_astra = buffer(nodes=list_unique_points_astra[0], dist=10, nn=20, reduction=50)\n",
    "buffered_astra = list(map(lambda points: buffer(nodes=points, dist=100, nn=3, reduction=25), list_unique_points_astra[:2]))\n",
    "write_to_pickle(buffered_astra, \"buffered_astra.pkl\")"
   ]
  },
  {
   "cell_type": "code",
   "execution_count": 35,
   "metadata": {},
   "outputs": [],
   "source": [
    "list_unique_points_osm = [mw_line.removeDuplicates(print_change=False).points for mw_line in osm]\n",
    "buffered_osm = list(map(lambda points: buffer(nodes=points, dist=100, nn=3, reduction=50), list_unique_points_osm[:2]))\n",
    "write_to_pickle(buffered_osm, \"buffered_osm.pkl\")"
   ]
  },
  {
   "cell_type": "code",
   "execution_count": 36,
   "metadata": {},
   "outputs": [
    {
     "data": {
      "image/png": "[encoded data removed]",
      "text/plain": [
       "<Figure size 2000x2000 with 1 Axes>"
      ]
     },
     "metadata": {},
     "output_type": "display_data"
    }
   ],
   "source": [
    "fig, ax0 = plt.subplots(figsize = (20,20))\n",
    "\n",
    "buffered_astra_segments = [[p1,p2] for p1,p2 in zip(buffered_astra[0], buffered_astra[1])]\n",
    "buffered_osm_segments = [[p1,p2] for p1,p2 in zip(buffered_osm[0], buffered_osm[1])]\n",
    "\n",
    "\n",
    "for polygon in buffered_astra:\n",
    "    ax0.plot([p.x for p in polygon.points],\n",
    "             [p.y for p in polygon.points], color = 'red')\n",
    "    \n",
    "for mwayline in motorway_ch_lines[:2]:\n",
    "    mwayline.removeDuplicates(print_change=False).plot_seg(ax=ax0, color=\"blue\")\n",
    "\n",
    "#for polygon in buffered_osm:\n",
    "#    ax0.plot([p.x for p in polygon.points],\n",
    "#             [p.y for p in polygon.points], color = 'blue')\n",
    "\n",
    "ax0.set_xlabel('X')\n",
    "ax0.set_ylabel('Y')\n",
    "ax0.set_title('Sample Buffer')\n",
    "ax0.set_aspect('equal')"
   ]
  },
  {
   "cell_type": "markdown",
   "metadata": {},
   "source": [
    "### Intersection Buffer Geometries"
   ]
  },
  {
   "cell_type": "code",
   "execution_count": 37,
   "metadata": {},
   "outputs": [],
   "source": [
    "# Load points in array([[]])\n",
    "motorway_ch_lines = read_from_pickle(\"motorway_ch_lines.pkl\")\n",
    "motorway_osm_lines = read_from_pickle(\"motorway_osm_lines.pkl\")\n",
    "buffered_astra = read_from_pickle(\"buffered_astra.pkl\")\n",
    "buffered_osm = read_from_pickle(\"buffered_osm.pkl\")\n"
   ]
  },
  {
   "cell_type": "code",
   "execution_count": 38,
   "metadata": {},
   "outputs": [],
   "source": [
    "osm_segs = [seg for seg in chain(*[mw_line.segments for mw_line in motorway_osm_lines[:2]])]"
   ]
  },
  {
   "cell_type": "code",
   "execution_count": 39,
   "metadata": {},
   "outputs": [
    {
     "name": "stdout",
     "output_type": "stream",
     "text": [
      "[[  0.           0.        ]\n",
      " [ 51.71735869   0.        ]\n",
      " [ 64.0966356    0.        ]\n",
      " ...\n",
      " [  0.         121.25981977]\n",
      " [  0.          95.1973665 ]\n",
      " [  0.          19.32985   ]]\n"
     ]
    },
    {
     "data": {
      "text/plain": [
       "0.6857076612127317"
      ]
     },
     "execution_count": 39,
     "metadata": {},
     "output_type": "execute_result"
    }
   ],
   "source": [
    "inter = inter_multi_seg_pol(seg_g=osm_segs, pol_g=buffered_astra)\n",
    "inter/sum([seg.length for seg in osm_segs]) "
   ]
  },
  {
   "cell_type": "markdown",
   "metadata": {},
   "source": [
    "-> The results are 68 % of overlapping."
   ]
  },
  {
   "cell_type": "markdown",
   "metadata": {},
   "source": [
    "## 2.2 Buffer approach on sample data"
   ]
  },
  {
   "cell_type": "markdown",
   "metadata": {},
   "source": [
    "We will try our algorithm on simpler sample data which does not require simplification of the buffers."
   ]
  },
  {
   "cell_type": "code",
   "execution_count": 40,
   "metadata": {},
   "outputs": [],
   "source": [
    "#Loading sample data from disk and convert into Points\n",
    "\n",
    "highway1 = pd.read_csv(\"data\\sample1_points.csv\")\n",
    "highway1_nodes = []\n",
    "for index, row in highway1.iterrows():\n",
    "    obj = Point(row['x'], row['y'])\n",
    "    highway1_nodes.append(obj)\n",
    "    \n",
    "#Highway2\n",
    "highway2 = pd.read_csv(\"data\\sample3_points.csv\")\n",
    "highway2_nodes = []\n",
    "for index, row in highway2.iterrows():\n",
    "    obj = Point(row['x'], row['y'])\n",
    "    highway2_nodes.append(obj)\n",
    "\n",
    "#convert to segments\n",
    "highway2_seg = []\n",
    "for i in range(1, len(highway2_nodes)):\n",
    "    highway2_seg.append(Segment(highway2_nodes[i-1], highway2_nodes[i]))\n",
    "\n",
    "#for plot\n",
    "highway2_seg_xs=[]\n",
    "highway2_seg_ys=[]\n",
    "for seg in highway2_seg:\n",
    "    x1_ = [seg.start.x, seg.end.x]\n",
    "    y1_ = [seg.start.y, seg.end.y]\n",
    "    highway2_seg_xs.append(x1_)\n",
    "    highway2_seg_ys.append(y1_)\n",
    "    "
   ]
  },
  {
   "cell_type": "markdown",
   "metadata": {},
   "source": [
    "### Buffer sample data"
   ]
  },
  {
   "cell_type": "code",
   "execution_count": 41,
   "metadata": {},
   "outputs": [],
   "source": [
    "#buffer highway 1\n",
    "highway1_buffered = buffer(highway1_nodes,500,10) # nodes list, dist_tobuffer, n°nearest neighbours, reduction"
   ]
  },
  {
   "cell_type": "code",
   "execution_count": 42,
   "metadata": {},
   "outputs": [
    {
     "data": {
      "image/png": "[encoded data removed]",
      "text/plain": [
       "<Figure size 2000x2000 with 1 Axes>"
      ]
     },
     "metadata": {},
     "output_type": "display_data"
    }
   ],
   "source": [
    "fig, ax0 = plt.subplots(figsize = (20,20))\n",
    "ax0.scatter([i.x for i in highway1_nodes],[i.y for i in highway1_nodes], color = 'blue', alpha = 0.5, label=\"Highway1\")\n",
    "ax0.scatter([i.x for i in highway2_nodes],[i.y for i in highway2_nodes], color = 'red', alpha = 0.5, label=\"Highway2\")\n",
    "ax0.plot([i.x for i in highway1_buffered],[i.y for i in highway1_buffered], color = 'blue', label=\"buffer\")\n",
    "ax0.plot(highway2_seg_xs, highway2_seg_ys, color = \"red\")\n",
    "ax0.set_xlabel('X')\n",
    "ax0.set_ylabel('Y')\n",
    "ax0.set_title('Sample Buffer')\n",
    "ax0.legend()\n",
    "ax0.set_aspect('equal')"
   ]
  },
  {
   "cell_type": "markdown",
   "metadata": {},
   "source": [
    "### Intersect buffered data"
   ]
  },
  {
   "cell_type": "code",
   "execution_count": 43,
   "metadata": {},
   "outputs": [
    {
     "name": "stdout",
     "output_type": "stream",
     "text": [
      "[[29724.02033204]\n",
      " [ 1236.15745058]\n",
      " [24343.3980783 ]]\n",
      "Overlapping sections:\n"
     ]
    },
    {
     "data": {
      "text/plain": [
       "0.657498212299148"
      ]
     },
     "execution_count": 43,
     "metadata": {},
     "output_type": "execute_result"
    }
   ],
   "source": [
    "sample_inter = inter_multi_seg_pol(seg_g=highway2_seg, pol_g=[highway1_buffered])\n",
    "sample_inter\n",
    "#overlap\n",
    "print(\"Overlapping sections:\")\n",
    "sample_inter/sum([seg.length for seg in highway2_seg])"
   ]
  },
  {
   "cell_type": "markdown",
   "metadata": {},
   "source": [
    "-> Overlapping is 65.8 %"
   ]
  },
  {
   "cell_type": "markdown",
   "metadata": {},
   "source": [
    "## 2.3 Geometrical Similarity"
   ]
  },
  {
   "cell_type": "code",
   "execution_count": 44,
   "metadata": {},
   "outputs": [],
   "source": [
    "# Load points in array([[]])\n",
    "motorway_ch_lines = read_from_pickle(\"motorway_ch_lines.pkl\")\n",
    "motorway_osm_lines = read_from_pickle(\"motorway_osm_lines.pkl\")\n",
    "buffered_astra = read_from_pickle(\"buffered_astra.pkl\")\n",
    "buffered_osm = read_from_pickle(\"buffered_osm.pkl\")"
   ]
  },
  {
   "cell_type": "code",
   "execution_count": 45,
   "metadata": {},
   "outputs": [],
   "source": [
    "similarities = []\n",
    "for i in range(0,2):\n",
    "    # [Point1(), Point2(), Point3(),...]\n",
    "    osm_sorted_point_list = sorting_PointGroup([point for point in motorway_osm_lines[i].points])\n",
    "    astra_sorted_point_list = sorting_PointGroup([point for point in motorway_ch_lines[i].points])\n",
    "    \n",
    "    osm_coord_lists = [[point.x, point.y] for point in osm_sorted_point_list][::5]\n",
    "    astra_coord_lists = [[point.x, point.y] for point in astra_sorted_point_list][::5]\n",
    "    similarities.append(dtw(osm_coord_lists, astra_coord_lists))\n",
    "    \n",
    "    # Check if results with the same coords is correct (it is ;))\n",
    "    #similarities.append(dtw(osm_coord_lists, osm_coord_lists))"
   ]
  },
  {
   "cell_type": "code",
   "execution_count": 46,
   "metadata": {},
   "outputs": [
    {
     "data": {
      "text/plain": [
       "[(1125776.3878317578,\n",
       "  array([[1.68212727e+01, 2.38741328e+01, 5.50070355e+01, ...,\n",
       "          1.48032453e+09, 1.48063059e+09, 1.48093665e+09],\n",
       "         [9.22491225e+01, 7.14270105e+01, 5.31527276e+01, ...,\n",
       "          1.47997201e+09, 1.48027804e+09, 1.48058408e+09],\n",
       "         [1.94165411e+02, 1.94211924e+02, 2.01595025e+02, ...,\n",
       "          1.47997209e+09, 1.48027812e+09, 1.48058415e+09],\n",
       "         ...,\n",
       "         [1.01497515e+09, 1.01487779e+09, 1.01475418e+09, ...,\n",
       "          1.12699709e+06, 1.12754315e+06, 1.12809035e+06],\n",
       "         [1.01528120e+09, 1.01518383e+09, 1.01506020e+09, ...,\n",
       "          1.12552234e+06, 1.12598251e+06, 1.12644372e+06],\n",
       "         [1.01558728e+09, 1.01548990e+09, 1.01536626e+09, ...,\n",
       "          1.12492563e+06, 1.12535057e+06, 1.12577639e+06]])),\n",
       " (17536720.538645186,\n",
       "  array([[4.49676719e+00, 9.47120766e+00, 1.53390926e+01, ...,\n",
       "          8.17514835e+08, 8.17737068e+08, 8.17959294e+08],\n",
       "         [3.46508378e+01, 4.09285067e+01, 3.93054735e+01, ...,\n",
       "          8.17514863e+08, 8.17737096e+08, 8.17959321e+08],\n",
       "         [1.01645444e+02, 1.07932728e+02, 1.05821818e+02, ...,\n",
       "          8.17514920e+08, 8.17737154e+08, 8.17959379e+08],\n",
       "         ...,\n",
       "         [4.30564725e+08, 4.30547193e+08, 4.30547198e+08, ...,\n",
       "          1.75371057e+07, 1.75372284e+07, 1.75373649e+07],\n",
       "         [4.30786999e+08, 4.30769461e+08, 4.30769467e+08, ...,\n",
       "          1.75369181e+07, 1.75370216e+07, 1.75371397e+07],\n",
       "         [4.31009259e+08, 4.30991716e+08, 4.30991721e+08, ...,\n",
       "          1.75366200e+07, 1.75366629e+07, 1.75367205e+07]]))]"
      ]
     },
     "execution_count": 46,
     "metadata": {},
     "output_type": "execute_result"
    }
   ],
   "source": [
    "similarities"
   ]
  },
  {
   "cell_type": "markdown",
   "metadata": {},
   "source": [
    "# 3. Completeness"
   ]
  },
  {
   "cell_type": "code",
   "execution_count": 56,
   "metadata": {},
   "outputs": [],
   "source": [
    "# The rest is in \"main()\"\n",
    "\n",
    "# bBox and res (bBox is fixed, user can change res value)\n",
    "xs = 2250000\n",
    "xf = 3000000\n",
    "ys = 1075000\n",
    "yf = 1300000\n",
    "box = Bbox([Point(xs, ys), Point(xf, yf)])\n",
    "res = 1000 # can change\n",
    "precision = 2 #2: [cm], 3: [mm]"
   ]
  },
  {
   "cell_type": "code",
   "execution_count": 57,
   "metadata": {},
   "outputs": [],
   "source": [
    "motorway_osm_lines = read_from_pickle(\"motorway_osm_lines.pkl\")\n",
    "motorway_osm_segments = list(chain(*map(lambda x: x.segments, motorway_osm_lines)))"
   ]
  },
  {
   "cell_type": "code",
   "execution_count": 58,
   "metadata": {},
   "outputs": [
    {
     "data": {
      "text/plain": [
       "array([0., 0., 0., ..., 0., 0., 0.], dtype=float16)"
      ]
     },
     "execution_count": 58,
     "metadata": {},
     "output_type": "execute_result"
    }
   ],
   "source": [
    "#%%timeit -n 1\n",
    "# osm dataset: \n",
    "cellSegments_osm = [CellSegment(segment,precision) for segment in motorway_osm_segments]\n",
    "cellLength_osm = CellLength(cellSegments_osm, box, res)\n",
    "cellLength_osm.addIndex()\n",
    "cellLength_osm.addLength()\n",
    "cellLength_osm.cellLength"
   ]
  },
  {
   "cell_type": "code",
   "execution_count": 59,
   "metadata": {},
   "outputs": [],
   "source": [
    "motorway_ch_lines = read_from_pickle(\"motorway_ch_lines.pkl\")\n",
    "motorway_ch_segments = list(chain(*map(lambda x: x.segments, motorway_ch_lines)))"
   ]
  },
  {
   "cell_type": "code",
   "execution_count": 60,
   "metadata": {
    "tags": []
   },
   "outputs": [
    {
     "data": {
      "text/plain": [
       "array([0., 0., 0., ..., 0., 0., 0.], dtype=float16)"
      ]
     },
     "execution_count": 60,
     "metadata": {},
     "output_type": "execute_result"
    }
   ],
   "source": [
    "# Astra dataset:\n",
    "cellSegments_astra = [CellSegment(segment,precision) for segment in motorway_ch_segments]\n",
    "    \n",
    "cellLength_astra = CellLength(cellSegments_astra, box, res)\n",
    "cellLength_astra.addIndex()\n",
    "cellLength_astra.addLength()\n",
    "# Astra result\n",
    "cellLength_astra.cellLength"
   ]
  },
  {
   "cell_type": "code",
   "execution_count": 61,
   "metadata": {},
   "outputs": [
    {
     "name": "stdout",
     "output_type": "stream",
     "text": [
      "[[-1. -1. -1. ... -1. -1. -1.]\n",
      " [-1. -1. -1. ... -1. -1. -1.]\n",
      " [-1. -1. -1. ... -1. -1. -1.]\n",
      " ...\n",
      " [-1. -1. -1. ... -1. -1. -1.]\n",
      " [-1. -1. -1. ... -1. -1. -1.]\n",
      " [-1. -1. -1. ... -1. -1. -1.]]\n"
     ]
    },
    {
     "name": "stderr",
     "output_type": "stream",
     "text": [
      "C:\\Users\\KikyoDLuffy\\AppData\\Local\\Temp\\ipykernel_11228\\1913034628.py:3: RuntimeWarning: overflow encountered in multiply\n",
      "  result1 = np.array(cellLength_osm.cellLength).round(precision)\n",
      "C:\\Users\\KikyoDLuffy\\AppData\\Local\\Temp\\ipykernel_11228\\1913034628.py:4: RuntimeWarning: overflow encountered in multiply\n",
      "  result2 = np.array(cellLength_astra.cellLength).round(precision)\n",
      "C:\\Users\\KikyoDLuffy\\AppData\\Local\\Temp\\ipykernel_11228\\1913034628.py:14: RuntimeWarning: invalid value encountered in divide\n",
      "  np.divide(result1, result2, out=result, where=mask)\n"
     ]
    }
   ],
   "source": [
    "# Comparison V3 (to increase resolution)\n",
    "# Convert result1 and result2 to NumPy arrays\n",
    "result1 = np.array(cellLength_osm.cellLength).round(precision)\n",
    "result2 = np.array(cellLength_astra.cellLength).round(precision)\n",
    "\n",
    "# Create a mask to select only the non-zero elements of result1 and result2\n",
    "mask = (result1 != 0) & (result2 != 0)\n",
    "\n",
    "# Exclude elements of result2 that are equal to zero\n",
    "mask &= (result2 != 0)\n",
    "\n",
    "# Compute result array using vectorized operations\n",
    "result = np.full_like(result1, -1, dtype=np.float32)\n",
    "np.divide(result1, result2, out=result, where=mask)\n",
    "result *= 100\n",
    "np.clip(result, -1, 100, out=result)\n",
    "\n",
    "# Create a 2D array with shape (cellLength.nCols, cellLength.nRows)\n",
    "a = result.reshape(cellLength_osm.nRows, cellLength_osm.nCols).T\n",
    "\n",
    "print(a)"
   ]
  },
  {
   "cell_type": "code",
   "execution_count": 62,
   "metadata": {},
   "outputs": [
    {
     "name": "stdout",
     "output_type": "stream",
     "text": [
      "Mean: 77.20027160644531\n",
      "Median: 98.681640625\n"
     ]
    },
    {
     "data": {
      "image/png": "[encoded data removed]",
      "text/plain": [
       "<Figure size 800x400 with 3 Axes>"
      ]
     },
     "metadata": {},
     "output_type": "display_data"
    }
   ],
   "source": [
    "from matplotlib.colors import LinearSegmentedColormap\n",
    "\n",
    "# Create a custom colormap\n",
    "colors = [(0, 'white'), (0.01, '#1b7837'), (0.5, \"#ffffbf\"), (1, '#762a83')]\n",
    "cmap = LinearSegmentedColormap.from_list('custom', colors)\n",
    "\n",
    "fig, axs = plt.subplots(1, 2, figsize=(8, 4))\n",
    "non_zero_a = a[a>=0]\n",
    "\n",
    "\n",
    "# Display the array as an image\n",
    "ratio = a.shape[1]/a.shape[0]\n",
    "im = axs[0].imshow(a, aspect=ratio, cmap=cmap, vmin=0, vmax=100)\n",
    "fig.colorbar(im, ax=axs[0])\n",
    "\n",
    "# Statistics\n",
    "axs[1].boxplot(non_zero_a)\n",
    "print(f\"Mean: {np.mean(non_zero_a)}\")\n",
    "print(f\"Median: {np.median(non_zero_a)}\")\n",
    "\n",
    "plt.tight_layout()\n",
    "plt.show()"
   ]
  },
  {
   "cell_type": "code",
   "execution_count": 63,
   "metadata": {},
   "outputs": [
    {
     "data": {
      "text/plain": [
       "(array([ 50.,   2.,   4.,   3.,   5.,   6.,   6.,   9.,  33., 203.]),\n",
       " array([  0.,  10.,  20.,  30.,  40.,  50.,  60.,  70.,  80.,  90., 100.],\n",
       "       dtype=float32),\n",
       " <BarContainer object of 10 artists>)"
      ]
     },
     "execution_count": 63,
     "metadata": {},
     "output_type": "execute_result"
    },
    {
     "data": {
      "image/png": "[encoded data removed]",
      "text/plain": [
       "<Figure size 640x480 with 1 Axes>"
      ]
     },
     "metadata": {},
     "output_type": "display_data"
    }
   ],
   "source": [
    "plt.hist(non_zero_a)"
   ]
  },
  {
   "cell_type": "code",
   "execution_count": 55,
   "metadata": {},
   "outputs": [
    {
     "ename": "CRSError",
     "evalue": "The EPSG code is unknown. PROJ: proj_create_from_database: D:\\Programmes\\PostgreSQL\\10\\share\\contrib\\postgis-3.1\\proj\\proj.db lacks DATABASE.LAYOUT.VERSION.MAJOR / DATABASE.LAYOUT.VERSION.MINOR metadata. It comes from another PROJ installation.",
     "output_type": "error",
     "traceback": [
      "\u001b[1;31m---------------------------------------------------------------------------\u001b[0m",
      "\u001b[1;31mCPLE_AppDefinedError\u001b[0m                      Traceback (most recent call last)",
      "\u001b[1;32mrasterio\\crs.pyx\u001b[0m in \u001b[0;36mrasterio.crs.CRS.from_epsg\u001b[1;34m()\u001b[0m\n",
      "\u001b[1;32mrasterio\\_err.pyx\u001b[0m in \u001b[0;36mrasterio._err.exc_wrap_int\u001b[1;34m()\u001b[0m\n",
      "\u001b[1;31mCPLE_AppDefinedError\u001b[0m: PROJ: proj_create_from_database: D:\\Programmes\\PostgreSQL\\10\\share\\contrib\\postgis-3.1\\proj\\proj.db lacks DATABASE.LAYOUT.VERSION.MAJOR / DATABASE.LAYOUT.VERSION.MINOR metadata. It comes from another PROJ installation.",
      "\nDuring handling of the above exception, another exception occurred:\n",
      "\u001b[1;31mCRSError\u001b[0m                                  Traceback (most recent call last)",
      "\u001b[1;32m~\\AppData\\Local\\Temp\\ipykernel_11228\\3861394638.py\u001b[0m in \u001b[0;36m<module>\u001b[1;34m\u001b[0m\n\u001b[0;32m     14\u001b[0m \u001b[1;33m\u001b[0m\u001b[0m\n\u001b[0;32m     15\u001b[0m \u001b[1;31m# Write array to file\u001b[0m\u001b[1;33m\u001b[0m\u001b[1;33m\u001b[0m\u001b[0m\n\u001b[1;32m---> 16\u001b[1;33m with rasterio.open('result_completeness.tif', 'w', driver='GTiff', height=a.shape[1],\n\u001b[0m\u001b[0;32m     17\u001b[0m                    \u001b[0mwidth\u001b[0m\u001b[1;33m=\u001b[0m\u001b[0ma\u001b[0m\u001b[1;33m.\u001b[0m\u001b[0mshape\u001b[0m\u001b[1;33m[\u001b[0m\u001b[1;36m0\u001b[0m\u001b[1;33m]\u001b[0m\u001b[1;33m,\u001b[0m \u001b[0mcount\u001b[0m\u001b[1;33m=\u001b[0m\u001b[1;36m1\u001b[0m\u001b[1;33m,\u001b[0m \u001b[0mdtype\u001b[0m\u001b[1;33m=\u001b[0m\u001b[0ma\u001b[0m\u001b[1;33m.\u001b[0m\u001b[0mdtype\u001b[0m\u001b[1;33m,\u001b[0m\u001b[1;33m\u001b[0m\u001b[1;33m\u001b[0m\u001b[0m\n\u001b[0;32m     18\u001b[0m                    crs=crs, transform=transform) as dst:\n",
      "\u001b[1;32m~\\AppData\\Roaming\\Python\\Python39\\site-packages\\rasterio\\env.py\u001b[0m in \u001b[0;36mwrapper\u001b[1;34m(*args, **kwds)\u001b[0m\n\u001b[0;32m    449\u001b[0m \u001b[1;33m\u001b[0m\u001b[0m\n\u001b[0;32m    450\u001b[0m         \u001b[1;32mwith\u001b[0m \u001b[0menv_ctor\u001b[0m\u001b[1;33m(\u001b[0m\u001b[0msession\u001b[0m\u001b[1;33m=\u001b[0m\u001b[0msession\u001b[0m\u001b[1;33m)\u001b[0m\u001b[1;33m:\u001b[0m\u001b[1;33m\u001b[0m\u001b[1;33m\u001b[0m\u001b[0m\n\u001b[1;32m--> 451\u001b[1;33m             \u001b[1;32mreturn\u001b[0m \u001b[0mf\u001b[0m\u001b[1;33m(\u001b[0m\u001b[1;33m*\u001b[0m\u001b[0margs\u001b[0m\u001b[1;33m,\u001b[0m \u001b[1;33m**\u001b[0m\u001b[0mkwds\u001b[0m\u001b[1;33m)\u001b[0m\u001b[1;33m\u001b[0m\u001b[1;33m\u001b[0m\u001b[0m\n\u001b[0m\u001b[0;32m    452\u001b[0m \u001b[1;33m\u001b[0m\u001b[0m\n\u001b[0;32m    453\u001b[0m     \u001b[1;32mreturn\u001b[0m \u001b[0mwrapper\u001b[0m\u001b[1;33m\u001b[0m\u001b[1;33m\u001b[0m\u001b[0m\n",
      "\u001b[1;32m~\\AppData\\Roaming\\Python\\Python39\\site-packages\\rasterio\\__init__.py\u001b[0m in \u001b[0;36mopen\u001b[1;34m(fp, mode, driver, width, height, count, crs, transform, dtype, nodata, sharing, **kwargs)\u001b[0m\n\u001b[0;32m    341\u001b[0m             \u001b[0mwriter\u001b[0m \u001b[1;33m=\u001b[0m \u001b[0mget_writer_for_driver\u001b[0m\u001b[1;33m(\u001b[0m\u001b[0mdriver\u001b[0m\u001b[1;33m)\u001b[0m\u001b[1;33m\u001b[0m\u001b[1;33m\u001b[0m\u001b[0m\n\u001b[0;32m    342\u001b[0m             \u001b[1;32mif\u001b[0m \u001b[0mwriter\u001b[0m \u001b[1;32mis\u001b[0m \u001b[1;32mnot\u001b[0m \u001b[1;32mNone\u001b[0m\u001b[1;33m:\u001b[0m\u001b[1;33m\u001b[0m\u001b[1;33m\u001b[0m\u001b[0m\n\u001b[1;32m--> 343\u001b[1;33m                 dataset = writer(\n\u001b[0m\u001b[0;32m    344\u001b[0m                     \u001b[0mpath\u001b[0m\u001b[1;33m,\u001b[0m\u001b[1;33m\u001b[0m\u001b[1;33m\u001b[0m\u001b[0m\n\u001b[0;32m    345\u001b[0m                     \u001b[0mmode\u001b[0m\u001b[1;33m,\u001b[0m\u001b[1;33m\u001b[0m\u001b[1;33m\u001b[0m\u001b[0m\n",
      "\u001b[1;32mrasterio\\_io.pyx\u001b[0m in \u001b[0;36mrasterio._io.DatasetWriterBase.__init__\u001b[1;34m()\u001b[0m\n",
      "\u001b[1;32mrasterio\\_io.pyx\u001b[0m in \u001b[0;36mrasterio._io.DatasetWriterBase._set_crs\u001b[1;34m()\u001b[0m\n",
      "\u001b[1;32mrasterio\\crs.pyx\u001b[0m in \u001b[0;36mrasterio.crs.CRS.from_user_input\u001b[1;34m()\u001b[0m\n",
      "\u001b[1;32mrasterio\\crs.pyx\u001b[0m in \u001b[0;36mrasterio.crs.CRS.__init__\u001b[1;34m()\u001b[0m\n",
      "\u001b[1;32mrasterio\\crs.pyx\u001b[0m in \u001b[0;36mrasterio.crs.CRS.from_dict\u001b[1;34m()\u001b[0m\n",
      "\u001b[1;32mrasterio\\crs.pyx\u001b[0m in \u001b[0;36mrasterio.crs.CRS.from_epsg\u001b[1;34m()\u001b[0m\n",
      "\u001b[1;31mCRSError\u001b[0m: The EPSG code is unknown. PROJ: proj_create_from_database: D:\\Programmes\\PostgreSQL\\10\\share\\contrib\\postgis-3.1\\proj\\proj.db lacks DATABASE.LAYOUT.VERSION.MAJOR / DATABASE.LAYOUT.VERSION.MINOR metadata. It comes from another PROJ installation."
     ]
    }
   ],
   "source": [
    "import rasterio\n",
    "from rasterio.transform import from_origin\n",
    "\n",
    "# Set geotransform\n",
    "xs = 2250000\n",
    "xf = 3000000\n",
    "ys = 1075000\n",
    "yf = 1300000\n",
    "\n",
    "transform = from_origin(xs/res, ys/res, xf/res, yf/res)\n",
    "\n",
    "# Set CRS\n",
    "crs = {'init': 'epsg:2056'}\n",
    "\n",
    "# Write array to file\n",
    "with rasterio.open('result_completeness.tif', 'w', driver='GTiff', height=a.shape[1],\n",
    "                   width=a.shape[0], count=1, dtype=a.dtype,\n",
    "                   crs=crs, transform=transform) as dst:\n",
    "    dst.write(a, 1)"
   ]
  }
 ],
 "metadata": {
  "kernelspec": {
   "display_name": "Python 3 (ipykernel)",
   "language": "python",
   "name": "python3"
  },
  "language_info": {
   "codemirror_mode": {
    "name": "ipython",
    "version": 3
   },
   "file_extension": ".py",
   "mimetype": "text/x-python",
   "name": "python",
   "nbconvert_exporter": "python",
   "pygments_lexer": "ipython3",
   "version": "3.9.13"
  }
 },
 "nbformat": 4,
 "nbformat_minor": 4
}
