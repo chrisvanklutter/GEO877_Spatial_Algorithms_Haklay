{
 "cells": [
  {
   "cell_type": "code",
   "execution_count": 2,
   "id": "b7aaffee",
   "metadata": {},
   "outputs": [],
   "source": [
    "# SETUP\n",
    "# =====\n",
    "%run ./data_Preprocessing.py\n",
    "from geospatial import *\n",
    "import nbimporter\n",
    "import pickle\n",
    "import numpy as np\n",
    "import math\n",
    "from itertools import chain\n",
    "from data_Preprocessing import MotorwaySegment, MotorwayLine, write_to_pickle, read_from_pickle\n",
    "import matplotlib.pyplot as plt\n",
    "from matplotlib.patches import Rectangle"
   ]
  },
  {
   "cell_type": "code",
   "execution_count": 3,
   "id": "a7dda1fc",
   "metadata": {},
   "outputs": [],
   "source": [
    "# Aim to add cell_index column\n",
    "# =====\n",
    "class CellSegment(MotorwaySegment):\n",
    "    def __init__(self, motorwaysegment, precision=2):\n",
    "        # Copy attributes from motorwaysegment\n",
    "        self.__dict__ = motorwaysegment.__dict__.copy()\n",
    "        # Add additional attributes\n",
    "        self.index1 = 0\n",
    "        self.index2 = 0\n",
    "        self.precision = precision\n",
    "        self.set_precision(precision)\n",
    "    \n",
    "    def set_precision(self,n_significant_digit=None):\n",
    "        self.start.x = round(self.start.x, n_significant_digit)\n",
    "        self.start.y = round(self.start.y, n_significant_digit)\n",
    "        self.end.x = round(self.end.x, n_significant_digit)\n",
    "        self.end.y = round(self.end.y, n_significant_digit)\n",
    "        self.precision = n_significant_digit\n",
    "        return\n",
    "    \n",
    "    def __repr__(self):\n",
    "        return f'CellSegment of \"{self.name}\" with start {self.start} and end {self.end}, start cell in {self.index1} and end cell in {self.index2}.'\n",
    "    "
   ]
  },
  {
   "cell_type": "code",
   "execution_count": 4,
   "id": "f9812221",
   "metadata": {},
   "outputs": [],
   "source": [
    "# Aim to package all the related variables and functions to one class\n",
    "# =====\n",
    "class CellLength():\n",
    "    def __init__(self, data, box, res, precision=2):\n",
    "        self.data = data\n",
    "        # Number of grid rows and colums\n",
    "        self.res = res #res = resolution\n",
    "        self.precision = precision\n",
    "        self.w = box.ur.x - box.ll.x\n",
    "        self.h = box.ur.y - box.ll.y\n",
    "        self.nCols = int(self.w/ self.res)+1\n",
    "        self.nRows = int(self.h/ self.res)+1\n",
    "        \n",
    "        ur = Point(box.ll.x + (self.nCols * self.res), box.ll.y + (self.nRows * self.res))\n",
    "        ll = box.ll\n",
    "        self.bBox = Bbox([ll, ur])\n",
    "        \n",
    "        # Cell with index to store the length\n",
    "        self.maxIndex = (self.nCols * self.nRows) -1        \n",
    "        # Use a NumPy array instead of a list to store cellLength data (float32 to constrain memory use)\n",
    "        self.cellLength = np.zeros(self.maxIndex + 1, dtype=np.float32)\n",
    "            \n",
    "    def addIndex(self):\n",
    "        for segment in self.data:\n",
    "            segment.index1 = self.pointIndex(segment.start)  # add index of start point\n",
    "            segment.index2 = self.pointIndex(segment.end)  # add index of end point   \n",
    "    \n",
    "    def pointIndex(self, p): # Define the which cell the point is in\n",
    "        j = int((p.y - self.bBox.ll.y)/ self.res)\n",
    "        i = int((p.x - self.bBox.ll.x)/ self.res)\n",
    "        return (j * self.nCols) + i    \n",
    "    \n",
    "    def addLength(self):\n",
    "        self.addIndex()\n",
    "        self.length = 0\n",
    "        self.seg_ab = []\n",
    "\n",
    "        for seg in self.data:\n",
    "            if seg.index1 == seg.index2: # if in the same cell\n",
    "                seg_length = self.segLength(seg.start, seg.end)\n",
    "                index = seg.index1\n",
    "                self.cellLength[index] = self.cellLength[index] + seg_length\n",
    "                self.length = self.length + seg_length\n",
    "            else:\n",
    "                point1 = seg.start\n",
    "                point2 = seg.end\n",
    "                index1 = seg.index1\n",
    "                index2 = seg.index2\n",
    "\n",
    "                j1 = int((point1.y - self.bBox.ll.y) / self.res)\n",
    "                i1 = int((point1.x - self.bBox.ll.x) / self.res)\n",
    "                j2 = int((point2.y - self.bBox.ll.y) / self.res)\n",
    "                i2 = int((point2.x - self.bBox.ll.x) / self.res)\n",
    "                \n",
    "                min_i = min(i1,i2)\n",
    "                max_i = max(i1,i2)\n",
    "                min_j = min(j1,j2)\n",
    "                max_j = max(j1,j2)\n",
    "                \n",
    "                k = (point2.y - point1.y)/(point2.x - point1.x)\n",
    "                b =  point1.y - (k * point1.x)\n",
    "\n",
    "                points = [point1, point2]\n",
    "                \n",
    "                while min_j < max_j: #!make sure if it is y\n",
    "                    intersect_y = (min_j + 1)*self.res + self.bBox.ll.y # !make sure cells have the same size\n",
    "                    intersect_x = (intersect_y - b)/k\n",
    "                    point_new = Point(intersect_x,intersect_y)\n",
    "                    points.append(point_new)\n",
    "                    min_j = min_j + 1\n",
    "                    #print(f\"intersect_y:{intersect_y},intersect_x:{intersect_x}\")\n",
    "                    \n",
    "                while min_i < max_i: #!make sure if it is x\n",
    "                    intersect_x = (min_i + 1)*self.res + self.bBox.ll.x\n",
    "                    intersect_y = k*intersect_x + b\n",
    "                    point_new = Point(intersect_x,intersect_y)\n",
    "                    points.append(point_new)\n",
    "                    min_i = min_i + 1\n",
    "\n",
    "                # Sort points by x-coordinate\n",
    "                points_r = []\n",
    "                points_count = len(points)\n",
    "                for n in range(points_count):\n",
    "                    m = 0\n",
    "                    p = 0\n",
    "                    for i in range(len(points)):\n",
    "                        if points[i].x > m:\n",
    "                            m = points[i].x\n",
    "                            p = i\n",
    "                    points_r.append(points[p])\n",
    "                    points.pop(p)\n",
    "\n",
    "                # Calculate length\n",
    "                for i in range(len(points_r)-1):\n",
    "                    start = points_r[i]\n",
    "                    end = points_r[i+1]\n",
    "                    seg_cellindex = self.pointIndex(points_r[i+1])\n",
    "                    length = self.segLength(start, end)\n",
    "                    self.cellLength[seg_cellindex] = self.cellLength[seg_cellindex] + round(length, self.precision)\n",
    "                    self.length = self.length + round(length, self.precision)\n",
    "                    \n",
    "\n",
    "    def segLength(self,p1,p2):  # calculate segment length\n",
    "        return p1.distEuclidean(p2) \n",
    "    "
   ]
  },
  {
   "cell_type": "code",
   "execution_count": 5,
   "id": "368d9b56",
   "metadata": {},
   "outputs": [],
   "source": [
    "# The rest is in \"main()\"\n",
    "\n",
    "# bBox and res (bBox is fixed, user can change res value)\n",
    "xs = 2450000\n",
    "xf = 2850000\n",
    "ys = 1075000\n",
    "yf = 1300000\n",
    "box = Bbox([Point(xs, ys), Point(xf, yf)])\n",
    "res = 1000 # can change\n",
    "precision = 2 #2: [cm], 3: [mm]"
   ]
  },
  {
   "cell_type": "code",
   "execution_count": 6,
   "id": "89d2afb4-eeae-4f7e-860c-2531a7f5912f",
   "metadata": {
    "scrolled": true
   },
   "outputs": [],
   "source": [
    "motorway_osm_lines = read_from_pickle(\"motorway_osm_lines.pkl\")\n",
    "motorway_osm_segments = list(chain(*map(lambda x: x.segments, motorway_osm_lines)))"
   ]
  },
  {
   "cell_type": "code",
   "execution_count": 7,
   "id": "9f5af04f",
   "metadata": {},
   "outputs": [
    {
     "data": {
      "text/plain": [
       "array([0., 0., 0., ..., 0., 0., 0.], dtype=float32)"
      ]
     },
     "execution_count": 7,
     "metadata": {},
     "output_type": "execute_result"
    }
   ],
   "source": [
    "#%%timeit -n 1\n",
    "# osm dataset: \n",
    "cellSegments_osm = [CellSegment(segment,precision) for segment in motorway_osm_segments]\n",
    "cellLength_osm = CellLength(cellSegments_osm, box, res)\n",
    "cellLength_osm.addIndex()\n",
    "cellLength_osm.addLength()\n",
    "cellLength_osm.cellLength\n",
    "#cellLength_osm.length"
   ]
  },
  {
   "cell_type": "code",
   "execution_count": 8,
   "id": "e09aad7a-1d58-402b-85e7-d9079c073148",
   "metadata": {},
   "outputs": [],
   "source": [
    "result1 = np.array(cellLength_osm.cellLength).round(precision)"
   ]
  },
  {
   "cell_type": "code",
   "execution_count": 9,
   "id": "dcd7cd35",
   "metadata": {},
   "outputs": [],
   "source": [
    "motorway_ch_lines = read_from_pickle(\"motorway_ch_lines.pkl\")\n",
    "motorway_ch_segments = list(chain(*map(lambda x: x.segments, motorway_ch_lines)))"
   ]
  },
  {
   "cell_type": "code",
   "execution_count": 10,
   "id": "e40477c5",
   "metadata": {},
   "outputs": [
    {
     "data": {
      "text/plain": [
       "array([0., 0., 0., ..., 0., 0., 0.], dtype=float32)"
      ]
     },
     "execution_count": 10,
     "metadata": {},
     "output_type": "execute_result"
    }
   ],
   "source": [
    "# Astra dataset:\n",
    "cellSegments_astra = [CellSegment(segment,precision) for segment in motorway_ch_segments]\n",
    "    \n",
    "cellLength_astra = CellLength(cellSegments_astra, box, res)\n",
    "cellLength_astra.addIndex()\n",
    "cellLength_astra.addLength()\n",
    "# Astra result\n",
    "cellLength_astra.cellLength"
   ]
  },
  {
   "cell_type": "code",
   "execution_count": 11,
   "id": "e4b7d658-cbf4-42a9-923d-1a6e7b2c1101",
   "metadata": {},
   "outputs": [
    {
     "name": "stdout",
     "output_type": "stream",
     "text": [
      "[[-1. -1. -1. ... -1. -1. -1.]\n",
      " [-1. -1. -1. ... -1. -1. -1.]\n",
      " [-1. -1. -1. ... -1. -1. -1.]\n",
      " ...\n",
      " [-1. -1. -1. ... -1. -1. -1.]\n",
      " [-1. -1. -1. ... -1. -1. -1.]\n",
      " [-1. -1. -1. ... -1. -1. -1.]]\n"
     ]
    }
   ],
   "source": [
    "# Comparison V3 (to increase resolution)\n",
    "# Convert result1 and result2 to NumPy arrays\n",
    "result1 = np.array(cellLength_osm.cellLength).round(precision)\n",
    "result2 = np.array(cellLength_astra.cellLength).round(precision)\n",
    "\n",
    "# Create a mask to select only the non-zero elements of result1 and result2\n",
    "mask = (result1 != 0) & (result2 != 0)\n",
    "\n",
    "# Exclude elements of result2 that are equal to zero\n",
    "mask &= (result2 != 0)\n",
    "\n",
    "# Compute result array using vectorized operations\n",
    "result = np.full_like(result1, -1, dtype=np.float32)\n",
    "np.divide(result1, result2, out=result, where=mask)\n",
    "result *= 100\n",
    "np.clip(result, -1, 100, out=result)\n",
    "\n",
    "# Create a 2D array with shape (cellLength.nCols, cellLength.nRows)\n",
    "a = result.reshape(cellLength_osm.nRows, cellLength_osm.nCols).T\n",
    "\n",
    "print(a)"
   ]
  },
  {
   "cell_type": "code",
   "execution_count": 12,
   "id": "05ac3108-77ea-4ff6-b871-abb9a65fe646",
   "metadata": {},
   "outputs": [
    {
     "name": "stdout",
     "output_type": "stream",
     "text": [
      "Mean: 96.88084411621094\n",
      "Median: 100.0\n"
     ]
    },
    {
     "data": {
      "image/png": "[encoded data removed]",
      "text/plain": [
       "<Figure size 800x400 with 3 Axes>"
      ]
     },
     "metadata": {},
     "output_type": "display_data"
    }
   ],
   "source": [
    "from matplotlib.colors import LinearSegmentedColormap\n",
    "\n",
    "# Create a custom colormap\n",
    "colors = [(0, 'white'), (0.01, '#1b7837'), (0.5, \"#ffffbf\"), (1, '#762a83')]\n",
    "cmap = LinearSegmentedColormap.from_list('custom', colors)\n",
    "\n",
    "fig, axs = plt.subplots(1, 2, figsize=(8, 4))\n",
    "non_zero_a = a[a>=0]\n",
    "\n",
    "\n",
    "# Display the array as an image\n",
    "ratio = a.shape[1]/a.shape[0]\n",
    "im = axs[0].imshow(a, aspect=ratio, cmap=cmap, vmin=0, vmax=100)\n",
    "fig.colorbar(im, ax=axs[0])\n",
    "\n",
    "# Statistics\n",
    "axs[1].boxplot(non_zero_a)\n",
    "print(f\"Mean: {np.mean(non_zero_a)}\")\n",
    "print(f\"Median: {np.median(non_zero_a)}\")\n",
    "\n",
    "plt.tight_layout()\n",
    "plt.show()"
   ]
  },
  {
   "cell_type": "code",
   "execution_count": 13,
   "id": "9a9e010b",
   "metadata": {},
   "outputs": [
    {
     "data": {
      "text/plain": [
       "(array([   3.,    5.,    7.,    5.,   13.,   10.,   28.,   24.,   45.,\n",
       "        1731.]),\n",
       " array([  2.91918135,  12.62726307,  22.33534431,  32.04342651,\n",
       "         41.75151062,  51.45959091,  61.1676712 ,  70.87575531,\n",
       "         80.58383942,  90.29191589, 100.        ]),\n",
       " <BarContainer object of 10 artists>)"
      ]
     },
     "execution_count": 13,
     "metadata": {},
     "output_type": "execute_result"
    },
    {
     "data": {
      "image/png": "[encoded data removed]",
      "text/plain": [
       "<Figure size 640x480 with 1 Axes>"
      ]
     },
     "metadata": {},
     "output_type": "display_data"
    }
   ],
   "source": [
    "plt.hist(non_zero_a)"
   ]
  },
  {
   "cell_type": "code",
   "execution_count": 15,
   "id": "a9c76560-8055-46fc-978b-7f1a1aecf9c0",
   "metadata": {},
   "outputs": [],
   "source": [
    "import rasterio\n",
    "from rasterio.transform import from_origin\n",
    "\n",
    "# Set geotransform\n",
    "xs = 2250000\n",
    "xf = 3000000\n",
    "ys = 1075000\n",
    "yf = 1300000\n",
    "\n",
    "transform = from_origin(xs/res, ys/res, xf/res, yf/res)\n",
    "\n",
    "# Set CRS\n",
    "crs = {'init': 'epsg:2056'}\n",
    "\n",
    "# Write array to file\n",
    "with rasterio.open('result_completeness.tif', 'w', driver='GTiff', height=a.shape[1],\n",
    "                   width=a.shape[0], count=1, dtype=a.dtype,\n",
    "                   crs=crs, transform=transform) as dst:\n",
    "    dst.write(a, 1)"
   ]
  },
  {
   "cell_type": "code",
   "execution_count": null,
   "id": "7c22849d",
   "metadata": {},
   "outputs": [],
   "source": []
  }
 ],
 "metadata": {
  "kernelspec": {
   "display_name": "Python 3 (ipykernel)",
   "language": "python",
   "name": "python3"
  },
  "language_info": {
   "codemirror_mode": {
    "name": "ipython",
    "version": 3
   },
   "file_extension": ".py",
   "mimetype": "text/x-python",
   "name": "python",
   "nbconvert_exporter": "python",
   "pygments_lexer": "ipython3",
   "version": "3.10.9"
  }
 },
 "nbformat": 4,
 "nbformat_minor": 5
}
