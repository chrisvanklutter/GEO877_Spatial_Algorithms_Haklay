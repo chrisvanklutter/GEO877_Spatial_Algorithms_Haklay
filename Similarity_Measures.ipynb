{
 "cells": [
  {
   "cell_type": "code",
   "execution_count": 1,
   "id": "cb890a45",
   "metadata": {},
   "outputs": [],
   "source": [
    "import matplotlib.pyplot as plt\n",
    "import pandas as pd\n",
    "from geospatial import *"
   ]
  },
  {
   "cell_type": "code",
   "execution_count": 3,
   "id": "9c8635f5",
   "metadata": {},
   "outputs": [],
   "source": [
    "# DTW similarity measure\n",
    "\n",
    "# For input: curves\n",
    "# Function: Generate curve with segments group (primarily from pointgroup)\n",
    "\n",
    "\n",
    "# Function: Calculate dtw distance and generate dtw distance matrix\n",
    "## Need to use euclidean distance calculation method directly\n",
    "\n",
    "# Function: Find the shortest dtw between two curves according to the distance matrix\n",
    "\n",
    "\n",
    "# Function: Normalize and get relative similarity measure result\n",
    "\n",
    "# For output:\n",
    "# Similarity metric between two input curves\n",
    "\n",
    "\n",
    "# Function: For visualizing curves\n",
    "\n",
    "# Function: For visualizing relative similarity between curves\n",
    "\n"
   ]
  },
  {
   "cell_type": "code",
   "execution_count": 69,
   "id": "a2928b1c",
   "metadata": {},
   "outputs": [
    {
     "data": {
      "text/plain": [
       "[<matplotlib.lines.Line2D at 0x2d48e75b670>]"
      ]
     },
     "execution_count": 69,
     "metadata": {},
     "output_type": "execute_result"
    },
    {
     "data": {
      "image/png": "[encoded data removed]",
      "text/plain": [
       "<Figure size 432x288 with 1 Axes>"
      ]
     },
     "metadata": {
      "needs_background": "light"
     },
     "output_type": "display_data"
    }
   ],
   "source": [
    "# Curve from pointgroup\n",
    "data_pointgroup1 = [[0,2], [5,0], [10,10], [15,0], [20,10], [25, 0], [30, 20], [35, 15], [45, 0], [50, 50]]\n",
    "data_pointgroup4 = [[0,3], [5,1], [10,11], [15,1], [20,11], [25, 1], [30, 21], [35, 16], [45, 1]]\n",
    "data_pointgroup5 = [[0,3], [5,0], [10,10], [15,0], [20,10], [25, 0], [30, 20], [35, 15], [45, 0], [50, 50]]\n",
    "data_pointgroup6 = [[-1,2],[0,2], [5,0], [10,10], [15,0], [20,10], [25, 0], [30, 20], [35, 15], [45, 0], [50, 50]]\n",
    "\n",
    "data_pointgroup7 = [[0,0], [2,0], [4,0], [6,0]]\n",
    "data_pointgroup8 = [[0,0], [4,0], [6,0]]\n",
    "data_pointgroup9 = [[0,0], [1,0], [4,0], [6,0]]\n",
    "\n",
    "\n",
    "\n",
    "data_pointgroup2 = [[0,6], [8,1], [11,12], [13,5], [15,20], [18, 7], [25, 2], [32, 20], [40, 30], [45, 60]]\n",
    "data_pointgroup3 = [[-1,5], [6,10], [9,28], [10,50], [22,60], [23, 2], [28, -1], [30, 15], [35, 35], [40, 0]]\n",
    "\n",
    "curve1 = []\n",
    "for i in range(len(data_pointgroup1)):\n",
    "    p = Point(data_pointgroup1[i][0], data_pointgroup1[i][1])\n",
    "    curve1.append(p)\n",
    "curve1\n",
    "x1 = [i.x for i in curve1]\n",
    "y1 = [i.y for i in curve1]\n",
    "plt.plot(x1, y1, linestyle=\"dotted\", marker=\"o\")\n",
    "\n",
    "\n",
    "curve2 = []\n",
    "for i in range(len(data_pointgroup2)):\n",
    "    p = Point(data_pointgroup2[i][0], data_pointgroup2[i][1])\n",
    "    curve2.append(p)\n",
    "curve2\n",
    "x2 = [i.x for i in curve2]\n",
    "y2 = [i.y for i in curve2]\n",
    "plt.plot(x2, y2, linestyle=\"dotted\", marker=\"o\")\n",
    "\n",
    "curve3 = []\n",
    "for i in range(len(data_pointgroup3)):\n",
    "    p = Point(data_pointgroup3[i][0], data_pointgroup3[i][1])\n",
    "    curve3.append(p)\n",
    "curve3\n",
    "x3 = [i.x for i in curve3]\n",
    "y3 = [i.y for i in curve3]\n",
    "plt.plot(x3, y3, linestyle=\"dotted\", marker=\"o\")\n",
    "\n",
    "curve4 = []\n",
    "for i in range(len(data_pointgroup4)):\n",
    "    p = Point(data_pointgroup4[i][0], data_pointgroup4[i][1])\n",
    "    curve4.append(p)\n",
    "curve4\n",
    "x4 = [i.x for i in curve4]\n",
    "y4 = [i.y for i in curve4]\n",
    "plt.plot(x4, y4, linestyle=\"dotted\", marker=\"o\")\n"
   ]
  },
  {
   "cell_type": "code",
   "execution_count": 34,
   "id": "8bb71189",
   "metadata": {},
   "outputs": [],
   "source": [
    "from __future__ import division\n",
    "import numpy as np\n",
    "from scipy.spatial import distance\n",
    "# from scipy.spatial import minkowski_distance"
   ]
  },
  {
   "cell_type": "code",
   "execution_count": 39,
   "id": "49f1f9b3",
   "metadata": {},
   "outputs": [],
   "source": [
    "def dtw(exp_data, num_data, metric='euclidean'):\n",
    "    c = distance.cdist(exp_data, num_data, metric=metric)\n",
    "\n",
    "    d = np.zeros(c.shape)\n",
    "    d[0, 0] = c[0, 0]\n",
    "    n, m = c.shape\n",
    "    for i in range(1, n):\n",
    "        d[i, 0] = d[i-1, 0] + c[i, 0]\n",
    "    for j in range(1, m):\n",
    "        d[0, j] = d[0, j-1] + c[0, j]\n",
    "    for i in range(1, n):\n",
    "        for j in range(1, m):\n",
    "            d[i, j] = c[i, j] + min((d[i-1, j], d[i, j-1], d[i-1, j-1]))\n",
    "    return d[-1, -1], d\n",
    "\n",
    "def dtw_path(d):\n",
    "    path = []\n",
    "    i, j = d.shape\n",
    "    i = i - 1\n",
    "    j = j - 1\n",
    "    path.append((i, j))\n",
    "    while i > 0 or j > 0:\n",
    "        if i == 0:\n",
    "            j = j - 1\n",
    "        elif j == 0:\n",
    "            i = i - 1\n",
    "        else:\n",
    "            temp_step = min([d[i-1, j], d[i, j-1], d[i-1, j-1]])\n",
    "            if d[i-1, j] == temp_step:\n",
    "                i = i - 1\n",
    "            elif d[i, j-1] == temp_step:\n",
    "                j = j - 1\n",
    "            else:\n",
    "                i = i - 1\n",
    "                j = j - 1\n",
    "        path.append((i, j))\n",
    "    path = np.array(path)\n",
    "    # reverse the order of path, such that it starts with [0, 0]\n",
    "    return path[::-1]"
   ]
  },
  {
   "cell_type": "code",
   "execution_count": 42,
   "id": "547eef15",
   "metadata": {},
   "outputs": [],
   "source": [
    " r,d =  dtw(data_pointgroup1, data_pointgroup2, metric = 'euclidean')"
   ]
  },
  {
   "cell_type": "code",
   "execution_count": 44,
   "id": "892e55f2",
   "metadata": {},
   "outputs": [
    {
     "data": {
      "image/png": "[encoded data removed]",
      "text/plain": [
       "<Figure size 432x288 with 2 Axes>"
      ]
     },
     "metadata": {
      "needs_background": "light"
     },
     "output_type": "display_data"
    }
   ],
   "source": [
    "path = dtw_path(d)\n",
    "import matplotlib.pyplot as plt\n",
    "plt.figure()\n",
    "plt.imshow(d.T, origin='lower')\n",
    "plt.plot(path[:, 0], path[:, 1], '-k')\n",
    "plt.colorbar()\n",
    "plt.show()"
   ]
  },
  {
   "cell_type": "code",
   "execution_count": 45,
   "id": "16ac933c",
   "metadata": {},
   "outputs": [
    {
     "data": {
      "text/plain": [
       "(80.99450604160096,\n",
       " array([[  4.        ,  12.06225775,  26.9283265 ,  40.26999056,\n",
       "          63.70073959,  82.38228128, 107.38228128, 144.09740078,\n",
       "         192.92362324, 266.33343185],\n",
       "        [ 11.81024968,   7.16227766,  20.57868553,  30.01266666,\n",
       "          52.37334643,  67.13816949,  87.23792073, 120.83851597,\n",
       "         166.93623825, 239.04726376],\n",
       "        [ 22.58057929,  16.38182212,   9.39834564,  15.22929753,\n",
       "          26.40963742,  34.95364117,  51.95364117,  76.11973311,\n",
       "         112.17524587, 173.20802395],\n",
       "        [ 38.73607371,  23.45288993,  22.04745628,  14.78351044,\n",
       "          34.78351044,  34.02541053,  44.22344955,  70.47225905,\n",
       "         109.52350743, 176.60554675],\n",
       "        [ 59.13215177,  38.45288993,  31.26700074,  23.38583571,\n",
       "          25.96385033,  29.56940161,  39.00338274,  54.62388209,\n",
       "          82.90815334, 138.80985278],\n",
       "        [ 84.84207203,  55.4822763 ,  49.70608965,  36.38583571,\n",
       "          45.74651549,  35.86334527,  31.56940161,  52.75902171,\n",
       "          86.30004137, 146.15370654],\n",
       "        [117.94796274,  84.55116   ,  70.32161778,  59.05740381,\n",
       "          51.38583571,  53.55515128,  50.2509433 ,  33.56940161,\n",
       "          47.71153723,  90.43155596],\n",
       "        [154.08658474, 114.96497265,  94.50839102,  83.22349576,\n",
       "          72.00136384,  70.17412994,  66.65216277,  39.4003535 ,\n",
       "          49.38078991,  93.80925952],\n",
       "        [199.4848226 , 151.9784837 , 130.56390378, 115.61176524,\n",
       "         108.05687659,  98.0667813 ,  86.75191401,  63.25407439,\n",
       "          69.81416615, 109.38078991],\n",
       "        [266.08812582, 216.5152949 , 185.01571734, 173.86981189,\n",
       "         154.15459888, 151.66715443, 140.87215052,  98.23978576,\n",
       "          85.61475416,  80.99450604]]))"
      ]
     },
     "execution_count": 45,
     "metadata": {},
     "output_type": "execute_result"
    }
   ],
   "source": [
    "dtw(data_pointgroup1, data_pointgroup2, metric = 'euclidean')"
   ]
  },
  {
   "cell_type": "code",
   "execution_count": 47,
   "id": "f62cfab9",
   "metadata": {},
   "outputs": [
    {
     "data": {
      "text/plain": [
       "(218.51017169784328,\n",
       " array([[  3.16227766,  13.16227766,  40.67591064,  89.70651333,\n",
       "         151.73876301, 174.73876301, 202.89901869, 235.59458414,\n",
       "         283.69863802, 323.74860681],\n",
       "        [ 10.97252734,  13.21215328,  41.44654891,  90.92528875,\n",
       "         152.06836064, 169.84953329, 192.87126215, 222.02602163,\n",
       "         268.12374391, 303.12374391],\n",
       "        [ 23.05557331,  14.97252734,  31.23990966,  71.23990966,\n",
       "         122.65975019, 137.92408771, 159.01911082, 179.63463895,\n",
       "         214.98997801, 246.61275461],\n",
       "        [ 39.81862792,  28.42615138,  43.60816946,  81.48928776,\n",
       "         131.6468629 , 130.90596144, 143.94436625, 165.15756968,\n",
       "         205.46885843, 230.46885843],\n",
       "        [ 61.40566107,  42.42615138,  49.52117449,  84.83922572,\n",
       "         131.52927178, 139.44996518, 144.50743195, 155.12470614,\n",
       "         184.27946561, 206.64014539],\n",
       "        [ 87.88206566,  63.89706194,  74.67518238, 101.72270704,\n",
       "         144.9141789 , 134.3576989 , 137.51997656, 153.33136486,\n",
       "         189.73191431, 199.27946561],\n",
       "        [122.32041637,  89.89706194,  86.36926699, 110.73069513,\n",
       "         142.51486315, 153.67090682, 155.45272201, 142.51997656,\n",
       "         158.33136486, 180.69204464],\n",
       "        [159.68349976, 119.32493988, 115.4381507 , 129.38089333,\n",
       "         157.57084885, 160.20666916, 171.13515601, 147.51997656,\n",
       "         162.51997656, 174.14275316],\n",
       "        [205.95444096, 159.58658415, 161.0451677 , 176.47092878,\n",
       "         193.63818863, 179.66157088, 177.23605553, 168.73318   ,\n",
       "         183.92052601, 167.51997656],\n",
       "        [273.96914526, 219.05085914, 206.11614465, 201.0451677 ,\n",
       "         206.20306627, 234.73425013, 232.77883183, 209.04446874,\n",
       "         189.94638343, 218.5101717 ]]))"
      ]
     },
     "execution_count": 47,
     "metadata": {},
     "output_type": "execute_result"
    }
   ],
   "source": [
    "dtw(data_pointgroup1, data_pointgroup3, metric = 'euclidean')"
   ]
  },
  {
   "cell_type": "code",
   "execution_count": 49,
   "id": "3d9e5523",
   "metadata": {},
   "outputs": [
    {
     "data": {
      "image/png": "[encoded data removed]",
      "text/plain": [
       "<Figure size 432x288 with 2 Axes>"
      ]
     },
     "metadata": {
      "needs_background": "light"
     },
     "output_type": "display_data"
    }
   ],
   "source": [
    "r1,d1 =  dtw(data_pointgroup1, data_pointgroup3, metric = 'euclidean')\n",
    "path1 = dtw_path(d1)\n",
    "import matplotlib.pyplot as plt\n",
    "plt.figure()\n",
    "plt.imshow(d1.T, origin='lower')\n",
    "plt.plot(path1[:, 0], path1[:, 1], '-k')\n",
    "plt.colorbar()\n",
    "plt.show()"
   ]
  },
  {
   "cell_type": "code",
   "execution_count": 50,
   "id": "2e91eebc",
   "metadata": {},
   "outputs": [
    {
     "data": {
      "text/plain": [
       "(0.0,\n",
       " array([[  0.        ,   5.38516481,  18.19141328,  33.32415923,\n",
       "          54.86481846,  79.94469087, 114.93040224, 152.26671164,\n",
       "         197.31113416, 266.62202797],\n",
       "        [  5.38516481,   0.        ,  11.18033989,  21.18033989,\n",
       "          39.20809626,  59.20809626,  91.22371745, 124.76473711,\n",
       "         164.76473711, 232.03285735],\n",
       "        [ 18.19141328,  11.18033989,   0.        ,  11.18033989,\n",
       "          21.18033989,  39.20809626,  61.56877604,  87.06387361,\n",
       "         123.46442305, 180.03296555],\n",
       "        [ 33.32415923,  21.18033989,  11.18033989,   0.        ,\n",
       "          11.18033989,  21.18033989,  46.18033989,  71.18033989,\n",
       "         101.18033989, 162.21311797],\n",
       "        [ 54.86481846,  39.20809626,  21.18033989,  11.18033989,\n",
       "           0.        ,  11.18033989,  25.32247551,  41.13386381,\n",
       "          68.05968785, 118.05968785],\n",
       "        [ 79.94469087,  59.20809626,  39.20809626,  21.18033989,\n",
       "          11.18033989,   0.        ,  20.61552813,  38.64328451,\n",
       "          58.64328451, 114.54498394],\n",
       "        [114.93040224,  91.22371745,  61.56877604,  46.18033989,\n",
       "          25.32247551,  20.61552813,   0.        ,   7.07106781,\n",
       "          32.07106781,  68.12658057],\n",
       "        [152.26671164, 124.76473711,  87.06387361,  71.18033989,\n",
       "          41.13386381,  38.64328451,   7.07106781,   0.        ,\n",
       "          18.02775638,  56.10662191],\n",
       "        [197.31113416, 164.76473711, 123.46442305, 101.18033989,\n",
       "          68.05968785,  58.64328451,  32.07106781,  18.02775638,\n",
       "           0.        ,  50.24937811],\n",
       "        [266.62202797, 232.03285735, 180.03296555, 162.21311797,\n",
       "         118.05968785, 114.54498394,  68.12658057,  56.10662191,\n",
       "          50.24937811,   0.        ]]))"
      ]
     },
     "execution_count": 50,
     "metadata": {},
     "output_type": "execute_result"
    }
   ],
   "source": [
    "dtw(data_pointgroup1, data_pointgroup1, metric = 'euclidean')"
   ]
  },
  {
   "cell_type": "code",
   "execution_count": 54,
   "id": "c18cff3a",
   "metadata": {},
   "outputs": [
    {
     "data": {
      "text/plain": [
       "(58.25444142409901,\n",
       " array([[  1.        ,   6.09901951,  19.55264356,  34.58593994,\n",
       "          56.51765214,  81.53764414, 117.04820595, 154.7443596 ,\n",
       "         199.75546934],\n",
       "        [  6.83095189,   2.        ,  14.08304597,  24.13292159,\n",
       "          42.73399683,  62.75898123,  95.40863666, 129.40863666,\n",
       "         169.42113471],\n",
       "        [ 19.03750751,  12.29563014,   3.        ,  13.29563014,\n",
       "          23.34550576,  40.83836145,  63.66378587,  89.37370613,\n",
       "         125.51232813],\n",
       "        [ 34.33456605,  22.34550576,  15.08304597,   4.        ,\n",
       "          16.08304597,  26.13292159,  51.9398974 ,  77.55239435,\n",
       "         107.56905639],\n",
       "        [ 55.52418615,  39.83836145,  25.13292159,  14.29563014,\n",
       "           5.        ,  15.29563014,  30.16169889,  46.31719331,\n",
       "          72.88785382],\n",
       "        [ 80.70354278,  59.86334584,  43.73399683,  24.34550576,\n",
       "          17.08304597,   6.        ,  27.58703314,  46.45499541,\n",
       "          66.3421777 ],\n",
       "        [115.18542207,  91.26398278,  65.66570903,  48.55294264,\n",
       "          30.53667002,  25.6468827 ,   7.        ,  13.40312424,\n",
       "          37.61056111],\n",
       "        [152.18542207, 124.36987349,  90.98368683,  72.96605387,\n",
       "          46.06084472,  42.85153324,  14.81024968,   8.        ,\n",
       "          25.20465053],\n",
       "        [197.28531121, 164.38237154, 127.67155949, 102.98271591,\n",
       "          73.37384528,  62.87651763,  40.61722548,  26.86796226,\n",
       "           9.        ],\n",
       "        [265.90746507, 230.91056105, 183.53747038, 163.19899278,\n",
       "         122.57750368, 117.88560779,  75.84505538,  64.02977062,\n",
       "          58.25444142]]))"
      ]
     },
     "execution_count": 54,
     "metadata": {},
     "output_type": "execute_result"
    }
   ],
   "source": [
    "dtw(data_pointgroup1, data_pointgroup4, metric = 'euclidean')"
   ]
  },
  {
   "cell_type": "code",
   "execution_count": 57,
   "id": "8d905cbd",
   "metadata": {},
   "outputs": [
    {
     "data": {
      "text/plain": [
       "(1.0,\n",
       " array([[  1.        ,   6.38516481,  19.19141328,  34.32415923,\n",
       "          55.86481846,  80.94469087, 115.93040224, 153.26671164,\n",
       "         198.31113416, 267.62202797],\n",
       "        [  6.83095189,   1.        ,  12.18033989,  22.18033989,\n",
       "          40.20809626,  60.20809626,  92.22371745, 125.76473711,\n",
       "         165.76473711, 233.03285735],\n",
       "        [ 19.03750751,  12.18033989,   1.        ,  12.18033989,\n",
       "          22.18033989,  40.20809626,  62.56877604,  88.06387361,\n",
       "         124.46442305, 181.03296555],\n",
       "        [ 34.33456605,  22.18033989,  12.18033989,   1.        ,\n",
       "          12.18033989,  22.18033989,  47.18033989,  72.18033989,\n",
       "         102.18033989, 163.21311797],\n",
       "        [ 55.52418615,  40.20809626,  22.18033989,  12.18033989,\n",
       "           1.        ,  12.18033989,  26.32247551,  42.13386381,\n",
       "          69.05968785, 119.05968785],\n",
       "        [ 80.70354278,  60.20809626,  40.20809626,  22.18033989,\n",
       "          12.18033989,   1.        ,  21.61552813,  39.64328451,\n",
       "          59.64328451, 115.54498394],\n",
       "        [115.18542207,  92.22371745,  62.56877604,  47.18033989,\n",
       "          26.32247551,  21.61552813,   1.        ,   8.07106781,\n",
       "          33.07106781,  69.12658057],\n",
       "        [152.18542207, 125.76473711,  88.06387361,  72.18033989,\n",
       "          42.13386381,  39.64328451,   8.07106781,   1.        ,\n",
       "          19.02775638,  57.10662191],\n",
       "        [197.28531121, 165.76473711, 124.46442305, 102.18033989,\n",
       "          69.05968785,  59.64328451,  33.07106781,  19.02775638,\n",
       "           1.        ,  51.24937811],\n",
       "        [265.90746507, 233.03285735, 181.03296555, 163.21311797,\n",
       "         119.05968785, 115.54498394,  69.12658057,  57.10662191,\n",
       "          51.24937811,   1.        ]]))"
      ]
     },
     "execution_count": 57,
     "metadata": {},
     "output_type": "execute_result"
    }
   ],
   "source": [
    "dtw(data_pointgroup1, data_pointgroup5, metric = 'euclidean')"
   ]
  },
  {
   "cell_type": "code",
   "execution_count": 62,
   "id": "5fd99157",
   "metadata": {},
   "outputs": [
    {
     "data": {
      "text/plain": [
       "(1.0,\n",
       " array([[  1.        ,   7.32455532,  20.92602583,  37.05054133,\n",
       "          59.52274638,  85.599556  , 121.44645266, 159.72177108,\n",
       "         205.76522881, 275.80093399],\n",
       "        [  1.        ,   6.38516481,  19.19141328,  34.32415923,\n",
       "          55.86481846,  80.94469087, 115.93040224, 153.26671164,\n",
       "         198.31113416, 267.62202797],\n",
       "        [  6.38516481,   1.        ,  12.18033989,  22.18033989,\n",
       "          40.20809626,  60.20809626,  92.22371745, 125.76473711,\n",
       "         165.76473711, 233.03285735],\n",
       "        [ 19.19141328,  12.18033989,   1.        ,  12.18033989,\n",
       "          22.18033989,  40.20809626,  62.56877604,  88.06387361,\n",
       "         124.46442305, 181.03296555],\n",
       "        [ 34.32415923,  22.18033989,  12.18033989,   1.        ,\n",
       "          12.18033989,  22.18033989,  47.18033989,  72.18033989,\n",
       "         102.18033989, 163.21311797],\n",
       "        [ 55.86481846,  40.20809626,  22.18033989,  12.18033989,\n",
       "           1.        ,  12.18033989,  26.32247551,  42.13386381,\n",
       "          69.05968785, 119.05968785],\n",
       "        [ 80.94469087,  60.20809626,  40.20809626,  22.18033989,\n",
       "          12.18033989,   1.        ,  21.61552813,  39.64328451,\n",
       "          59.64328451, 115.54498394],\n",
       "        [115.93040224,  92.22371745,  62.56877604,  47.18033989,\n",
       "          26.32247551,  21.61552813,   1.        ,   8.07106781,\n",
       "          33.07106781,  69.12658057],\n",
       "        [153.26671164, 125.76473711,  88.06387361,  72.18033989,\n",
       "          42.13386381,  39.64328451,   8.07106781,   1.        ,\n",
       "          19.02775638,  57.10662191],\n",
       "        [198.31113416, 165.76473711, 124.46442305, 102.18033989,\n",
       "          69.05968785,  59.64328451,  33.07106781,  19.02775638,\n",
       "           1.        ,  51.24937811],\n",
       "        [267.62202797, 233.03285735, 181.03296555, 163.21311797,\n",
       "         119.05968785, 115.54498394,  69.12658057,  57.10662191,\n",
       "          51.24937811,   1.        ]]))"
      ]
     },
     "execution_count": 62,
     "metadata": {},
     "output_type": "execute_result"
    }
   ],
   "source": [
    "dtw(data_pointgroup6, data_pointgroup1, metric = 'euclidean')"
   ]
  },
  {
   "cell_type": "code",
   "execution_count": 68,
   "id": "04237f6b",
   "metadata": {},
   "outputs": [
    {
     "data": {
      "image/png": "[encoded data removed]",
      "text/plain": [
       "<Figure size 432x288 with 2 Axes>"
      ]
     },
     "metadata": {
      "needs_background": "light"
     },
     "output_type": "display_data"
    }
   ],
   "source": [
    "dtw(data_pointgroup7, data_pointgroup8, metric = 'euclidean')\n",
    "r2,d2 =  dtw(data_pointgroup7, data_pointgroup8, metric = 'euclidean')\n",
    "path2 = dtw_path(d2)\n",
    "import matplotlib.pyplot as plt\n",
    "plt.figure()\n",
    "plt.imshow(d2.T, origin='lower')\n",
    "plt.plot(path2[:, 0], path2[:, 1], '-k')\n",
    "plt.colorbar()\n",
    "plt.show()"
   ]
  },
  {
   "cell_type": "code",
   "execution_count": 71,
   "id": "049496db",
   "metadata": {},
   "outputs": [
    {
     "data": {
      "image/png": "[encoded data removed]",
      "text/plain": [
       "<Figure size 432x288 with 2 Axes>"
      ]
     },
     "metadata": {
      "needs_background": "light"
     },
     "output_type": "display_data"
    },
    {
     "data": {
      "text/plain": [
       "1.0"
      ]
     },
     "execution_count": 71,
     "metadata": {},
     "output_type": "execute_result"
    }
   ],
   "source": [
    "dtw(data_pointgroup8, data_pointgroup9, metric = 'euclidean')\n",
    "r2,d2 =  dtw(data_pointgroup8, data_pointgroup9, metric = 'euclidean')\n",
    "path2 = dtw_path(d2)\n",
    "import matplotlib.pyplot as plt\n",
    "plt.figure()\n",
    "plt.imshow(d2.T, origin='lower')\n",
    "plt.plot(path2[:, 0], path2[:, 1], '-k')\n",
    "plt.colorbar()\n",
    "plt.show()\n",
    "r2"
   ]
  }
 ],
 "metadata": {
  "kernelspec": {
   "display_name": "Python 3 (ipykernel)",
   "language": "python",
   "name": "python3"
  },
  "language_info": {
   "codemirror_mode": {
    "name": "ipython",
    "version": 3
   },
   "file_extension": ".py",
   "mimetype": "text/x-python",
   "name": "python",
   "nbconvert_exporter": "python",
   "pygments_lexer": "ipython3",
   "version": "3.11.3"
  }
 },
 "nbformat": 4,
 "nbformat_minor": 5
}
