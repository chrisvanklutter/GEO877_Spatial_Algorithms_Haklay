{
 "cells": [
  {
   "cell_type": "code",
   "execution_count": 16,
   "metadata": {
    "id": "45Eqnt5sLkwQ"
   },
   "outputs": [],
   "source": [
    "from geospatial import *"
   ]
  },
  {
   "cell_type": "code",
   "execution_count": 10,
   "metadata": {},
   "outputs": [],
   "source": [
    "# Uncomment the next line if nbimporter is not yet installed :)\n",
    "#!pip install nbimporter\n",
    "\n",
    "import nbimporter\n",
    "from Buffer import buffer\n",
    "from data_Processing import MotorwaySegment, MotorWayLine,linestring_to_coords, coords_to_point_list, transform_segments\n",
    "\n",
    "import pandas as pd\n",
    "import numpy as np\n",
    "import math\n",
    "from numpy import sqrt, radians, arcsin, sin, cos\n",
    "import matplotlib.pyplot as plt\n",
    "\n",
    "# Currently needed for Preprocessing and Buffer\n",
    "import shapely\n"
   ]
  },
  {
   "cell_type": "code",
   "execution_count": 13,
   "metadata": {},
   "outputs": [],
   "source": [
    "# Import Pre-processed Data\n",
    "highway_nodes = "
   ]
  },
  {
   "cell_type": "code",
   "execution_count": null,
   "metadata": {
    "tags": []
   },
   "outputs": [],
   "source": [
    "#Create buffer points around each node with a distance of 10m\n",
    "node_buffer = buffer_points(highway_nodes, 1000)\n",
    "#Create a list of lists as input into the buffer algorithm\n",
    "node_buffer_list = [[node.x, node.y] for node in node_buffer]"
   ]
  },
  {
   "cell_type": "code",
   "execution_count": null,
   "metadata": {
    "jupyter": {
     "source_hidden": true
    },
    "tags": []
   },
   "outputs": [],
   "source": [
    "#Visualizing buffer points\n",
    "xs = [i.x for i in node_buffer]\n",
    "ys = [i.y for i in node_buffer]\n",
    "\n",
    "fig, ax0 = plt.subplots()\n",
    "\n",
    "ax0.scatter(xs, ys, color='teal')\n",
    "ax0.scatter([point.x for point in highway_nodes], [point.y for point in highway_nodes], color = 'red', s=0.3)\n",
    "\n",
    "ax0.set_xlabel('X')\n",
    "ax0.set_ylabel('Y')\n",
    "ax0.set_title('Point Buffers in Distance of 10m around Nodes')\n",
    "ax0.set_aspect('equal')"
   ]
  },
  {
   "cell_type": "code",
   "execution_count": null,
   "metadata": {},
   "outputs": [],
   "source": [
    "# Create ConcaveHull from node buffer list\n",
    "hull_object = ConcaveHull(node_buffer_list,3)\n",
    "hull = hull_object.calculate()"
   ]
  },
  {
   "cell_type": "code",
   "execution_count": null,
   "metadata": {
    "jupyter": {
     "source_hidden": true
    },
    "tags": []
   },
   "outputs": [],
   "source": [
    "# Visualization of Concave Hull\n",
    "xs = [elem[0] for elem in node_buffer_list]\n",
    "ys = [elem[1] for elem in node_buffer_list]\n",
    "fig, ax0 = plt.subplots(figsize = (50, 80))\n",
    "\n",
    "ax0.scatter(xs, ys, color='teal')\n",
    "ax0.plot(hull[:, 0], hull[:, 1], color = 'red')\n",
    "\n",
    "ax0.set_xlabel('X')\n",
    "ax0.set_ylabel('Y')\n",
    "ax0.set_title('Point Buffers')"
   ]
  }
 ],
 "metadata": {
  "colab": {
   "authorship_tag": "ABX9TyMIu+jQW9UtbCOdtqVudmcZ",
   "include_colab_link": true,
   "provenance": []
  },
  "kernelspec": {
   "display_name": "Python 3 (ipykernel)",
   "language": "python",
   "name": "python3"
  },
  "language_info": {
   "codemirror_mode": {
    "name": "ipython",
    "version": 3
   },
   "file_extension": ".py",
   "mimetype": "text/x-python",
   "name": "python",
   "nbconvert_exporter": "python",
   "pygments_lexer": "ipython3",
   "version": "3.11.3"
  }
 },
 "nbformat": 4,
 "nbformat_minor": 4
}
