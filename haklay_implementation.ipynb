{
  "nbformat": 4,
  "nbformat_minor": 0,
  "metadata": {
    "colab": {
      "provenance": [],
      "authorship_tag": "ABX9TyMIu+jQW9UtbCOdtqVudmcZ",
      "include_colab_link": true
    },
    "kernelspec": {
      "name": "python3",
      "display_name": "Python 3"
    },
    "language_info": {
      "name": "python"
    }
  },
  "cells": [
    {
      "cell_type": "markdown",
      "metadata": {
        "id": "view-in-github",
        "colab_type": "text"
      },
      "source": [
        "<a href=\"https://colab.research.google.com/github/chrisvanklutter/GEO877_Spatial_Algorithms_Haklay/blob/main/haklay_implementation.ipynb\" target=\"_parent\"><img src=\"https://colab.research.google.com/assets/colab-badge.svg\" alt=\"Open In Colab\"/></a>"
      ]
    },
    {
      "cell_type": "code",
      "source": [
        "import os\n",
        "os.getcwd()"
      ],
      "metadata": {
        "colab": {
          "base_uri": "https://localhost:8080/",
          "height": 35
        },
        "id": "6LBo1dIAL6-7",
        "outputId": "91d86d52-4693-47f8-de69-1959c5fddcee"
      },
      "execution_count": 1,
      "outputs": [
        {
          "output_type": "execute_result",
          "data": {
            "text/plain": [
              "'/content'"
            ],
            "application/vnd.google.colaboratory.intrinsic+json": {
              "type": "string"
            }
          },
          "metadata": {},
          "execution_count": 1
        }
      ]
    },
    {
      "cell_type": "code",
      "execution_count": 8,
      "metadata": {
        "colab": {
          "base_uri": "https://localhost:8080/"
        },
        "id": "SpeaWDq3KA-i",
        "outputId": "7a4afe9c-f947-40e6-dba3-945dcfff4311"
      },
      "outputs": [
        {
          "output_type": "stream",
          "name": "stdout",
          "text": [
            "fatal: destination path 'GEO877_Spatial_Algorithms_Haklay' already exists and is not an empty directory.\n"
          ]
        }
      ],
      "source": [
        "!git clone https://github.com/chrisvanklutter/GEO877_Spatial_Algorithms_Haklay.git"
      ]
    },
    {
      "cell_type": "code",
      "source": [
        "%cd /content/GEO877_Spatial_Algorithms_Haklay/\n"
      ],
      "metadata": {
        "colab": {
          "base_uri": "https://localhost:8080/"
        },
        "id": "nu5bWERZLLDx",
        "outputId": "8d4ce9f5-5185-4212-d75e-05551d2e6546"
      },
      "execution_count": 14,
      "outputs": [
        {
          "output_type": "stream",
          "name": "stdout",
          "text": [
            "/content/GEO877_Spatial_Algorithms_Haklay\n"
          ]
        }
      ]
    },
    {
      "cell_type": "code",
      "source": [
        "from geospatial import *"
      ],
      "metadata": {
        "id": "45Eqnt5sLkwQ"
      },
      "execution_count": 16,
      "outputs": []
    }
  ]
}